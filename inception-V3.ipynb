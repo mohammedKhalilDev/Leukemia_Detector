{
 "cells": [
  {
   "cell_type": "markdown",
   "id": "09c8251f",
   "metadata": {},
   "source": [
    "# Outline\n",
    "- [Part 1:  import packages](#1) \n",
    "    \n",
    "    \n",
    "- [Part 2:  prepare functions](#2)\n",
    "\n",
    "    - [2.1  create train & validation generators function](#2.1)\n",
    "    - [2.2  build model function](#2.2)\n",
    "    - [2.3  learning rate scadular](#2.3)\n",
    "    - [2.4  model training function](#2.4)\n",
    "    - [2.5  load test data](#2.5)\n",
    "    - [2.6  draw training graph function](#2.6)\n",
    "    - [2.7  draw confusion_matrix function](#2.7)\n",
    "    - [2.8  print classification report function](#2.8)\n",
    "    \n",
    "    \n",
    "- [Part 3:  train the model on the original data](#3)\n",
    "\n",
    "    - [3.1  model on imbalanced data](#3.1)\n",
    "        - [3.1.1  model architecture](#3.1.1)\n",
    "        - [3.1.2  train the model](#3.1.2)\n",
    "        - [3.1.3  train results](#3.1.3)\n",
    "        - [3.1.4  test results](#3.1.4)\n",
    "        \n",
    "    - [3.2  model on oversampled data](#3.2)\n",
    "        - [3.2.1  model architecture](#3.2.1)\n",
    "        - [3.2.2  train the model](#3.2.2)\n",
    "        - [3.2.3  train results](#3.2.3)\n",
    "        - [3.2.4  test results](#3.2.4)\n",
    "        \n",
    "    - [3.3  model on undersampled data](#3.3)\n",
    "        - [3.3.1  model architecture](#3.3.1)\n",
    "        - [3.3.2  train the model](#3.3.2)\n",
    "        - [3.3.3  train results](#3.3.3)\n",
    "        - [3.3.4  test results](#3.3.4)\n",
    "\n",
    "- [Part 4:  train the model on the paper preprocessed data](#4)\n",
    "\n",
    "    - [4.1  model on imbalanced data](#4.1)\n",
    "        - [4.1.1  model architecture](#4.1.1)\n",
    "        - [4.1.2  train the model](#4.1.2)\n",
    "        - [4.1.3  train results](#4.1.3)\n",
    "        - [4.1.4  test results](#4.1.4)\n",
    "        \n",
    "    - [4.2  model on oversampled data](#4.2)\n",
    "        - [4.2.1  model architecture](#4.2.1)\n",
    "        - [4.2.2  train the model](#4.2.2)\n",
    "        - [4.2.3  train results](#4.2.3)\n",
    "        - [4.2.4  test results](#4.2.4)\n",
    "        \n",
    "    - [4.3  model on undersampled data](#4.3)\n",
    "        - [4.3.1  model architecture](#4.3.1)\n",
    "        - [4.3.2  train the model](#4.3.2)\n",
    "        - [4.3.3  train results](#4.3.3)\n",
    "        - [4.3.4  test results](#4.3.4)\n",
    "\n"
   ]
  },
  {
   "cell_type": "markdown",
   "id": "7093e963",
   "metadata": {},
   "source": [
    "<a name=\"1\"></a>\n",
    "##  <span style=\"color:blue\"> **import packages** </span>"
   ]
  },
  {
   "cell_type": "code",
   "execution_count": 9,
   "id": "8a449634",
   "metadata": {},
   "outputs": [
    {
     "name": "stderr",
     "output_type": "stream",
     "text": [
      "<frozen importlib._bootstrap>:219: RuntimeWarning: numpy.ufunc size changed, may indicate binary incompatibility. Expected 216 from C header, got 232 from PyObject\n",
      "<frozen importlib._bootstrap>:219: RuntimeWarning: numpy.ufunc size changed, may indicate binary incompatibility. Expected 216 from C header, got 232 from PyObject\n",
      "<frozen importlib._bootstrap>:219: RuntimeWarning: numpy.ufunc size changed, may indicate binary incompatibility. Expected 216 from C header, got 232 from PyObject\n"
     ]
    }
   ],
   "source": [
    "import numpy as np\n",
    "from tqdm import tqdm\n",
    "import glob\n",
    "import pickle\n",
    "import math\n",
    "#for images preprocessing\n",
    "# from sklearn.model_selection import train_test_split\n",
    "# import cv2\n",
    "# from skimage.feature import hog,canny\n",
    "# from skimage.color import rgb2gray\n",
    "\n",
    "#for model\n",
    "from tensorflow import keras\n",
    "import tensorflow as tf\n",
    "import tensorflow_hub as hub\n",
    "from tensorflow.keras.applications import InceptionV3\n",
    "from tensorflow.keras.models import Sequential\n",
    "from tensorflow.keras.layers import Dense,BatchNormalization,Dropout,Flatten\n",
    "from tensorflow.keras.callbacks import EarlyStopping, ModelCheckpoint,LearningRateScheduler\n",
    "from tensorflow.keras.preprocessing.image import ImageDataGenerator\n",
    "\n",
    "#for model evaluation and visualization\n",
    "from sklearn.metrics import confusion_matrix\n",
    "import seaborn as sn\n",
    "from sklearn.metrics import classification_report\n",
    "import matplotlib.pyplot as plt\n",
    "\n",
    "%matplotlib inline"
   ]
  },
  {
   "cell_type": "code",
   "execution_count": 10,
   "id": "92778543",
   "metadata": {},
   "outputs": [
    {
     "data": {
      "text/plain": [
       "True"
      ]
     },
     "execution_count": 10,
     "metadata": {},
     "output_type": "execute_result"
    }
   ],
   "source": [
    "# to avoid gpu errors\n",
    "from tensorflow.compat.v1 import ConfigProto\n",
    "from tensorflow.compat.v1 import InteractiveSession\n",
    "\n",
    "config = ConfigProto()\n",
    "config.gpu_options.allow_growth = True\n",
    "session = InteractiveSession(config=config)\n",
    "#to check if using the gpu\n",
    "tf.test.is_built_with_cuda()"
   ]
  },
  {
   "cell_type": "markdown",
   "id": "4ed0a9a8",
   "metadata": {},
   "source": [
    "<a name=\"2\"></a>\n",
    "##  <span style=\"color:blue\"> **prepare functions** </span>"
   ]
  },
  {
   "cell_type": "markdown",
   "id": "06d94fdf",
   "metadata": {},
   "source": [
    "<a name=\"2.1\"></a>"
   ]
  },
  {
   "cell_type": "code",
   "execution_count": 11,
   "id": "18366334",
   "metadata": {},
   "outputs": [],
   "source": [
    "\n",
    "# build train & validation generator \n",
    "def create_generators(train_path):\n",
    "    train_datagen  = ImageDataGenerator(\n",
    "                                        rescale=1 / 255.0,\n",
    "                                        rotation_range=30,\n",
    "                                        zoom_range = 0.2,\n",
    "                                        validation_split=0.2)\n",
    "\n",
    "    train_generator = train_datagen.flow_from_directory(\n",
    "        directory=train_path,\n",
    "        target_size=(224, 224),\n",
    "        batch_size=16,\n",
    "        class_mode=\"binary\",\n",
    "        subset='training',\n",
    "        shuffle=True,\n",
    "    )\n",
    "\n",
    "    valid_datagen=ImageDataGenerator(\n",
    "                                    rescale=1 / 255.0,\n",
    "                                    validation_split=0.2)\n",
    "\n",
    "    valid_generator = valid_datagen.flow_from_directory(\n",
    "        directory=train_path,\n",
    "        target_size=(224, 224),\n",
    "        batch_size=16,\n",
    "        class_mode=\"binary\",\n",
    "        subset='validation',\n",
    "    )\n",
    "    return train_generator ,valid_generator"
   ]
  },
  {
   "cell_type": "markdown",
   "id": "eac690e0",
   "metadata": {},
   "source": [
    "<a name=\"2.2\"></a>"
   ]
  },
  {
   "cell_type": "code",
   "execution_count": 12,
   "id": "d6b6137a",
   "metadata": {},
   "outputs": [],
   "source": [
    "# build the model\n",
    "def build_model():\n",
    "\n",
    "    base_model = InceptionV3(\n",
    "        include_top=False,\n",
    "        weights=\"imagenet\",\n",
    "        input_shape=(224,224,3),\n",
    "    )\n",
    "\n",
    "    \n",
    "    for layer in base_model.layers:\n",
    "        layer.trainable=True\n",
    "        \n",
    "    model=keras.Sequential([\n",
    "\n",
    "         base_model, \n",
    "        \n",
    "         Flatten(),\n",
    "         Dropout(0.5),\n",
    "         BatchNormalization(),\n",
    "         tf.keras.layers.Dense(units = 1, activation='sigmoid')\n",
    "\n",
    "    ])\n",
    "\n",
    "    return model"
   ]
  },
  {
   "cell_type": "markdown",
   "id": "deaa643a",
   "metadata": {},
   "source": [
    "<a name=\"2.3\"></a>"
   ]
  },
  {
   "cell_type": "code",
   "execution_count": 13,
   "id": "2c34f23e",
   "metadata": {},
   "outputs": [],
   "source": [
    "EPOCHS = 40\n",
    "\n",
    "LEARNING_RATE = 3e-5\n",
    "LR_START = 1e-8\n",
    "LR_MIN = 1e-8\n",
    "LR_MAX = LEARNING_RATE\n",
    "\n",
    "LR_RAMPUP_EPOCHS = 3\n",
    "LR_SUSTAIN_EPOCHS = 0\n",
    "N_CYCLES = .5\n",
    " "
   ]
  },
  {
   "cell_type": "code",
   "execution_count": 14,
   "id": "33c13c50",
   "metadata": {},
   "outputs": [],
   "source": [
    "# scadular for modifing learning rate during training\n",
    "def lrfn(epoch):\n",
    "    if epoch < LR_RAMPUP_EPOCHS:\n",
    "        lr = (LR_MAX - LR_START) / LR_RAMPUP_EPOCHS * epoch + LR_START\n",
    "    elif epoch < LR_RAMPUP_EPOCHS + LR_SUSTAIN_EPOCHS:\n",
    "        lr = LR_MAX\n",
    "    else:\n",
    "        progress = (epoch - LR_RAMPUP_EPOCHS - LR_SUSTAIN_EPOCHS) / (EPOCHS - LR_RAMPUP_EPOCHS - LR_SUSTAIN_EPOCHS)\n",
    "        lr = LR_MAX * (0.5 * (1.0 + tf.math.cos(math.pi * N_CYCLES * 2.0 * progress)))\n",
    "        if LR_MIN is not None:\n",
    "            lr = tf.math.maximum(LR_MIN, lr)\n",
    "            \n",
    "    return lr\n",
    "\n",
    "# def scheduler(epoch, lr):\n",
    "#     if epoch %2 != 0:\n",
    "#          return lr\n",
    "#     else:\n",
    "#          return lr* tf.math.exp(-0.1)\n",
    "# #         "
   ]
  },
  {
   "cell_type": "markdown",
   "id": "0c14d59d",
   "metadata": {},
   "source": [
    "<a name=\"2.4\"></a>"
   ]
  },
  {
   "cell_type": "code",
   "execution_count": 15,
   "id": "d87e7b62",
   "metadata": {},
   "outputs": [],
   "source": [
    "#train the model\n",
    "def train_model(model, train_generator, valid_generator):\n",
    "    \n",
    "    checkpoint_filepath = './inception_V3_model/checkpoint'\n",
    "    model_checkpoint_callback = ModelCheckpoint(\n",
    "    filepath=checkpoint_filepath,\n",
    "    save_weights_only=False,\n",
    "    monitor='val_loss',\n",
    "    mode='min',\n",
    "    save_best_only=True,\n",
    "    verbose=0)\n",
    "\n",
    "    callback = [LearningRateScheduler(lrfn),model_checkpoint_callback]\n",
    "    \n",
    "    model.compile(optimizer = tf.keras.optimizers.Adam(), loss = 'binary_crossentropy', metrics = ['accuracy'])\n",
    "    history= model.fit(train_generator ,validation_data=(valid_generator) ,epochs=EPOCHS,callbacks=callback)\n",
    "    return history"
   ]
  },
  {
   "cell_type": "markdown",
   "id": "9cc5e847",
   "metadata": {},
   "source": [
    "<a name=\"2.5\"></a>"
   ]
  },
  {
   "cell_type": "code",
   "execution_count": 40,
   "id": "0c639f2a",
   "metadata": {},
   "outputs": [],
   "source": [
    "# load test data\n",
    "x_test=pickle.load(open(\"D:/projects data/dataset/C-NMC_Leukemia/final/x_test.pkl\", 'rb'))\n",
    "y_test=pickle.load(open('D:/projects data/dataset/C-NMC_Leukemia/final/y_test.pkl', 'rb'))"
   ]
  },
  {
   "cell_type": "code",
   "execution_count": 7,
   "id": "a40a9341",
   "metadata": {},
   "outputs": [],
   "source": [
    "# test data for paper preprocessed\n",
    "x_test=pickle.load(open(\"D:/projects data/dataset/C-NMC_Leukemia/final/x_test_pre1.pkl\", 'rb'))\n",
    "y_test=pickle.load(open('D:/projects data/dataset/C-NMC_Leukemia/final/y_test.pkl', 'rb'))"
   ]
  },
  {
   "cell_type": "markdown",
   "id": "4ae1cde9",
   "metadata": {},
   "source": [
    "<a name=\"2.6\"></a>"
   ]
  },
  {
   "cell_type": "code",
   "execution_count": 16,
   "id": "461186f5",
   "metadata": {},
   "outputs": [],
   "source": [
    "# graph of (train & validation) (accuracy & loss) per training epochs\n",
    "def draw_train_graph(history):\n",
    "    acc = history.history['accuracy']\n",
    "    val_acc = history.history['val_accuracy']\n",
    "    loss = history.history['loss']\n",
    "    val_loss = history.history['val_loss']\n",
    "\n",
    "\n",
    "    import matplotlib.pyplot as plt\n",
    "\n",
    "    epochs = range(1, len(acc) + 1)\n",
    "\n",
    "    plt.plot(epochs, acc, label='Training acc')\n",
    "    plt.plot(epochs, val_acc, label='Validation acc')\n",
    "    plt.title('Training and validation accuracy')\n",
    "    plt.legend()\n",
    "\n",
    "    plt.figure()\n",
    "\n",
    "    plt.plot(epochs, loss, label='Training loss')\n",
    "    plt.plot(epochs, val_loss, label='Validation loss')\n",
    "    plt.title('Training and validation loss')\n",
    "    plt.legend()\n",
    "\n",
    "    plt.show()"
   ]
  },
  {
   "cell_type": "markdown",
   "id": "760ebdf0",
   "metadata": {},
   "source": [
    "<a name=\"2.7\"></a>"
   ]
  },
  {
   "cell_type": "code",
   "execution_count": 17,
   "id": "b5c9cf5e",
   "metadata": {},
   "outputs": [],
   "source": [
    "# draw the confusion_matrix for testing data \n",
    "def draw_confusion_matrix(model,x_test,y_test):\n",
    "\n",
    "    y_test_predict=model.predict(x_test)\n",
    "    y_test_predict = np.around(y_test_predict)\n",
    "    #Generate the confusion matrix\n",
    "    cf_matrix = confusion_matrix(y_test, y_test_predict)\n",
    "\n",
    "\n",
    "    plt.figure(figsize = (10,7))\n",
    "    sn.heatmap(cf_matrix, annot=True,cmap='Blues', fmt='g')\n",
    "    return y_test_predict"
   ]
  },
  {
   "cell_type": "markdown",
   "id": "63638485",
   "metadata": {},
   "source": [
    "<a name=\"2.8\"></a>"
   ]
  },
  {
   "cell_type": "code",
   "execution_count": 18,
   "id": "038e0c0e",
   "metadata": {},
   "outputs": [],
   "source": [
    "# print the classification_report for testing data \n",
    "def print_classification_report(y_test,  y_test_predict):\n",
    "    target_names = ['abnormal', 'normal']\n",
    "    print(classification_report(y_test,  y_test_predict,target_names=target_names))"
   ]
  },
  {
   "cell_type": "markdown",
   "id": "3faaecd8",
   "metadata": {},
   "source": [
    "<a name=\"3\"></a>\n",
    "##  <span style=\"color:blue\"> **train the model on the original data** </span>"
   ]
  },
  {
   "cell_type": "markdown",
   "id": "a77a0cc3",
   "metadata": {},
   "source": [
    "<a name=\"3.1\"></a>\n",
    "\n",
    "### on original imbalanced data"
   ]
  },
  {
   "cell_type": "code",
   "execution_count": 13,
   "id": "d6605926",
   "metadata": {},
   "outputs": [],
   "source": [
    "train_path='D:/projects data/dataset/C-NMC_Leukemia/final/original/imbalanced/training_data'"
   ]
  },
  {
   "cell_type": "code",
   "execution_count": 14,
   "id": "8dcd1700",
   "metadata": {},
   "outputs": [
    {
     "name": "stdout",
     "output_type": "stream",
     "text": [
      "Found 8017 images belonging to 2 classes.\n",
      "Found 2003 images belonging to 2 classes.\n"
     ]
    }
   ],
   "source": [
    "train_generator,valid_generator = create_generators(train_path)"
   ]
  },
  {
   "cell_type": "code",
   "execution_count": 37,
   "id": "ce844926",
   "metadata": {
    "scrolled": true
   },
   "outputs": [
    {
     "name": "stdout",
     "output_type": "stream",
     "text": [
      "Model: \"sequential_3\"\n",
      "_________________________________________________________________\n",
      " Layer (type)                Output Shape              Param #   \n",
      "=================================================================\n",
      " inception_v3 (Functional)   (None, 5, 5, 2048)        21802784  \n",
      "                                                                 \n",
      " flatten (Flatten)           (None, 51200)             0         \n",
      "                                                                 \n",
      " dropout_1 (Dropout)         (None, 51200)             0         \n",
      "                                                                 \n",
      " batch_normalization_472 (Ba  (None, 51200)            204800    \n",
      " tchNormalization)                                               \n",
      "                                                                 \n",
      " dense_3 (Dense)             (None, 1)                 51201     \n",
      "                                                                 \n",
      "=================================================================\n",
      "Total params: 22,058,785\n",
      "Trainable params: 21,921,953\n",
      "Non-trainable params: 136,832\n",
      "_________________________________________________________________\n"
     ]
    }
   ],
   "source": [
    "model1=build_model()\n",
    "\n",
    "model1.summary()"
   ]
  },
  {
   "cell_type": "markdown",
   "id": "a8c4cb80",
   "metadata": {},
   "source": [
    "<a name=\"2.1\"></a>\n",
    "\n",
    "### model complie & train"
   ]
  },
  {
   "cell_type": "code",
   "execution_count": 38,
   "id": "41b27e94",
   "metadata": {
    "scrolled": true
   },
   "outputs": [
    {
     "name": "stdout",
     "output_type": "stream",
     "text": [
      "Epoch 1/40\n",
      "502/502 [==============================] - ETA: 0s - loss: 0.8189 - accuracy: 0.5349INFO:tensorflow:Assets written to: ./inc_V3_model\\checkpoint\\assets\n"
     ]
    },
    {
     "name": "stderr",
     "output_type": "stream",
     "text": [
      "INFO:tensorflow:Assets written to: ./inc_V3_model\\checkpoint\\assets\n"
     ]
    },
    {
     "name": "stdout",
     "output_type": "stream",
     "text": [
      "502/502 [==============================] - 463s 899ms/step - loss: 0.8189 - accuracy: 0.5349 - val_loss: 0.7911 - val_accuracy: 0.5142 - lr: 1.0000e-08\n",
      "Epoch 2/40\n",
      "502/502 [==============================] - ETA: 0s - loss: 0.5329 - accuracy: 0.7492INFO:tensorflow:Assets written to: ./inc_V3_model\\checkpoint\\assets\n"
     ]
    },
    {
     "name": "stderr",
     "output_type": "stream",
     "text": [
      "INFO:tensorflow:Assets written to: ./inc_V3_model\\checkpoint\\assets\n"
     ]
    },
    {
     "name": "stdout",
     "output_type": "stream",
     "text": [
      "502/502 [==============================] - 113s 224ms/step - loss: 0.5329 - accuracy: 0.7492 - val_loss: 0.8103 - val_accuracy: 0.6131 - lr: 1.0007e-05\n",
      "Epoch 3/40\n",
      "502/502 [==============================] - ETA: 0s - loss: 0.3938 - accuracy: 0.8356INFO:tensorflow:Assets written to: ./inc_V3_model\\checkpoint\\assets\n"
     ]
    },
    {
     "name": "stderr",
     "output_type": "stream",
     "text": [
      "INFO:tensorflow:Assets written to: ./inc_V3_model\\checkpoint\\assets\n"
     ]
    },
    {
     "name": "stdout",
     "output_type": "stream",
     "text": [
      "502/502 [==============================] - 108s 214ms/step - loss: 0.3938 - accuracy: 0.8356 - val_loss: 1.0246 - val_accuracy: 0.6955 - lr: 2.0003e-05\n",
      "Epoch 4/40\n",
      "502/502 [==============================] - 83s 165ms/step - loss: 0.3301 - accuracy: 0.8684 - val_loss: 1.1249 - val_accuracy: 0.6945 - lr: 3.0000e-05\n",
      "Epoch 5/40\n",
      "502/502 [==============================] - ETA: 0s - loss: 0.2816 - accuracy: 0.8880INFO:tensorflow:Assets written to: ./inc_V3_model\\checkpoint\\assets\n"
     ]
    },
    {
     "name": "stderr",
     "output_type": "stream",
     "text": [
      "INFO:tensorflow:Assets written to: ./inc_V3_model\\checkpoint\\assets\n"
     ]
    },
    {
     "name": "stdout",
     "output_type": "stream",
     "text": [
      "502/502 [==============================] - 108s 215ms/step - loss: 0.2816 - accuracy: 0.8880 - val_loss: 0.9108 - val_accuracy: 0.7149 - lr: 2.9946e-05\n",
      "Epoch 6/40\n",
      "502/502 [==============================] - 84s 166ms/step - loss: 0.2560 - accuracy: 0.9011 - val_loss: 0.9798 - val_accuracy: 0.7019 - lr: 2.9784e-05\n",
      "Epoch 7/40\n",
      "502/502 [==============================] - ETA: 0s - loss: 0.2356 - accuracy: 0.9094INFO:tensorflow:Assets written to: ./inc_V3_model\\checkpoint\\assets\n"
     ]
    },
    {
     "name": "stderr",
     "output_type": "stream",
     "text": [
      "INFO:tensorflow:Assets written to: ./inc_V3_model\\checkpoint\\assets\n"
     ]
    },
    {
     "name": "stdout",
     "output_type": "stream",
     "text": [
      "502/502 [==============================] - 110s 220ms/step - loss: 0.2356 - accuracy: 0.9094 - val_loss: 0.9701 - val_accuracy: 0.7349 - lr: 2.9516e-05\n",
      "Epoch 8/40\n",
      "502/502 [==============================] - 99s 197ms/step - loss: 0.2007 - accuracy: 0.9223 - val_loss: 1.0619 - val_accuracy: 0.7154 - lr: 2.9143e-05\n",
      "Epoch 9/40\n",
      "502/502 [==============================] - ETA: 0s - loss: 0.1951 - accuracy: 0.9249INFO:tensorflow:Assets written to: ./inc_V3_model\\checkpoint\\assets\n"
     ]
    },
    {
     "name": "stderr",
     "output_type": "stream",
     "text": [
      "INFO:tensorflow:Assets written to: ./inc_V3_model\\checkpoint\\assets\n"
     ]
    },
    {
     "name": "stdout",
     "output_type": "stream",
     "text": [
      "502/502 [==============================] - 128s 255ms/step - loss: 0.1951 - accuracy: 0.9249 - val_loss: 0.9871 - val_accuracy: 0.7429 - lr: 2.8668e-05\n",
      "Epoch 10/40\n",
      "502/502 [==============================] - 92s 183ms/step - loss: 0.1719 - accuracy: 0.9335 - val_loss: 1.1710 - val_accuracy: 0.7199 - lr: 2.8095e-05\n",
      "Epoch 11/40\n",
      "502/502 [==============================] - ETA: 0s - loss: 0.1558 - accuracy: 0.9422INFO:tensorflow:Assets written to: ./inc_V3_model\\checkpoint\\assets\n"
     ]
    },
    {
     "name": "stderr",
     "output_type": "stream",
     "text": [
      "INFO:tensorflow:Assets written to: ./inc_V3_model\\checkpoint\\assets\n"
     ]
    },
    {
     "name": "stdout",
     "output_type": "stream",
     "text": [
      "502/502 [==============================] - 117s 233ms/step - loss: 0.1558 - accuracy: 0.9422 - val_loss: 0.8794 - val_accuracy: 0.7584 - lr: 2.7428e-05\n",
      "Epoch 12/40\n",
      "502/502 [==============================] - 91s 180ms/step - loss: 0.1505 - accuracy: 0.9455 - val_loss: 1.1693 - val_accuracy: 0.7399 - lr: 2.6671e-05\n",
      "Epoch 13/40\n",
      "502/502 [==============================] - 93s 185ms/step - loss: 0.1424 - accuracy: 0.9461 - val_loss: 1.2900 - val_accuracy: 0.6530 - lr: 2.5829e-05\n",
      "Epoch 14/40\n",
      "502/502 [==============================] - 90s 180ms/step - loss: 0.1247 - accuracy: 0.9538 - val_loss: 1.5272 - val_accuracy: 0.7339 - lr: 2.4910e-05\n",
      "Epoch 15/40\n",
      "502/502 [==============================] - 97s 193ms/step - loss: 0.1185 - accuracy: 0.9578 - val_loss: 2.1017 - val_accuracy: 0.7009 - lr: 2.3919e-05\n",
      "Epoch 16/40\n",
      "502/502 [==============================] - 90s 180ms/step - loss: 0.0956 - accuracy: 0.9652 - val_loss: 1.1913 - val_accuracy: 0.7329 - lr: 2.2865e-05\n",
      "Epoch 17/40\n",
      "502/502 [==============================] - ETA: 0s - loss: 0.0880 - accuracy: 0.9641INFO:tensorflow:Assets written to: ./inc_V3_model\\checkpoint\\assets\n"
     ]
    },
    {
     "name": "stderr",
     "output_type": "stream",
     "text": [
      "INFO:tensorflow:Assets written to: ./inc_V3_model\\checkpoint\\assets\n"
     ]
    },
    {
     "name": "stdout",
     "output_type": "stream",
     "text": [
      "502/502 [==============================] - 118s 236ms/step - loss: 0.0880 - accuracy: 0.9641 - val_loss: 1.0766 - val_accuracy: 0.7783 - lr: 2.1753e-05\n",
      "Epoch 18/40\n",
      "502/502 [==============================] - 89s 176ms/step - loss: 0.0947 - accuracy: 0.9662 - val_loss: 1.1480 - val_accuracy: 0.7354 - lr: 2.0593e-05\n",
      "Epoch 19/40\n",
      "502/502 [==============================] - 90s 178ms/step - loss: 0.0870 - accuracy: 0.9677 - val_loss: 1.1223 - val_accuracy: 0.7594 - lr: 1.9392e-05\n",
      "Epoch 20/40\n",
      "502/502 [==============================] - 92s 183ms/step - loss: 0.0700 - accuracy: 0.9742 - val_loss: 1.0229 - val_accuracy: 0.7733 - lr: 1.8160e-05\n",
      "Epoch 21/40\n",
      "502/502 [==============================] - 91s 182ms/step - loss: 0.0650 - accuracy: 0.9770 - val_loss: 1.2817 - val_accuracy: 0.7654 - lr: 1.6905e-05\n",
      "Epoch 22/40\n",
      "502/502 [==============================] - 89s 176ms/step - loss: 0.0640 - accuracy: 0.9759 - val_loss: 1.2310 - val_accuracy: 0.7718 - lr: 1.5637e-05\n",
      "Epoch 23/40\n",
      "502/502 [==============================] - 87s 174ms/step - loss: 0.0509 - accuracy: 0.9810 - val_loss: 1.6662 - val_accuracy: 0.7409 - lr: 1.4363e-05\n",
      "Epoch 24/40\n",
      "502/502 [==============================] - ETA: 0s - loss: 0.0485 - accuracy: 0.9818INFO:tensorflow:Assets written to: ./inc_V3_model\\checkpoint\\assets\n"
     ]
    },
    {
     "name": "stderr",
     "output_type": "stream",
     "text": [
      "INFO:tensorflow:Assets written to: ./inc_V3_model\\checkpoint\\assets\n"
     ]
    },
    {
     "name": "stdout",
     "output_type": "stream",
     "text": [
      "502/502 [==============================] - 116s 230ms/step - loss: 0.0485 - accuracy: 0.9818 - val_loss: 1.1527 - val_accuracy: 0.7943 - lr: 1.3095e-05\n",
      "Epoch 25/40\n",
      "502/502 [==============================] - 85s 169ms/step - loss: 0.0461 - accuracy: 0.9835 - val_loss: 1.3726 - val_accuracy: 0.7664 - lr: 1.1840e-05\n",
      "Epoch 26/40\n",
      "502/502 [==============================] - 92s 183ms/step - loss: 0.0416 - accuracy: 0.9848 - val_loss: 1.8545 - val_accuracy: 0.7479 - lr: 1.0608e-05\n",
      "Epoch 27/40\n",
      "502/502 [==============================] - 97s 193ms/step - loss: 0.0345 - accuracy: 0.9882 - val_loss: 1.7273 - val_accuracy: 0.7574 - lr: 9.4072e-06\n",
      "Epoch 28/40\n",
      "502/502 [==============================] - 91s 181ms/step - loss: 0.0328 - accuracy: 0.9880 - val_loss: 1.5928 - val_accuracy: 0.7604 - lr: 8.2469e-06\n",
      "Epoch 29/40\n",
      "502/502 [==============================] - 92s 182ms/step - loss: 0.0312 - accuracy: 0.9896 - val_loss: 1.2540 - val_accuracy: 0.7733 - lr: 7.1354e-06\n",
      "Epoch 30/40\n",
      "502/502 [==============================] - 89s 178ms/step - loss: 0.0321 - accuracy: 0.9894 - val_loss: 1.9946 - val_accuracy: 0.7544 - lr: 6.0805e-06\n",
      "Epoch 31/40\n",
      "502/502 [==============================] - 89s 177ms/step - loss: 0.0282 - accuracy: 0.9910 - val_loss: 1.8183 - val_accuracy: 0.7639 - lr: 5.0899e-06\n",
      "Epoch 32/40\n",
      "502/502 [==============================] - 92s 182ms/step - loss: 0.0280 - accuracy: 0.9899 - val_loss: 1.5746 - val_accuracy: 0.7514 - lr: 4.1707e-06\n",
      "Epoch 33/40\n",
      "502/502 [==============================] - 90s 179ms/step - loss: 0.0266 - accuracy: 0.9909 - val_loss: 1.5892 - val_accuracy: 0.7678 - lr: 3.3295e-06\n",
      "Epoch 34/40\n",
      "502/502 [==============================] - 90s 179ms/step - loss: 0.0203 - accuracy: 0.9931 - val_loss: 1.6991 - val_accuracy: 0.7559 - lr: 2.5724e-06\n",
      "Epoch 35/40\n",
      "502/502 [==============================] - 91s 182ms/step - loss: 0.0186 - accuracy: 0.9938 - val_loss: 1.7138 - val_accuracy: 0.7554 - lr: 1.9048e-06\n",
      "Epoch 36/40\n",
      "502/502 [==============================] - 92s 184ms/step - loss: 0.0208 - accuracy: 0.9929 - val_loss: 1.4880 - val_accuracy: 0.7713 - lr: 1.3316e-06\n",
      "Epoch 37/40\n",
      "502/502 [==============================] - 96s 190ms/step - loss: 0.0217 - accuracy: 0.9923 - val_loss: 1.5628 - val_accuracy: 0.7688 - lr: 8.5684e-07\n",
      "Epoch 38/40\n",
      "502/502 [==============================] - 97s 192ms/step - loss: 0.0192 - accuracy: 0.9934 - val_loss: 1.5346 - val_accuracy: 0.7728 - lr: 4.8401e-07\n",
      "Epoch 39/40\n",
      "502/502 [==============================] - 92s 184ms/step - loss: 0.0174 - accuracy: 0.9944 - val_loss: 1.5331 - val_accuracy: 0.7718 - lr: 2.1576e-07\n",
      "Epoch 40/40\n",
      "502/502 [==============================] - 96s 191ms/step - loss: 0.0198 - accuracy: 0.9935 - val_loss: 1.5036 - val_accuracy: 0.7703 - lr: 5.4038e-08\n"
     ]
    }
   ],
   "source": [
    "history=train_model(model1,train_generator,valid_generator)"
   ]
  },
  {
   "cell_type": "markdown",
   "id": "5070a292",
   "metadata": {},
   "source": [
    "<a name=\"2.2\"></a>\n",
    "\n",
    "### train & validation loss and accuracy per epochs"
   ]
  },
  {
   "cell_type": "code",
   "execution_count": 39,
   "id": "0ff3369d",
   "metadata": {},
   "outputs": [
    {
     "data": {
      "image/png": "[encoded data removed]",
      "text/plain": [
       "<Figure size 432x288 with 1 Axes>"
      ]
     },
     "metadata": {
      "needs_background": "light"
     },
     "output_type": "display_data"
    },
    {
     "data": {
      "image/png": "[encoded data removed]",
      "text/plain": [
       "<Figure size 432x288 with 1 Axes>"
      ]
     },
     "metadata": {
      "needs_background": "light"
     },
     "output_type": "display_data"
    }
   ],
   "source": [
    "draw_train_graph(history)"
   ]
  },
  {
   "cell_type": "code",
   "execution_count": 43,
   "id": "e1198f86",
   "metadata": {},
   "outputs": [
    {
     "name": "stdout",
     "output_type": "stream",
     "text": [
      "79/79 [==============================] - 7s 75ms/step - loss: 1.3594 - accuracy: 0.7656\n"
     ]
    },
    {
     "data": {
      "text/plain": [
       "[1.3594245910644531, 0.7655502557754517]"
      ]
     },
     "execution_count": 43,
     "metadata": {},
     "output_type": "execute_result"
    }
   ],
   "source": [
    "model1.evaluate(x_test,y_test)"
   ]
  },
  {
   "cell_type": "code",
   "execution_count": 41,
   "id": "7af06393",
   "metadata": {},
   "outputs": [
    {
     "data": {
      "image/png": "[encoded data removed]",
      "text/plain": [
       "<Figure size 720x504 with 2 Axes>"
      ]
     },
     "metadata": {
      "needs_background": "light"
     },
     "output_type": "display_data"
    }
   ],
   "source": [
    "y_test_predict = draw_confusion_matrix(model1,x_test,y_test)"
   ]
  },
  {
   "cell_type": "code",
   "execution_count": 42,
   "id": "5066b0fe",
   "metadata": {
    "scrolled": true
   },
   "outputs": [
    {
     "name": "stdout",
     "output_type": "stream",
     "text": [
      "              precision    recall  f1-score   support\n",
      "\n",
      "    abnormal       0.77      0.93      0.84      1700\n",
      "      normal       0.74      0.42      0.54       808\n",
      "\n",
      "    accuracy                           0.77      2508\n",
      "   macro avg       0.75      0.68      0.69      2508\n",
      "weighted avg       0.76      0.77      0.74      2508\n",
      "\n"
     ]
    }
   ],
   "source": [
    "print_classification_report(y_test,  y_test_predict)"
   ]
  },
  {
   "cell_type": "code",
   "execution_count": 47,
   "id": "726b7443",
   "metadata": {},
   "outputs": [],
   "source": [
    "model1.save('inception_V3_model/my_model1_acc77.h5')"
   ]
  },
  {
   "cell_type": "markdown",
   "id": "a379e2e0",
   "metadata": {},
   "source": [
    "<a name=\"3.2\"></a>\n",
    "\n",
    "### model on oversampled data"
   ]
  },
  {
   "cell_type": "code",
   "execution_count": 48,
   "id": "7902e01f",
   "metadata": {},
   "outputs": [],
   "source": [
    "train_path='D:/projects data/dataset/C-NMC_Leukemia/final/original/oversampled/'"
   ]
  },
  {
   "cell_type": "code",
   "execution_count": 49,
   "id": "e2a5e0eb",
   "metadata": {},
   "outputs": [
    {
     "name": "stdout",
     "output_type": "stream",
     "text": [
      "Found 10866 images belonging to 2 classes.\n",
      "Found 2716 images belonging to 2 classes.\n"
     ]
    }
   ],
   "source": [
    "train_generator,valid_generator = create_generators(train_path)"
   ]
  },
  {
   "cell_type": "code",
   "execution_count": 53,
   "id": "f2127054",
   "metadata": {},
   "outputs": [
    {
     "name": "stdout",
     "output_type": "stream",
     "text": [
      "Model: \"sequential_5\"\n",
      "_________________________________________________________________\n",
      " Layer (type)                Output Shape              Param #   \n",
      "=================================================================\n",
      " inception_v3 (Functional)   (None, 5, 5, 2048)        21802784  \n",
      "                                                                 \n",
      " flatten_2 (Flatten)         (None, 51200)             0         \n",
      "                                                                 \n",
      " dropout_3 (Dropout)         (None, 51200)             0         \n",
      "                                                                 \n",
      " batch_normalization_662 (Ba  (None, 51200)            204800    \n",
      " tchNormalization)                                               \n",
      "                                                                 \n",
      " dense_5 (Dense)             (None, 1)                 51201     \n",
      "                                                                 \n",
      "=================================================================\n",
      "Total params: 22,058,785\n",
      "Trainable params: 21,921,953\n",
      "Non-trainable params: 136,832\n",
      "_________________________________________________________________\n"
     ]
    }
   ],
   "source": [
    "model2=build_model()\n",
    "model2.summary()"
   ]
  },
  {
   "cell_type": "code",
   "execution_count": 54,
   "id": "e6eddbb5",
   "metadata": {
    "scrolled": false
   },
   "outputs": [
    {
     "name": "stdout",
     "output_type": "stream",
     "text": [
      "Epoch 1/40\n",
      "680/680 [==============================] - ETA: 0s - loss: 0.8219 - accuracy: 0.5274INFO:tensorflow:Assets written to: ./inc_V3_model\\checkpoint\\assets\n"
     ]
    },
    {
     "name": "stderr",
     "output_type": "stream",
     "text": [
      "INFO:tensorflow:Assets written to: ./inc_V3_model\\checkpoint\\assets\n"
     ]
    },
    {
     "name": "stdout",
     "output_type": "stream",
     "text": [
      "680/680 [==============================] - 309s 446ms/step - loss: 0.8219 - accuracy: 0.5274 - val_loss: 0.6963 - val_accuracy: 0.5902 - lr: 1.0000e-08\n",
      "Epoch 2/40\n",
      "680/680 [==============================] - ETA: 0s - loss: 0.5029 - accuracy: 0.7679INFO:tensorflow:Assets written to: ./inc_V3_model\\checkpoint\\assets\n"
     ]
    },
    {
     "name": "stderr",
     "output_type": "stream",
     "text": [
      "INFO:tensorflow:Assets written to: ./inc_V3_model\\checkpoint\\assets\n"
     ]
    },
    {
     "name": "stdout",
     "output_type": "stream",
     "text": [
      "680/680 [==============================] - 312s 458ms/step - loss: 0.5029 - accuracy: 0.7679 - val_loss: 0.3315 - val_accuracy: 0.8490 - lr: 1.0007e-05\n",
      "Epoch 3/40\n",
      "680/680 [==============================] - ETA: 0s - loss: 0.3927 - accuracy: 0.8302INFO:tensorflow:Assets written to: ./inc_V3_model\\checkpoint\\assets\n"
     ]
    },
    {
     "name": "stderr",
     "output_type": "stream",
     "text": [
      "INFO:tensorflow:Assets written to: ./inc_V3_model\\checkpoint\\assets\n"
     ]
    },
    {
     "name": "stdout",
     "output_type": "stream",
     "text": [
      "680/680 [==============================] - 295s 433ms/step - loss: 0.3927 - accuracy: 0.8302 - val_loss: 0.2688 - val_accuracy: 0.8914 - lr: 2.0003e-05\n",
      "Epoch 4/40\n",
      "680/680 [==============================] - 262s 385ms/step - loss: 0.3434 - accuracy: 0.8533 - val_loss: 0.4114 - val_accuracy: 0.8270 - lr: 3.0000e-05\n",
      "Epoch 5/40\n",
      "680/680 [==============================] - ETA: 0s - loss: 0.3130 - accuracy: 0.8725INFO:tensorflow:Assets written to: ./inc_V3_model\\checkpoint\\assets\n"
     ]
    },
    {
     "name": "stderr",
     "output_type": "stream",
     "text": [
      "INFO:tensorflow:Assets written to: ./inc_V3_model\\checkpoint\\assets\n"
     ]
    },
    {
     "name": "stdout",
     "output_type": "stream",
     "text": [
      "680/680 [==============================] - 194s 285ms/step - loss: 0.3130 - accuracy: 0.8725 - val_loss: 0.1484 - val_accuracy: 0.9426 - lr: 2.9946e-05\n",
      "Epoch 6/40\n",
      "680/680 [==============================] - 147s 215ms/step - loss: 0.2838 - accuracy: 0.8881 - val_loss: 0.3573 - val_accuracy: 0.8560 - lr: 2.9784e-05\n",
      "Epoch 7/40\n",
      "680/680 [==============================] - 134s 197ms/step - loss: 0.2405 - accuracy: 0.9060 - val_loss: 0.1615 - val_accuracy: 0.9334 - lr: 2.9516e-05\n",
      "Epoch 8/40\n",
      "680/680 [==============================] - ETA: 0s - loss: 0.2290 - accuracy: 0.9088INFO:tensorflow:Assets written to: ./inc_V3_model\\checkpoint\\assets\n"
     ]
    },
    {
     "name": "stderr",
     "output_type": "stream",
     "text": [
      "INFO:tensorflow:Assets written to: ./inc_V3_model\\checkpoint\\assets\n"
     ]
    },
    {
     "name": "stdout",
     "output_type": "stream",
     "text": [
      "680/680 [==============================] - 206s 303ms/step - loss: 0.2290 - accuracy: 0.9088 - val_loss: 0.1219 - val_accuracy: 0.9577 - lr: 2.9143e-05\n",
      "Epoch 9/40\n",
      "680/680 [==============================] - ETA: 0s - loss: 0.2062 - accuracy: 0.9201INFO:tensorflow:Assets written to: ./inc_V3_model\\checkpoint\\assets\n"
     ]
    },
    {
     "name": "stderr",
     "output_type": "stream",
     "text": [
      "INFO:tensorflow:Assets written to: ./inc_V3_model\\checkpoint\\assets\n"
     ]
    },
    {
     "name": "stdout",
     "output_type": "stream",
     "text": [
      "680/680 [==============================] - 228s 334ms/step - loss: 0.2062 - accuracy: 0.9201 - val_loss: 0.1013 - val_accuracy: 0.9643 - lr: 2.8668e-05\n",
      "Epoch 10/40\n",
      "680/680 [==============================] - 221s 324ms/step - loss: 0.1947 - accuracy: 0.9257 - val_loss: 0.1472 - val_accuracy: 0.9451 - lr: 2.8095e-05\n",
      "Epoch 11/40\n",
      "680/680 [==============================] - ETA: 0s - loss: 0.1798 - accuracy: 0.9278INFO:tensorflow:Assets written to: ./inc_V3_model\\checkpoint\\assets\n"
     ]
    },
    {
     "name": "stderr",
     "output_type": "stream",
     "text": [
      "INFO:tensorflow:Assets written to: ./inc_V3_model\\checkpoint\\assets\n"
     ]
    },
    {
     "name": "stdout",
     "output_type": "stream",
     "text": [
      "680/680 [==============================] - 166s 244ms/step - loss: 0.1798 - accuracy: 0.9278 - val_loss: 0.0773 - val_accuracy: 0.9735 - lr: 2.7428e-05\n",
      "Epoch 12/40\n",
      "680/680 [==============================] - 139s 204ms/step - loss: 0.1693 - accuracy: 0.9332 - val_loss: 0.0835 - val_accuracy: 0.9665 - lr: 2.6671e-05\n",
      "Epoch 13/40\n",
      "680/680 [==============================] - 144s 212ms/step - loss: 0.1490 - accuracy: 0.9434 - val_loss: 0.0876 - val_accuracy: 0.9705 - lr: 2.5829e-05\n",
      "Epoch 14/40\n",
      "680/680 [==============================] - 143s 211ms/step - loss: 0.1398 - accuracy: 0.9470 - val_loss: 0.0938 - val_accuracy: 0.9639 - lr: 2.4910e-05\n",
      "Epoch 15/40\n",
      "680/680 [==============================] - ETA: 0s - loss: 0.1463 - accuracy: 0.9443INFO:tensorflow:Assets written to: ./inc_V3_model\\checkpoint\\assets\n"
     ]
    },
    {
     "name": "stderr",
     "output_type": "stream",
     "text": [
      "INFO:tensorflow:Assets written to: ./inc_V3_model\\checkpoint\\assets\n"
     ]
    },
    {
     "name": "stdout",
     "output_type": "stream",
     "text": [
      "680/680 [==============================] - 175s 257ms/step - loss: 0.1463 - accuracy: 0.9443 - val_loss: 0.0771 - val_accuracy: 0.9709 - lr: 2.3919e-05\n",
      "Epoch 16/40\n",
      "680/680 [==============================] - 189s 278ms/step - loss: 0.1327 - accuracy: 0.9493 - val_loss: 0.0933 - val_accuracy: 0.9669 - lr: 2.2865e-05\n",
      "Epoch 17/40\n",
      "680/680 [==============================] - 150s 220ms/step - loss: 0.1130 - accuracy: 0.9555 - val_loss: 0.1228 - val_accuracy: 0.9543 - lr: 2.1753e-05\n",
      "Epoch 18/40\n",
      "680/680 [==============================] - ETA: 0s - loss: 0.1138 - accuracy: 0.9566INFO:tensorflow:Assets written to: ./inc_V3_model\\checkpoint\\assets\n"
     ]
    },
    {
     "name": "stderr",
     "output_type": "stream",
     "text": [
      "INFO:tensorflow:Assets written to: ./inc_V3_model\\checkpoint\\assets\n"
     ]
    },
    {
     "name": "stdout",
     "output_type": "stream",
     "text": [
      "680/680 [==============================] - 175s 257ms/step - loss: 0.1138 - accuracy: 0.9566 - val_loss: 0.0525 - val_accuracy: 0.9831 - lr: 2.0593e-05\n",
      "Epoch 19/40\n",
      "680/680 [==============================] - 158s 232ms/step - loss: 0.1091 - accuracy: 0.9603 - val_loss: 0.1178 - val_accuracy: 0.9588 - lr: 1.9392e-05\n",
      "Epoch 20/40\n",
      "680/680 [==============================] - 137s 201ms/step - loss: 0.0978 - accuracy: 0.9622 - val_loss: 0.1108 - val_accuracy: 0.9595 - lr: 1.8160e-05\n",
      "Epoch 21/40\n",
      "680/680 [==============================] - 179s 263ms/step - loss: 0.0822 - accuracy: 0.9682 - val_loss: 0.0990 - val_accuracy: 0.9661 - lr: 1.6905e-05\n",
      "Epoch 22/40\n",
      "680/680 [==============================] - 161s 237ms/step - loss: 0.0800 - accuracy: 0.9702 - val_loss: 0.0680 - val_accuracy: 0.9746 - lr: 1.5637e-05\n",
      "Epoch 23/40\n",
      "680/680 [==============================] - 141s 207ms/step - loss: 0.0709 - accuracy: 0.9752 - val_loss: 0.0802 - val_accuracy: 0.9680 - lr: 1.4363e-05\n",
      "Epoch 24/40\n",
      "680/680 [==============================] - 149s 218ms/step - loss: 0.0688 - accuracy: 0.9753 - val_loss: 0.0593 - val_accuracy: 0.9786 - lr: 1.3095e-05\n",
      "Epoch 25/40\n",
      "680/680 [==============================] - 154s 226ms/step - loss: 0.0679 - accuracy: 0.9757 - val_loss: 0.0821 - val_accuracy: 0.9728 - lr: 1.1840e-05\n",
      "Epoch 26/40\n",
      "680/680 [==============================] - 149s 219ms/step - loss: 0.0577 - accuracy: 0.9778 - val_loss: 0.0804 - val_accuracy: 0.9746 - lr: 1.0608e-05\n",
      "Epoch 27/40\n",
      "680/680 [==============================] - 142s 209ms/step - loss: 0.0555 - accuracy: 0.9794 - val_loss: 0.0786 - val_accuracy: 0.9724 - lr: 9.4072e-06\n",
      "Epoch 28/40\n",
      "680/680 [==============================] - 142s 208ms/step - loss: 0.0543 - accuracy: 0.9789 - val_loss: 0.1146 - val_accuracy: 0.9577 - lr: 8.2469e-06\n",
      "Epoch 29/40\n",
      "680/680 [==============================] - 142s 209ms/step - loss: 0.0484 - accuracy: 0.9805 - val_loss: 0.0903 - val_accuracy: 0.9739 - lr: 7.1354e-06\n",
      "Epoch 30/40\n",
      "680/680 [==============================] - 314s 462ms/step - loss: 0.0441 - accuracy: 0.9838 - val_loss: 0.1151 - val_accuracy: 0.9643 - lr: 6.0805e-06\n",
      "Epoch 31/40\n",
      "680/680 [==============================] - 190s 278ms/step - loss: 0.0418 - accuracy: 0.9850 - val_loss: 0.1103 - val_accuracy: 0.9584 - lr: 5.0899e-06\n",
      "Epoch 32/40\n",
      "680/680 [==============================] - 144s 212ms/step - loss: 0.0404 - accuracy: 0.9867 - val_loss: 0.0733 - val_accuracy: 0.9761 - lr: 4.1707e-06\n",
      "Epoch 33/40\n",
      "680/680 [==============================] - 151s 223ms/step - loss: 0.0400 - accuracy: 0.9866 - val_loss: 0.0982 - val_accuracy: 0.9628 - lr: 3.3295e-06\n",
      "Epoch 34/40\n",
      "680/680 [==============================] - 144s 212ms/step - loss: 0.0292 - accuracy: 0.9889 - val_loss: 0.1424 - val_accuracy: 0.9492 - lr: 2.5724e-06\n",
      "Epoch 35/40\n",
      "680/680 [==============================] - 144s 212ms/step - loss: 0.0351 - accuracy: 0.9865 - val_loss: 0.0662 - val_accuracy: 0.9757 - lr: 1.9048e-06\n",
      "Epoch 36/40\n",
      "680/680 [==============================] - 140s 206ms/step - loss: 0.0308 - accuracy: 0.9891 - val_loss: 0.1009 - val_accuracy: 0.9639 - lr: 1.3316e-06\n",
      "Epoch 37/40\n",
      "680/680 [==============================] - 146s 214ms/step - loss: 0.0278 - accuracy: 0.9895 - val_loss: 0.0927 - val_accuracy: 0.9672 - lr: 8.5684e-07\n",
      "Epoch 38/40\n",
      "680/680 [==============================] - 276s 406ms/step - loss: 0.0260 - accuracy: 0.9900 - val_loss: 0.0975 - val_accuracy: 0.9669 - lr: 4.8401e-07\n",
      "Epoch 39/40\n",
      "680/680 [==============================] - 211s 310ms/step - loss: 0.0270 - accuracy: 0.9907 - val_loss: 0.0906 - val_accuracy: 0.9683 - lr: 2.1576e-07\n",
      "Epoch 40/40\n",
      "680/680 [==============================] - 150s 220ms/step - loss: 0.0291 - accuracy: 0.9895 - val_loss: 0.1003 - val_accuracy: 0.9647 - lr: 5.4038e-08\n"
     ]
    }
   ],
   "source": [
    "history= train_model(model2 ,train_generator ,valid_generator)"
   ]
  },
  {
   "cell_type": "code",
   "execution_count": 55,
   "id": "b3ccfd68",
   "metadata": {},
   "outputs": [
    {
     "data": {
      "image/png": "[encoded data removed]",
      "text/plain": [
       "<Figure size 432x288 with 1 Axes>"
      ]
     },
     "metadata": {
      "needs_background": "light"
     },
     "output_type": "display_data"
    },
    {
     "data": {
      "image/png": "[encoded data removed]",
      "text/plain": [
       "<Figure size 432x288 with 1 Axes>"
      ]
     },
     "metadata": {
      "needs_background": "light"
     },
     "output_type": "display_data"
    }
   ],
   "source": [
    "draw_train_graph(history)"
   ]
  },
  {
   "cell_type": "code",
   "execution_count": 61,
   "id": "1eab97e1",
   "metadata": {},
   "outputs": [
    {
     "name": "stdout",
     "output_type": "stream",
     "text": [
      "79/79 [==============================] - 7s 74ms/step - loss: 0.6354 - accuracy: 0.8341\n"
     ]
    },
    {
     "data": {
      "text/plain": [
       "[0.6354139447212219, 0.8341307640075684]"
      ]
     },
     "execution_count": 61,
     "metadata": {},
     "output_type": "execute_result"
    }
   ],
   "source": [
    "model2.evaluate(x_test,y_test)"
   ]
  },
  {
   "cell_type": "code",
   "execution_count": 57,
   "id": "8d555fdc",
   "metadata": {},
   "outputs": [
    {
     "data": {
      "image/png": "[encoded data removed]",
      "text/plain": [
       "<Figure size 720x504 with 2 Axes>"
      ]
     },
     "metadata": {
      "needs_background": "light"
     },
     "output_type": "display_data"
    }
   ],
   "source": [
    "y_test_predict = draw_confusion_matrix(model2,x_test,y_test)"
   ]
  },
  {
   "cell_type": "code",
   "execution_count": 58,
   "id": "dfc0e9d4",
   "metadata": {},
   "outputs": [
    {
     "name": "stdout",
     "output_type": "stream",
     "text": [
      "              precision    recall  f1-score   support\n",
      "\n",
      "    abnormal       0.86      0.90      0.88      1700\n",
      "      normal       0.77      0.69      0.73       808\n",
      "\n",
      "    accuracy                           0.83      2508\n",
      "   macro avg       0.82      0.80      0.80      2508\n",
      "weighted avg       0.83      0.83      0.83      2508\n",
      "\n"
     ]
    }
   ],
   "source": [
    "print_classification_report(y_test,  y_test_predict)"
   ]
  },
  {
   "cell_type": "code",
   "execution_count": 62,
   "id": "be009ad1",
   "metadata": {},
   "outputs": [],
   "source": [
    "model2.save('inception_V3_model/my_model2_acc83.h5')"
   ]
  },
  {
   "cell_type": "markdown",
   "id": "1019ca7d",
   "metadata": {},
   "source": [
    "<a name=\"3.3\"></a>\n",
    "\n",
    "### model on undersampled data"
   ]
  },
  {
   "cell_type": "code",
   "execution_count": 64,
   "id": "ba962e63",
   "metadata": {},
   "outputs": [],
   "source": [
    "train_path='D:/projects data/dataset/C-NMC_Leukemia/final/original/undersampled/'"
   ]
  },
  {
   "cell_type": "code",
   "execution_count": 65,
   "id": "ea7de171",
   "metadata": {},
   "outputs": [
    {
     "name": "stdout",
     "output_type": "stream",
     "text": [
      "Found 5168 images belonging to 2 classes.\n",
      "Found 1290 images belonging to 2 classes.\n"
     ]
    }
   ],
   "source": [
    "train_generator,valid_generator = create_generators(train_path)"
   ]
  },
  {
   "cell_type": "markdown",
   "id": "a61ffce7",
   "metadata": {},
   "source": [
    "<a name=\"2\"></a>\n",
    "\n",
    "### build the model"
   ]
  },
  {
   "cell_type": "code",
   "execution_count": 66,
   "id": "94dd2317",
   "metadata": {},
   "outputs": [
    {
     "name": "stdout",
     "output_type": "stream",
     "text": [
      "Model: \"sequential_6\"\n",
      "_________________________________________________________________\n",
      " Layer (type)                Output Shape              Param #   \n",
      "=================================================================\n",
      " inception_v3 (Functional)   (None, 5, 5, 2048)        21802784  \n",
      "                                                                 \n",
      " flatten_3 (Flatten)         (None, 51200)             0         \n",
      "                                                                 \n",
      " dropout_4 (Dropout)         (None, 51200)             0         \n",
      "                                                                 \n",
      " batch_normalization_757 (Ba  (None, 51200)            204800    \n",
      " tchNormalization)                                               \n",
      "                                                                 \n",
      " dense_6 (Dense)             (None, 1)                 51201     \n",
      "                                                                 \n",
      "=================================================================\n",
      "Total params: 22,058,785\n",
      "Trainable params: 21,921,953\n",
      "Non-trainable params: 136,832\n",
      "_________________________________________________________________\n"
     ]
    }
   ],
   "source": [
    "model3=build_model()\n",
    "\n",
    "model3.summary()"
   ]
  },
  {
   "cell_type": "markdown",
   "id": "9d12c959",
   "metadata": {},
   "source": [
    "<a name=\"2.1\"></a>\n",
    "\n",
    "### model complie & train"
   ]
  },
  {
   "cell_type": "code",
   "execution_count": 67,
   "id": "42b39c13",
   "metadata": {
    "scrolled": true
   },
   "outputs": [
    {
     "name": "stdout",
     "output_type": "stream",
     "text": [
      "Epoch 1/40\n",
      "323/323 [==============================] - ETA: 0s - loss: 0.8368 - accuracy: 0.5224INFO:tensorflow:Assets written to: ./inception_V3_model\\checkpoint\\assets\n"
     ]
    },
    {
     "name": "stderr",
     "output_type": "stream",
     "text": [
      "INFO:tensorflow:Assets written to: ./inception_V3_model\\checkpoint\\assets\n"
     ]
    },
    {
     "name": "stdout",
     "output_type": "stream",
     "text": [
      "323/323 [==============================] - 238s 720ms/step - loss: 0.8368 - accuracy: 0.5224 - val_loss: 0.7507 - val_accuracy: 0.5512 - lr: 1.0000e-08\n",
      "Epoch 2/40\n",
      "323/323 [==============================] - 62s 189ms/step - loss: 0.6220 - accuracy: 0.6885 - val_loss: 0.9243 - val_accuracy: 0.6047 - lr: 1.0007e-05\n",
      "Epoch 3/40\n",
      "323/323 [==============================] - 66s 205ms/step - loss: 0.5115 - accuracy: 0.7705 - val_loss: 0.9844 - val_accuracy: 0.6163 - lr: 2.0003e-05\n",
      "Epoch 4/40\n",
      "323/323 [==============================] - 65s 201ms/step - loss: 0.4399 - accuracy: 0.8069 - val_loss: 1.1850 - val_accuracy: 0.6039 - lr: 3.0000e-05\n",
      "Epoch 5/40\n",
      "323/323 [==============================] - 66s 204ms/step - loss: 0.3604 - accuracy: 0.8508 - val_loss: 1.1866 - val_accuracy: 0.6225 - lr: 2.9946e-05\n",
      "Epoch 6/40\n",
      "323/323 [==============================] - 64s 198ms/step - loss: 0.3402 - accuracy: 0.8547 - val_loss: 1.2639 - val_accuracy: 0.6395 - lr: 2.9784e-05\n",
      "Epoch 7/40\n",
      "323/323 [==============================] - 67s 206ms/step - loss: 0.2868 - accuracy: 0.8843 - val_loss: 1.0789 - val_accuracy: 0.6558 - lr: 2.9516e-05\n",
      "Epoch 8/40\n",
      "323/323 [==============================] - 68s 211ms/step - loss: 0.2848 - accuracy: 0.8810 - val_loss: 1.7020 - val_accuracy: 0.5798 - lr: 2.9143e-05\n",
      "Epoch 9/40\n",
      "323/323 [==============================] - 65s 200ms/step - loss: 0.2657 - accuracy: 0.8918 - val_loss: 0.9335 - val_accuracy: 0.6868 - lr: 2.8668e-05\n",
      "Epoch 10/40\n",
      "323/323 [==============================] - 67s 207ms/step - loss: 0.2467 - accuracy: 0.9040 - val_loss: 2.0411 - val_accuracy: 0.5984 - lr: 2.8095e-05\n",
      "Epoch 11/40\n",
      "323/323 [==============================] - 70s 216ms/step - loss: 0.2119 - accuracy: 0.9160 - val_loss: 1.5951 - val_accuracy: 0.6047 - lr: 2.7428e-05\n",
      "Epoch 12/40\n",
      "323/323 [==============================] - 69s 213ms/step - loss: 0.2139 - accuracy: 0.9170 - val_loss: 1.9438 - val_accuracy: 0.6295 - lr: 2.6671e-05\n",
      "Epoch 13/40\n",
      "323/323 [==============================] - 69s 214ms/step - loss: 0.1861 - accuracy: 0.9261 - val_loss: 2.1566 - val_accuracy: 0.5822 - lr: 2.5829e-05\n",
      "Epoch 14/40\n",
      "323/323 [==============================] - 70s 216ms/step - loss: 0.1944 - accuracy: 0.9309 - val_loss: 2.0181 - val_accuracy: 0.6101 - lr: 2.4910e-05\n",
      "Epoch 15/40\n",
      "323/323 [==============================] - 72s 224ms/step - loss: 0.1770 - accuracy: 0.9334 - val_loss: 2.4463 - val_accuracy: 0.6078 - lr: 2.3919e-05\n",
      "Epoch 16/40\n",
      "323/323 [==============================] - 68s 209ms/step - loss: 0.1594 - accuracy: 0.9402 - val_loss: 1.2411 - val_accuracy: 0.6907 - lr: 2.2865e-05\n",
      "Epoch 17/40\n",
      "323/323 [==============================] - 69s 212ms/step - loss: 0.1381 - accuracy: 0.9398 - val_loss: 2.3907 - val_accuracy: 0.6217 - lr: 2.1753e-05\n",
      "Epoch 18/40\n",
      "323/323 [==============================] - 67s 208ms/step - loss: 0.1434 - accuracy: 0.9437 - val_loss: 2.6118 - val_accuracy: 0.5961 - lr: 2.0593e-05\n",
      "Epoch 19/40\n",
      "323/323 [==============================] - 68s 211ms/step - loss: 0.1258 - accuracy: 0.9510 - val_loss: 2.2762 - val_accuracy: 0.6512 - lr: 1.9392e-05\n",
      "Epoch 20/40\n",
      "323/323 [==============================] - 69s 214ms/step - loss: 0.1261 - accuracy: 0.9501 - val_loss: 1.8321 - val_accuracy: 0.6434 - lr: 1.8160e-05\n",
      "Epoch 21/40\n",
      "323/323 [==============================] - 74s 227ms/step - loss: 0.1144 - accuracy: 0.9543 - val_loss: 1.7261 - val_accuracy: 0.6550 - lr: 1.6905e-05\n",
      "Epoch 22/40\n",
      "323/323 [==============================] - 67s 207ms/step - loss: 0.0987 - accuracy: 0.9617 - val_loss: 1.6283 - val_accuracy: 0.6806 - lr: 1.5637e-05\n",
      "Epoch 23/40\n",
      "323/323 [==============================] - 70s 217ms/step - loss: 0.0965 - accuracy: 0.9630 - val_loss: 1.2886 - val_accuracy: 0.7101 - lr: 1.4363e-05\n",
      "Epoch 24/40\n",
      "323/323 [==============================] - 69s 214ms/step - loss: 0.0966 - accuracy: 0.9671 - val_loss: 1.8017 - val_accuracy: 0.6667 - lr: 1.3095e-05\n",
      "Epoch 25/40\n",
      "323/323 [==============================] - 70s 215ms/step - loss: 0.0964 - accuracy: 0.9640 - val_loss: 1.8351 - val_accuracy: 0.6488 - lr: 1.1840e-05\n",
      "Epoch 26/40\n",
      "323/323 [==============================] - 69s 213ms/step - loss: 0.0809 - accuracy: 0.9681 - val_loss: 1.5167 - val_accuracy: 0.6946 - lr: 1.0608e-05\n",
      "Epoch 27/40\n",
      "323/323 [==============================] - 70s 218ms/step - loss: 0.0687 - accuracy: 0.9756 - val_loss: 2.1272 - val_accuracy: 0.6496 - lr: 9.4072e-06\n",
      "Epoch 28/40\n",
      "323/323 [==============================] - 71s 221ms/step - loss: 0.0662 - accuracy: 0.9795 - val_loss: 1.8533 - val_accuracy: 0.6868 - lr: 8.2469e-06\n",
      "Epoch 29/40\n",
      "323/323 [==============================] - 71s 218ms/step - loss: 0.0631 - accuracy: 0.9766 - val_loss: 2.2622 - val_accuracy: 0.6380 - lr: 7.1354e-06\n",
      "Epoch 30/40\n",
      "323/323 [==============================] - 72s 223ms/step - loss: 0.0581 - accuracy: 0.9793 - val_loss: 2.0338 - val_accuracy: 0.6667 - lr: 6.0805e-06\n",
      "Epoch 31/40\n",
      "323/323 [==============================] - 66s 204ms/step - loss: 0.0624 - accuracy: 0.9770 - val_loss: 2.2276 - val_accuracy: 0.6659 - lr: 5.0899e-06\n",
      "Epoch 32/40\n",
      "323/323 [==============================] - 66s 205ms/step - loss: 0.0505 - accuracy: 0.9801 - val_loss: 1.9010 - val_accuracy: 0.6791 - lr: 4.1707e-06\n",
      "Epoch 33/40\n",
      "323/323 [==============================] - 67s 206ms/step - loss: 0.0469 - accuracy: 0.9847 - val_loss: 2.2004 - val_accuracy: 0.6729 - lr: 3.3295e-06\n",
      "Epoch 34/40\n",
      "323/323 [==============================] - 66s 204ms/step - loss: 0.0497 - accuracy: 0.9824 - val_loss: 1.9430 - val_accuracy: 0.6915 - lr: 2.5724e-06\n",
      "Epoch 35/40\n",
      "323/323 [==============================] - 67s 208ms/step - loss: 0.0455 - accuracy: 0.9834 - val_loss: 2.1191 - val_accuracy: 0.6868 - lr: 1.9048e-06\n",
      "Epoch 36/40\n",
      "323/323 [==============================] - 64s 199ms/step - loss: 0.0453 - accuracy: 0.9830 - val_loss: 1.9961 - val_accuracy: 0.6876 - lr: 1.3316e-06\n",
      "Epoch 37/40\n",
      "323/323 [==============================] - 66s 204ms/step - loss: 0.0447 - accuracy: 0.9839 - val_loss: 2.0705 - val_accuracy: 0.6891 - lr: 8.5684e-07\n",
      "Epoch 38/40\n",
      "323/323 [==============================] - 72s 224ms/step - loss: 0.0431 - accuracy: 0.9874 - val_loss: 2.1305 - val_accuracy: 0.6806 - lr: 4.8401e-07\n",
      "Epoch 39/40\n",
      "323/323 [==============================] - 67s 208ms/step - loss: 0.0361 - accuracy: 0.9865 - val_loss: 2.0892 - val_accuracy: 0.6884 - lr: 2.1576e-07\n",
      "Epoch 40/40\n",
      "323/323 [==============================] - 66s 204ms/step - loss: 0.0485 - accuracy: 0.9841 - val_loss: 2.0821 - val_accuracy: 0.6868 - lr: 5.4038e-08\n"
     ]
    }
   ],
   "source": [
    "history=train_model(model3,train_generator,valid_generator)"
   ]
  },
  {
   "cell_type": "markdown",
   "id": "28b1c66a",
   "metadata": {},
   "source": [
    "<a name=\"2.2\"></a>\n",
    "\n",
    "### train & validation loss and accuracy per epochs"
   ]
  },
  {
   "cell_type": "code",
   "execution_count": 68,
   "id": "5c5b2545",
   "metadata": {},
   "outputs": [
    {
     "data": {
      "image/png": "[encoded data removed]",
      "text/plain": [
       "<Figure size 432x288 with 1 Axes>"
      ]
     },
     "metadata": {
      "needs_background": "light"
     },
     "output_type": "display_data"
    },
    {
     "data": {
      "image/png": "[encoded data removed]",
      "text/plain": [
       "<Figure size 432x288 with 1 Axes>"
      ]
     },
     "metadata": {
      "needs_background": "light"
     },
     "output_type": "display_data"
    }
   ],
   "source": [
    "draw_train_graph(history)"
   ]
  },
  {
   "cell_type": "code",
   "execution_count": 77,
   "id": "36c9389e",
   "metadata": {},
   "outputs": [
    {
     "name": "stdout",
     "output_type": "stream",
     "text": [
      "79/79 [==============================] - 7s 72ms/step - loss: 1.5399 - accuracy: 0.7532\n"
     ]
    },
    {
     "data": {
      "text/plain": [
       "[1.5398921966552734, 0.7531898021697998]"
      ]
     },
     "execution_count": 77,
     "metadata": {},
     "output_type": "execute_result"
    }
   ],
   "source": [
    "model3.evaluate(x_test,y_test)"
   ]
  },
  {
   "cell_type": "code",
   "execution_count": 70,
   "id": "056657b9",
   "metadata": {},
   "outputs": [
    {
     "data": {
      "image/png": "[encoded data removed]",
      "text/plain": [
       "<Figure size 720x504 with 2 Axes>"
      ]
     },
     "metadata": {
      "needs_background": "light"
     },
     "output_type": "display_data"
    }
   ],
   "source": [
    "y_test_predict = draw_confusion_matrix(model3,x_test,y_test)"
   ]
  },
  {
   "cell_type": "code",
   "execution_count": 71,
   "id": "4d626662",
   "metadata": {
    "scrolled": true
   },
   "outputs": [
    {
     "name": "stdout",
     "output_type": "stream",
     "text": [
      "              precision    recall  f1-score   support\n",
      "\n",
      "    abnormal       0.77      0.91      0.83      1700\n",
      "      normal       0.70      0.41      0.52       808\n",
      "\n",
      "    accuracy                           0.75      2508\n",
      "   macro avg       0.73      0.66      0.68      2508\n",
      "weighted avg       0.74      0.75      0.73      2508\n",
      "\n"
     ]
    }
   ],
   "source": [
    "print_classification_report(y_test,  y_test_predict)"
   ]
  },
  {
   "cell_type": "code",
   "execution_count": 73,
   "id": "92d4b428",
   "metadata": {},
   "outputs": [],
   "source": [
    "model3.save('inception_V3_model/my_model3_acc75.h5')"
   ]
  },
  {
   "cell_type": "markdown",
   "id": "ac8f6fd3",
   "metadata": {},
   "source": [
    "<a name=\"4\"></a>\n",
    "##  <span style=\"color:blue\"> **train the model on the paper preprocessed data** </span>"
   ]
  },
  {
   "cell_type": "markdown",
   "id": "488cd9bc",
   "metadata": {},
   "source": [
    "<a name=\"4.1\"></a>\n",
    "\n",
    "### the model on preprocessed imbalanced data"
   ]
  },
  {
   "cell_type": "code",
   "execution_count": 19,
   "id": "f7467009",
   "metadata": {},
   "outputs": [],
   "source": [
    "train_path='D:/projects data/dataset/C-NMC_Leukemia/final/paper preprocessed/imbalanced/'"
   ]
  },
  {
   "cell_type": "code",
   "execution_count": 20,
   "id": "35186e6d",
   "metadata": {},
   "outputs": [
    {
     "name": "stdout",
     "output_type": "stream",
     "text": [
      "Found 8017 images belonging to 2 classes.\n",
      "Found 2003 images belonging to 2 classes.\n"
     ]
    }
   ],
   "source": [
    "train_generator,valid_generator = create_generators(train_path)"
   ]
  },
  {
   "cell_type": "markdown",
   "id": "e0921deb",
   "metadata": {},
   "source": [
    "<a name=\"2\"></a>\n",
    "\n",
    "#### build the model"
   ]
  },
  {
   "cell_type": "code",
   "execution_count": 21,
   "id": "8452ff86",
   "metadata": {},
   "outputs": [
    {
     "name": "stdout",
     "output_type": "stream",
     "text": [
      "Model: \"sequential\"\n",
      "_________________________________________________________________\n",
      " Layer (type)                Output Shape              Param #   \n",
      "=================================================================\n",
      " inception_v3 (Functional)   (None, 5, 5, 2048)        21802784  \n",
      "                                                                 \n",
      " flatten (Flatten)           (None, 51200)             0         \n",
      "                                                                 \n",
      " dropout (Dropout)           (None, 51200)             0         \n",
      "                                                                 \n",
      " batch_normalization_94 (Bat  (None, 51200)            204800    \n",
      " chNormalization)                                                \n",
      "                                                                 \n",
      " dense (Dense)               (None, 1)                 51201     \n",
      "                                                                 \n",
      "=================================================================\n",
      "Total params: 22,058,785\n",
      "Trainable params: 21,921,953\n",
      "Non-trainable params: 136,832\n",
      "_________________________________________________________________\n"
     ]
    }
   ],
   "source": [
    "model4=build_model()\n",
    "\n",
    "model4.summary()"
   ]
  },
  {
   "cell_type": "markdown",
   "id": "ae4e7aa3",
   "metadata": {},
   "source": [
    "<a name=\"2.1\"></a>\n",
    "\n",
    "### model complie & train"
   ]
  },
  {
   "cell_type": "code",
   "execution_count": 22,
   "id": "d49c78a5",
   "metadata": {
    "scrolled": false
   },
   "outputs": [
    {
     "name": "stdout",
     "output_type": "stream",
     "text": [
      "Epoch 1/40\n",
      "502/502 [==============================] - ETA: 0s - loss: 0.8862 - accuracy: 0.4907INFO:tensorflow:Assets written to: ./inception_V3_model\\checkpoint\\assets\n",
      "502/502 [==============================] - 465s 885ms/step - loss: 0.8862 - accuracy: 0.4907 - val_loss: 0.8555 - val_accuracy: 0.4438 - lr: 1.0000e-08\n",
      "Epoch 2/40\n",
      "502/502 [==============================] - ETA: 0s - loss: 0.5982 - accuracy: 0.7041INFO:tensorflow:Assets written to: ./inception_V3_model\\checkpoint\\assets\n",
      "502/502 [==============================] - 122s 243ms/step - loss: 0.5982 - accuracy: 0.7041 - val_loss: 0.6074 - val_accuracy: 0.6960 - lr: 1.0007e-05\n",
      "Epoch 3/40\n",
      "502/502 [==============================] - ETA: 0s - loss: 0.4924 - accuracy: 0.7822INFO:tensorflow:Assets written to: ./inception_V3_model\\checkpoint\\assets\n",
      "502/502 [==============================] - 120s 238ms/step - loss: 0.4924 - accuracy: 0.7822 - val_loss: 0.5853 - val_accuracy: 0.7174 - lr: 2.0003e-05\n",
      "Epoch 4/40\n",
      "502/502 [==============================] - 95s 189ms/step - loss: 0.4826 - accuracy: 0.7919 - val_loss: 0.7234 - val_accuracy: 0.6630 - lr: 3.0000e-05\n",
      "Epoch 5/40\n",
      "502/502 [==============================] - ETA: 0s - loss: 0.4510 - accuracy: 0.8175INFO:tensorflow:Assets written to: ./inception_V3_model\\checkpoint\\assets\n",
      "502/502 [==============================] - 123s 245ms/step - loss: 0.4510 - accuracy: 0.8175 - val_loss: 0.5599 - val_accuracy: 0.7444 - lr: 2.9946e-05\n",
      "Epoch 6/40\n",
      "502/502 [==============================] - ETA: 0s - loss: 0.4204 - accuracy: 0.8219INFO:tensorflow:Assets written to: ./inception_V3_model\\checkpoint\\assets\n",
      "502/502 [==============================] - 122s 242ms/step - loss: 0.4204 - accuracy: 0.8219 - val_loss: 0.5391 - val_accuracy: 0.7644 - lr: 2.9784e-05\n",
      "Epoch 7/40\n",
      "502/502 [==============================] - ETA: 0s - loss: 0.4033 - accuracy: 0.8383INFO:tensorflow:Assets written to: ./inception_V3_model\\checkpoint\\assets\n",
      "502/502 [==============================] - 124s 247ms/step - loss: 0.4033 - accuracy: 0.8383 - val_loss: 0.4830 - val_accuracy: 0.7918 - lr: 2.9516e-05\n",
      "Epoch 8/40\n",
      "502/502 [==============================] - 98s 194ms/step - loss: 0.3968 - accuracy: 0.8366 - val_loss: 0.5407 - val_accuracy: 0.7793 - lr: 2.9143e-05\n",
      "Epoch 9/40\n",
      "502/502 [==============================] - 101s 200ms/step - loss: 0.3734 - accuracy: 0.8451 - val_loss: 0.5245 - val_accuracy: 0.7683 - lr: 2.8668e-05\n",
      "Epoch 10/40\n",
      "502/502 [==============================] - ETA: 0s - loss: 0.3678 - accuracy: 0.8516INFO:tensorflow:Assets written to: ./inception_V3_model\\checkpoint\\assets\n",
      "502/502 [==============================] - 127s 253ms/step - loss: 0.3678 - accuracy: 0.8516 - val_loss: 0.4780 - val_accuracy: 0.7928 - lr: 2.8095e-05\n",
      "Epoch 11/40\n",
      "502/502 [==============================] - ETA: 0s - loss: 0.3495 - accuracy: 0.8543INFO:tensorflow:Assets written to: ./inception_V3_model\\checkpoint\\assets\n",
      "502/502 [==============================] - 124s 245ms/step - loss: 0.3495 - accuracy: 0.8543 - val_loss: 0.4773 - val_accuracy: 0.8088 - lr: 2.7428e-05\n",
      "Epoch 12/40\n",
      "502/502 [==============================] - 101s 200ms/step - loss: 0.3428 - accuracy: 0.8618 - val_loss: 0.4807 - val_accuracy: 0.7903 - lr: 2.6671e-05\n",
      "Epoch 13/40\n",
      "502/502 [==============================] - 99s 197ms/step - loss: 0.3263 - accuracy: 0.8683 - val_loss: 0.5344 - val_accuracy: 0.7439 - lr: 2.5829e-05\n",
      "Epoch 14/40\n",
      "502/502 [==============================] - 100s 200ms/step - loss: 0.3156 - accuracy: 0.8674 - val_loss: 0.7692 - val_accuracy: 0.6465 - lr: 2.4910e-05\n",
      "Epoch 15/40\n",
      "502/502 [==============================] - 100s 199ms/step - loss: 0.3034 - accuracy: 0.8778 - val_loss: 0.6005 - val_accuracy: 0.7389 - lr: 2.3919e-05\n",
      "Epoch 16/40\n",
      "502/502 [==============================] - ETA: 0s - loss: 0.3092 - accuracy: 0.8755INFO:tensorflow:Assets written to: ./inception_V3_model\\checkpoint\\assets\n",
      "502/502 [==============================] - 130s 259ms/step - loss: 0.3092 - accuracy: 0.8755 - val_loss: 0.4743 - val_accuracy: 0.8298 - lr: 2.2865e-05\n",
      "Epoch 17/40\n",
      "502/502 [==============================] - ETA: 0s - loss: 0.2850 - accuracy: 0.8880INFO:tensorflow:Assets written to: ./inception_V3_model\\checkpoint\\assets\n",
      "502/502 [==============================] - 123s 245ms/step - loss: 0.2850 - accuracy: 0.8880 - val_loss: 0.4528 - val_accuracy: 0.8153 - lr: 2.1753e-05\n",
      "Epoch 18/40\n",
      "502/502 [==============================] - 97s 192ms/step - loss: 0.2729 - accuracy: 0.8916 - val_loss: 0.4817 - val_accuracy: 0.7993 - lr: 2.0593e-05\n",
      "Epoch 19/40\n",
      "502/502 [==============================] - 100s 199ms/step - loss: 0.2605 - accuracy: 0.8924 - val_loss: 0.5915 - val_accuracy: 0.7329 - lr: 1.9392e-05\n",
      "Epoch 20/40\n",
      "502/502 [==============================] - ETA: 0s - loss: 0.2640 - accuracy: 0.8980INFO:tensorflow:Assets written to: ./inception_V3_model\\checkpoint\\assets\n",
      "502/502 [==============================] - 126s 252ms/step - loss: 0.2640 - accuracy: 0.8980 - val_loss: 0.4377 - val_accuracy: 0.8218 - lr: 1.8160e-05\n",
      "Epoch 21/40\n",
      "502/502 [==============================] - 97s 193ms/step - loss: 0.2479 - accuracy: 0.9032 - val_loss: 0.4459 - val_accuracy: 0.8298 - lr: 1.6905e-05\n",
      "Epoch 22/40\n",
      "502/502 [==============================] - 98s 194ms/step - loss: 0.2347 - accuracy: 0.9104 - val_loss: 0.4952 - val_accuracy: 0.8328 - lr: 1.5637e-05\n",
      "Epoch 23/40\n",
      "502/502 [==============================] - ETA: 0s - loss: 0.2336 - accuracy: 0.9114INFO:tensorflow:Assets written to: ./inception_V3_model\\checkpoint\\assets\n",
      "502/502 [==============================] - 124s 247ms/step - loss: 0.2336 - accuracy: 0.9114 - val_loss: 0.4179 - val_accuracy: 0.8482 - lr: 1.4363e-05\n",
      "Epoch 24/40\n",
      "502/502 [==============================] - ETA: 0s - loss: 0.2157 - accuracy: 0.9117INFO:tensorflow:Assets written to: ./inception_V3_model\\checkpoint\\assets\n",
      "502/502 [==============================] - 123s 245ms/step - loss: 0.2157 - accuracy: 0.9117 - val_loss: 0.3906 - val_accuracy: 0.8497 - lr: 1.3095e-05\n",
      "Epoch 25/40\n",
      "502/502 [==============================] - 100s 198ms/step - loss: 0.2144 - accuracy: 0.9176 - val_loss: 0.4632 - val_accuracy: 0.8078 - lr: 1.1840e-05\n",
      "Epoch 26/40\n",
      "502/502 [==============================] - 102s 204ms/step - loss: 0.1974 - accuracy: 0.9212 - val_loss: 0.4062 - val_accuracy: 0.8357 - lr: 1.0608e-05\n",
      "Epoch 27/40\n",
      "502/502 [==============================] - 99s 197ms/step - loss: 0.1926 - accuracy: 0.9247 - val_loss: 0.4025 - val_accuracy: 0.8457 - lr: 9.4072e-06\n",
      "Epoch 28/40\n",
      "502/502 [==============================] - 102s 202ms/step - loss: 0.1833 - accuracy: 0.9309 - val_loss: 0.4053 - val_accuracy: 0.8502 - lr: 8.2469e-06\n",
      "Epoch 29/40\n",
      "502/502 [==============================] - 99s 198ms/step - loss: 0.1756 - accuracy: 0.9330 - val_loss: 0.3959 - val_accuracy: 0.8622 - lr: 7.1354e-06\n",
      "Epoch 30/40\n",
      "502/502 [==============================] - 100s 199ms/step - loss: 0.1688 - accuracy: 0.9321 - val_loss: 0.4264 - val_accuracy: 0.8253 - lr: 6.0805e-06\n",
      "Epoch 31/40\n",
      "502/502 [==============================] - 100s 198ms/step - loss: 0.1647 - accuracy: 0.9351 - val_loss: 0.4291 - val_accuracy: 0.8288 - lr: 5.0899e-06\n",
      "Epoch 32/40\n",
      "502/502 [==============================] - 97s 192ms/step - loss: 0.1578 - accuracy: 0.9395 - val_loss: 0.3999 - val_accuracy: 0.8632 - lr: 4.1707e-06\n",
      "Epoch 33/40\n",
      "502/502 [==============================] - 98s 195ms/step - loss: 0.1563 - accuracy: 0.9389 - val_loss: 0.4244 - val_accuracy: 0.8447 - lr: 3.3295e-06\n",
      "Epoch 34/40\n",
      "502/502 [==============================] - 96s 192ms/step - loss: 0.1584 - accuracy: 0.9398 - val_loss: 0.4101 - val_accuracy: 0.8477 - lr: 2.5724e-06\n",
      "Epoch 35/40\n",
      "502/502 [==============================] - 96s 191ms/step - loss: 0.1493 - accuracy: 0.9436 - val_loss: 0.4175 - val_accuracy: 0.8367 - lr: 1.9048e-06\n",
      "Epoch 36/40\n",
      "502/502 [==============================] - 99s 198ms/step - loss: 0.1420 - accuracy: 0.9404 - val_loss: 0.4114 - val_accuracy: 0.8427 - lr: 1.3316e-06\n",
      "Epoch 37/40\n",
      "502/502 [==============================] - 97s 193ms/step - loss: 0.1435 - accuracy: 0.9449 - val_loss: 0.4193 - val_accuracy: 0.8447 - lr: 8.5684e-07\n",
      "Epoch 38/40\n"
     ]
    },
    {
     "name": "stdout",
     "output_type": "stream",
     "text": [
      "502/502 [==============================] - 96s 191ms/step - loss: 0.1396 - accuracy: 0.9436 - val_loss: 0.4144 - val_accuracy: 0.8427 - lr: 4.8401e-07\n",
      "Epoch 39/40\n",
      "502/502 [==============================] - 96s 191ms/step - loss: 0.1372 - accuracy: 0.9440 - val_loss: 0.4128 - val_accuracy: 0.8447 - lr: 2.1576e-07\n",
      "Epoch 40/40\n",
      "502/502 [==============================] - 100s 199ms/step - loss: 0.1478 - accuracy: 0.9430 - val_loss: 0.4187 - val_accuracy: 0.8417 - lr: 5.4038e-08\n"
     ]
    }
   ],
   "source": [
    "history=train_model(model4,train_generator,valid_generator)"
   ]
  },
  {
   "cell_type": "markdown",
   "id": "1b562ec8",
   "metadata": {},
   "source": [
    "<a name=\"2.2\"></a>\n",
    "\n",
    "### train & validation loss and accuracy per epochs"
   ]
  },
  {
   "cell_type": "code",
   "execution_count": 23,
   "id": "41e4507e",
   "metadata": {},
   "outputs": [
    {
     "data": {
      "image/png": "[encoded data removed]",
      "text/plain": [
       "<Figure size 432x288 with 1 Axes>"
      ]
     },
     "metadata": {
      "needs_background": "light"
     },
     "output_type": "display_data"
    },
    {
     "data": {
      "image/png": "[encoded data removed]",
      "text/plain": [
       "<Figure size 432x288 with 1 Axes>"
      ]
     },
     "metadata": {
      "needs_background": "light"
     },
     "output_type": "display_data"
    }
   ],
   "source": [
    "draw_train_graph(history)"
   ]
  },
  {
   "cell_type": "code",
   "execution_count": 8,
   "id": "7fe02247",
   "metadata": {},
   "outputs": [
    {
     "name": "stdout",
     "output_type": "stream",
     "text": [
      "79/79 [==============================] - 39s 302ms/step - loss: 0.7156 - accuracy: 0.7081\n"
     ]
    },
    {
     "data": {
      "text/plain": [
       "[0.7156015038490295, 0.7081339955329895]"
      ]
     },
     "execution_count": 8,
     "metadata": {},
     "output_type": "execute_result"
    }
   ],
   "source": [
    "model4.evaluate(x_test,y_test)"
   ]
  },
  {
   "cell_type": "code",
   "execution_count": 24,
   "id": "cdaf4a52",
   "metadata": {},
   "outputs": [
    {
     "data": {
      "image/png": "[encoded data removed]",
      "text/plain": [
       "<Figure size 720x504 with 2 Axes>"
      ]
     },
     "metadata": {
      "needs_background": "light"
     },
     "output_type": "display_data"
    }
   ],
   "source": [
    "y_test_predict = draw_confusion_matrix(model4,x_test,y_test)"
   ]
  },
  {
   "cell_type": "code",
   "execution_count": 25,
   "id": "e4d55d66",
   "metadata": {
    "scrolled": true
   },
   "outputs": [
    {
     "name": "stdout",
     "output_type": "stream",
     "text": [
      "              precision    recall  f1-score   support\n",
      "\n",
      "    abnormal       0.77      0.80      0.78      1700\n",
      "      normal       0.54      0.51      0.52       808\n",
      "\n",
      "    accuracy                           0.70      2508\n",
      "   macro avg       0.66      0.65      0.65      2508\n",
      "weighted avg       0.70      0.70      0.70      2508\n",
      "\n"
     ]
    }
   ],
   "source": [
    "print_classification_report(y_test,  y_test_predict)"
   ]
  },
  {
   "cell_type": "code",
   "execution_count": 26,
   "id": "408a7c95",
   "metadata": {},
   "outputs": [],
   "source": [
    "model4.save('inception_V3_model/my_model4_acc70.h5')"
   ]
  },
  {
   "cell_type": "markdown",
   "id": "6b5f9694",
   "metadata": {},
   "source": [
    "<a name=\"4.2\"></a>\n",
    "\n",
    "### the model on preprocessed oversampled data"
   ]
  },
  {
   "cell_type": "code",
   "execution_count": 30,
   "id": "2720396c",
   "metadata": {},
   "outputs": [],
   "source": [
    "train_path='D:/projects data/dataset/C-NMC_Leukemia/final/paper preprocessed/oversampled/'"
   ]
  },
  {
   "cell_type": "code",
   "execution_count": 31,
   "id": "43833c00",
   "metadata": {},
   "outputs": [
    {
     "name": "stdout",
     "output_type": "stream",
     "text": [
      "Found 10866 images belonging to 2 classes.\n",
      "Found 2716 images belonging to 2 classes.\n"
     ]
    }
   ],
   "source": [
    "train_generator,valid_generator = create_generators(train_path)"
   ]
  },
  {
   "cell_type": "markdown",
   "id": "3ce19748",
   "metadata": {},
   "source": [
    "<a name=\"2\"></a>\n",
    "\n",
    "### build the model"
   ]
  },
  {
   "cell_type": "code",
   "execution_count": 32,
   "id": "eef1f9f7",
   "metadata": {},
   "outputs": [
    {
     "name": "stdout",
     "output_type": "stream",
     "text": [
      "Model: \"sequential_1\"\n",
      "_________________________________________________________________\n",
      " Layer (type)                Output Shape              Param #   \n",
      "=================================================================\n",
      " inception_v3 (Functional)   (None, 5, 5, 2048)        21802784  \n",
      "                                                                 \n",
      " flatten_1 (Flatten)         (None, 51200)             0         \n",
      "                                                                 \n",
      " dropout_1 (Dropout)         (None, 51200)             0         \n",
      "                                                                 \n",
      " batch_normalization_189 (Ba  (None, 51200)            204800    \n",
      " tchNormalization)                                               \n",
      "                                                                 \n",
      " dense_1 (Dense)             (None, 1)                 51201     \n",
      "                                                                 \n",
      "=================================================================\n",
      "Total params: 22,058,785\n",
      "Trainable params: 21,921,953\n",
      "Non-trainable params: 136,832\n",
      "_________________________________________________________________\n"
     ]
    }
   ],
   "source": [
    "model5=build_model()\n",
    "\n",
    "model5.summary()"
   ]
  },
  {
   "cell_type": "markdown",
   "id": "d6628975",
   "metadata": {},
   "source": [
    "<a name=\"2.1\"></a>\n",
    "\n",
    "### model complie & train"
   ]
  },
  {
   "cell_type": "code",
   "execution_count": 33,
   "id": "cd727653",
   "metadata": {
    "scrolled": false
   },
   "outputs": [
    {
     "name": "stdout",
     "output_type": "stream",
     "text": [
      "Epoch 1/40\n",
      "680/680 [==============================] - ETA: 0s - loss: 0.8481 - accuracy: 0.5051INFO:tensorflow:Assets written to: ./inception_V3_model\\checkpoint\\assets\n",
      "680/680 [==============================] - 660s 962ms/step - loss: 0.8481 - accuracy: 0.5051 - val_loss: 0.8154 - val_accuracy: 0.5074 - lr: 1.0000e-08\n",
      "Epoch 2/40\n",
      "680/680 [==============================] - ETA: 0s - loss: 0.5148 - accuracy: 0.7556INFO:tensorflow:Assets written to: ./inception_V3_model\\checkpoint\\assets\n",
      "680/680 [==============================] - 519s 764ms/step - loss: 0.5148 - accuracy: 0.7556 - val_loss: 0.5100 - val_accuracy: 0.7452 - lr: 1.0007e-05\n",
      "Epoch 3/40\n",
      "680/680 [==============================] - ETA: 0s - loss: 0.4285 - accuracy: 0.8161INFO:tensorflow:Assets written to: ./inception_V3_model\\checkpoint\\assets\n",
      "680/680 [==============================] - 147s 215ms/step - loss: 0.4285 - accuracy: 0.8161 - val_loss: 0.4946 - val_accuracy: 0.7515 - lr: 2.0003e-05\n",
      "Epoch 4/40\n",
      "680/680 [==============================] - ETA: 0s - loss: 0.4148 - accuracy: 0.8228INFO:tensorflow:Assets written to: ./inception_V3_model\\checkpoint\\assets\n",
      "680/680 [==============================] - 158s 232ms/step - loss: 0.4148 - accuracy: 0.8228 - val_loss: 0.2858 - val_accuracy: 0.8855 - lr: 3.0000e-05\n",
      "Epoch 5/40\n",
      "680/680 [==============================] - 137s 201ms/step - loss: 0.3850 - accuracy: 0.8378 - val_loss: 0.3722 - val_accuracy: 0.8343 - lr: 2.9946e-05\n",
      "Epoch 6/40\n",
      "680/680 [==============================] - ETA: 0s - loss: 0.3610 - accuracy: 0.8474INFO:tensorflow:Assets written to: ./inception_V3_model\\checkpoint\\assets\n",
      "680/680 [==============================] - 157s 230ms/step - loss: 0.3610 - accuracy: 0.8474 - val_loss: 0.2512 - val_accuracy: 0.8943 - lr: 2.9784e-05\n",
      "Epoch 7/40\n",
      "680/680 [==============================] - 140s 205ms/step - loss: 0.3403 - accuracy: 0.8591 - val_loss: 0.2802 - val_accuracy: 0.8634 - lr: 2.9516e-05\n",
      "Epoch 8/40\n",
      "680/680 [==============================] - ETA: 0s - loss: 0.3192 - accuracy: 0.8667INFO:tensorflow:Assets written to: ./inception_V3_model\\checkpoint\\assets\n",
      "680/680 [==============================] - 166s 245ms/step - loss: 0.3192 - accuracy: 0.8667 - val_loss: 0.2441 - val_accuracy: 0.9057 - lr: 2.9143e-05\n",
      "Epoch 9/40\n",
      "680/680 [==============================] - ETA: 0s - loss: 0.3103 - accuracy: 0.8747INFO:tensorflow:Assets written to: ./inception_V3_model\\checkpoint\\assets\n",
      "680/680 [==============================] - 162s 237ms/step - loss: 0.3103 - accuracy: 0.8747 - val_loss: 0.1977 - val_accuracy: 0.9300 - lr: 2.8668e-05\n",
      "Epoch 10/40\n",
      "680/680 [==============================] - 127s 186ms/step - loss: 0.2907 - accuracy: 0.8809 - val_loss: 0.4961 - val_accuracy: 0.7714 - lr: 2.8095e-05\n",
      "Epoch 11/40\n",
      "680/680 [==============================] - 128s 189ms/step - loss: 0.2704 - accuracy: 0.8901 - val_loss: 0.2392 - val_accuracy: 0.9083 - lr: 2.7428e-05\n",
      "Epoch 12/40\n",
      "680/680 [==============================] - ETA: 0s - loss: 0.2664 - accuracy: 0.8954INFO:tensorflow:Assets written to: ./inception_V3_model\\checkpoint\\assets\n",
      "680/680 [==============================] - 166s 244ms/step - loss: 0.2664 - accuracy: 0.8954 - val_loss: 0.1904 - val_accuracy: 0.9300 - lr: 2.6671e-05\n",
      "Epoch 13/40\n",
      "680/680 [==============================] - 133s 196ms/step - loss: 0.2544 - accuracy: 0.8948 - val_loss: 0.2130 - val_accuracy: 0.9098 - lr: 2.5829e-05\n",
      "Epoch 14/40\n",
      "680/680 [==============================] - 130s 192ms/step - loss: 0.2497 - accuracy: 0.9010 - val_loss: 0.1972 - val_accuracy: 0.9289 - lr: 2.4910e-05\n",
      "Epoch 15/40\n",
      "680/680 [==============================] - 149s 219ms/step - loss: 0.2413 - accuracy: 0.9047 - val_loss: 0.5343 - val_accuracy: 0.7603 - lr: 2.3919e-05\n",
      "Epoch 16/40\n",
      "680/680 [==============================] - ETA: 0s - loss: 0.2229 - accuracy: 0.9117INFO:tensorflow:Assets written to: ./inception_V3_model\\checkpoint\\assets\n",
      "680/680 [==============================] - 165s 242ms/step - loss: 0.2229 - accuracy: 0.9117 - val_loss: 0.1543 - val_accuracy: 0.9448 - lr: 2.2865e-05\n",
      "Epoch 17/40\n",
      "680/680 [==============================] - 136s 199ms/step - loss: 0.2132 - accuracy: 0.9159 - val_loss: 0.1592 - val_accuracy: 0.9415 - lr: 2.1753e-05\n",
      "Epoch 18/40\n",
      "680/680 [==============================] - 134s 196ms/step - loss: 0.2084 - accuracy: 0.9166 - val_loss: 0.2164 - val_accuracy: 0.9094 - lr: 2.0593e-05\n",
      "Epoch 19/40\n",
      "680/680 [==============================] - ETA: 0s - loss: 0.2013 - accuracy: 0.9199INFO:tensorflow:Assets written to: ./inception_V3_model\\checkpoint\\assets\n",
      "680/680 [==============================] - 165s 242ms/step - loss: 0.2013 - accuracy: 0.9199 - val_loss: 0.1379 - val_accuracy: 0.9496 - lr: 1.9392e-05\n",
      "Epoch 20/40\n",
      "680/680 [==============================] - 135s 197ms/step - loss: 0.1889 - accuracy: 0.9274 - val_loss: 0.1526 - val_accuracy: 0.9473 - lr: 1.8160e-05\n",
      "Epoch 21/40\n",
      "680/680 [==============================] - 137s 202ms/step - loss: 0.1863 - accuracy: 0.9261 - val_loss: 0.1583 - val_accuracy: 0.9437 - lr: 1.6905e-05\n",
      "Epoch 22/40\n",
      "680/680 [==============================] - ETA: 0s - loss: 0.1776 - accuracy: 0.9282INFO:tensorflow:Assets written to: ./inception_V3_model\\checkpoint\\assets\n",
      "680/680 [==============================] - 171s 251ms/step - loss: 0.1776 - accuracy: 0.9282 - val_loss: 0.1363 - val_accuracy: 0.9488 - lr: 1.5637e-05\n",
      "Epoch 23/40\n",
      "680/680 [==============================] - 142s 208ms/step - loss: 0.1680 - accuracy: 0.9353 - val_loss: 0.1364 - val_accuracy: 0.9554 - lr: 1.4363e-05\n",
      "Epoch 24/40\n",
      "680/680 [==============================] - ETA: 0s - loss: 0.1647 - accuracy: 0.9333INFO:tensorflow:Assets written to: ./inception_V3_model\\checkpoint\\assets\n",
      "680/680 [==============================] - 176s 259ms/step - loss: 0.1647 - accuracy: 0.9333 - val_loss: 0.1355 - val_accuracy: 0.9558 - lr: 1.3095e-05\n",
      "Epoch 25/40\n",
      "680/680 [==============================] - ETA: 0s - loss: 0.1560 - accuracy: 0.9410INFO:tensorflow:Assets written to: ./inception_V3_model\\checkpoint\\assets\n",
      "680/680 [==============================] - 168s 246ms/step - loss: 0.1560 - accuracy: 0.9410 - val_loss: 0.1348 - val_accuracy: 0.9529 - lr: 1.1840e-05\n",
      "Epoch 26/40\n",
      "680/680 [==============================] - ETA: 0s - loss: 0.1490 - accuracy: 0.9415INFO:tensorflow:Assets written to: ./inception_V3_model\\checkpoint\\assets\n",
      "680/680 [==============================] - 162s 238ms/step - loss: 0.1490 - accuracy: 0.9415 - val_loss: 0.1281 - val_accuracy: 0.9562 - lr: 1.0608e-05\n",
      "Epoch 27/40\n",
      "680/680 [==============================] - 134s 196ms/step - loss: 0.1436 - accuracy: 0.9454 - val_loss: 0.1342 - val_accuracy: 0.9543 - lr: 9.4072e-06\n",
      "Epoch 28/40\n",
      "680/680 [==============================] - 138s 203ms/step - loss: 0.1383 - accuracy: 0.9475 - val_loss: 0.1448 - val_accuracy: 0.9510 - lr: 8.2469e-06\n",
      "Epoch 29/40\n",
      "680/680 [==============================] - 149s 218ms/step - loss: 0.1268 - accuracy: 0.9509 - val_loss: 0.1406 - val_accuracy: 0.9536 - lr: 7.1354e-06\n",
      "Epoch 30/40\n",
      "680/680 [==============================] - 137s 201ms/step - loss: 0.1182 - accuracy: 0.9526 - val_loss: 0.1544 - val_accuracy: 0.9462 - lr: 6.0805e-06\n",
      "Epoch 31/40\n",
      "680/680 [==============================] - 141s 208ms/step - loss: 0.1158 - accuracy: 0.9564 - val_loss: 0.1558 - val_accuracy: 0.9411 - lr: 5.0899e-06\n",
      "Epoch 32/40\n",
      "680/680 [==============================] - 133s 196ms/step - loss: 0.1102 - accuracy: 0.9577 - val_loss: 0.1440 - val_accuracy: 0.9507 - lr: 4.1707e-06\n",
      "Epoch 33/40\n",
      "680/680 [==============================] - 132s 193ms/step - loss: 0.1023 - accuracy: 0.9613 - val_loss: 0.1433 - val_accuracy: 0.9554 - lr: 3.3295e-06\n",
      "Epoch 34/40\n",
      "680/680 [==============================] - 134s 197ms/step - loss: 0.1045 - accuracy: 0.9594 - val_loss: 0.1506 - val_accuracy: 0.9503 - lr: 2.5724e-06\n",
      "Epoch 35/40\n",
      "680/680 [==============================] - 130s 192ms/step - loss: 0.1074 - accuracy: 0.9599 - val_loss: 0.1455 - val_accuracy: 0.9551 - lr: 1.9048e-06\n",
      "Epoch 36/40\n",
      "680/680 [==============================] - 130s 191ms/step - loss: 0.0955 - accuracy: 0.9646 - val_loss: 0.1480 - val_accuracy: 0.9532 - lr: 1.3316e-06\n",
      "Epoch 37/40\n",
      "680/680 [==============================] - 140s 206ms/step - loss: 0.0960 - accuracy: 0.9642 - val_loss: 0.1493 - val_accuracy: 0.9507 - lr: 8.5684e-07\n",
      "Epoch 38/40\n",
      "680/680 [==============================] - 138s 203ms/step - loss: 0.0944 - accuracy: 0.9659 - val_loss: 0.1524 - val_accuracy: 0.9492 - lr: 4.8401e-07\n",
      "Epoch 39/40\n",
      "680/680 [==============================] - 131s 193ms/step - loss: 0.0902 - accuracy: 0.9640 - val_loss: 0.1500 - val_accuracy: 0.9499 - lr: 2.1576e-07\n",
      "Epoch 40/40\n",
      "680/680 [==============================] - 157s 231ms/step - loss: 0.0964 - accuracy: 0.9632 - val_loss: 0.1501 - val_accuracy: 0.9503 - lr: 5.4038e-08\n"
     ]
    }
   ],
   "source": [
    "history=train_model(model5,train_generator,valid_generator)"
   ]
  },
  {
   "cell_type": "markdown",
   "id": "c71773dd",
   "metadata": {},
   "source": [
    "<a name=\"2.2\"></a>\n",
    "\n",
    "### train & validation loss and accuracy per epochs"
   ]
  },
  {
   "cell_type": "code",
   "execution_count": 34,
   "id": "ee6d2ca0",
   "metadata": {},
   "outputs": [
    {
     "data": {
      "image/png": "[encoded data removed]",
      "text/plain": [
       "<Figure size 432x288 with 1 Axes>"
      ]
     },
     "metadata": {
      "needs_background": "light"
     },
     "output_type": "display_data"
    },
    {
     "data": {
      "image/png": "[encoded data removed]",
      "text/plain": [
       "<Figure size 432x288 with 1 Axes>"
      ]
     },
     "metadata": {
      "needs_background": "light"
     },
     "output_type": "display_data"
    }
   ],
   "source": [
    "draw_train_graph(history)"
   ]
  },
  {
   "cell_type": "code",
   "execution_count": 38,
   "id": "757c2987",
   "metadata": {},
   "outputs": [
    {
     "name": "stdout",
     "output_type": "stream",
     "text": [
      "79/79 [==============================] - 8s 76ms/step - loss: 0.9507 - accuracy: 0.7313\n"
     ]
    },
    {
     "data": {
      "text/plain": [
       "[0.950700044631958, 0.7312599420547485]"
      ]
     },
     "execution_count": 38,
     "metadata": {},
     "output_type": "execute_result"
    }
   ],
   "source": [
    "model5.evaluate(x_test,y_test)"
   ]
  },
  {
   "cell_type": "code",
   "execution_count": 35,
   "id": "5cc2a4d0",
   "metadata": {},
   "outputs": [
    {
     "data": {
      "image/png": "[encoded data removed]",
      "text/plain": [
       "<Figure size 720x504 with 2 Axes>"
      ]
     },
     "metadata": {
      "needs_background": "light"
     },
     "output_type": "display_data"
    }
   ],
   "source": [
    "y_test_predict = draw_confusion_matrix(model6,x_test,y_test)"
   ]
  },
  {
   "cell_type": "code",
   "execution_count": 36,
   "id": "630c771d",
   "metadata": {
    "scrolled": true
   },
   "outputs": [
    {
     "name": "stdout",
     "output_type": "stream",
     "text": [
      "              precision    recall  f1-score   support\n",
      "\n",
      "    abnormal       0.77      0.82      0.79      1700\n",
      "      normal       0.55      0.48      0.52       808\n",
      "\n",
      "    accuracy                           0.71      2508\n",
      "   macro avg       0.66      0.65      0.65      2508\n",
      "weighted avg       0.70      0.71      0.70      2508\n",
      "\n"
     ]
    }
   ],
   "source": [
    "print_classification_report(y_test,  y_test_predict)"
   ]
  },
  {
   "cell_type": "code",
   "execution_count": 39,
   "id": "6acf9025",
   "metadata": {},
   "outputs": [],
   "source": [
    "model5.save('inception_V3_model/my_model5_acc71.h5')"
   ]
  },
  {
   "cell_type": "markdown",
   "id": "540c75a4",
   "metadata": {},
   "source": [
    "<a name=\"4.3\"></a>\n",
    "\n",
    "### the model on undersampled preprocessed data"
   ]
  },
  {
   "cell_type": "code",
   "execution_count": 17,
   "id": "151895f0",
   "metadata": {},
   "outputs": [],
   "source": [
    "train_path='D:/projects data/dataset/C-NMC_Leukemia/final/paper preprocessed/undersampled/'"
   ]
  },
  {
   "cell_type": "code",
   "execution_count": 18,
   "id": "10af735b",
   "metadata": {},
   "outputs": [
    {
     "name": "stdout",
     "output_type": "stream",
     "text": [
      "Found 5168 images belonging to 2 classes.\n",
      "Found 1290 images belonging to 2 classes.\n"
     ]
    }
   ],
   "source": [
    "train_generator ,valid_generator = create_generators(train_path)"
   ]
  },
  {
   "cell_type": "code",
   "execution_count": 19,
   "id": "d970a795",
   "metadata": {},
   "outputs": [
    {
     "name": "stdout",
     "output_type": "stream",
     "text": [
      "Model: \"sequential\"\n",
      "_________________________________________________________________\n",
      " Layer (type)                Output Shape              Param #   \n",
      "=================================================================\n",
      " inception_v3 (Functional)   (None, 5, 5, 2048)        21802784  \n",
      "                                                                 \n",
      " flatten (Flatten)           (None, 51200)             0         \n",
      "                                                                 \n",
      " dropout (Dropout)           (None, 51200)             0         \n",
      "                                                                 \n",
      " batch_normalization_94 (Bat  (None, 51200)            204800    \n",
      " chNormalization)                                                \n",
      "                                                                 \n",
      " dense (Dense)               (None, 1)                 51201     \n",
      "                                                                 \n",
      "=================================================================\n",
      "Total params: 22,058,785\n",
      "Trainable params: 21,921,953\n",
      "Non-trainable params: 136,832\n",
      "_________________________________________________________________\n"
     ]
    }
   ],
   "source": [
    "model6=build_model()\n",
    "model6.summary()"
   ]
  },
  {
   "cell_type": "code",
   "execution_count": 20,
   "id": "2ef78fc3",
   "metadata": {
    "scrolled": false
   },
   "outputs": [
    {
     "name": "stdout",
     "output_type": "stream",
     "text": [
      "Epoch 1/40\n",
      "323/323 [==============================] - ETA: 0s - loss: 0.8469 - accuracy: 0.5174INFO:tensorflow:Assets written to: ./inception_V3_model\\checkpoint\\assets\n",
      "323/323 [==============================] - 241s 722ms/step - loss: 0.8469 - accuracy: 0.5174 - val_loss: 0.7911 - val_accuracy: 0.4760 - lr: 1.0000e-08\n",
      "Epoch 2/40\n",
      "323/323 [==============================] - ETA: 0s - loss: 0.6862 - accuracy: 0.6577INFO:tensorflow:Assets written to: ./inception_V3_model\\checkpoint\\assets\n",
      "323/323 [==============================] - 108s 331ms/step - loss: 0.6862 - accuracy: 0.6577 - val_loss: 0.5193 - val_accuracy: 0.7581 - lr: 1.0007e-05\n",
      "Epoch 3/40\n",
      "323/323 [==============================] - ETA: 0s - loss: 0.6004 - accuracy: 0.7140INFO:tensorflow:Assets written to: ./inception_V3_model\\checkpoint\\assets\n",
      "323/323 [==============================] - 78s 241ms/step - loss: 0.6004 - accuracy: 0.7140 - val_loss: 0.5060 - val_accuracy: 0.7372 - lr: 2.0003e-05\n",
      "Epoch 4/40\n",
      "323/323 [==============================] - ETA: 0s - loss: 0.5721 - accuracy: 0.7345INFO:tensorflow:Assets written to: ./inception_V3_model\\checkpoint\\assets\n",
      "323/323 [==============================] - 79s 244ms/step - loss: 0.5721 - accuracy: 0.7345 - val_loss: 0.4990 - val_accuracy: 0.7674 - lr: 3.0000e-05\n",
      "Epoch 5/40\n",
      "323/323 [==============================] - 52s 161ms/step - loss: 0.5435 - accuracy: 0.7523 - val_loss: 0.5222 - val_accuracy: 0.7605 - lr: 2.9946e-05\n",
      "Epoch 6/40\n",
      "323/323 [==============================] - ETA: 0s - loss: 0.5283 - accuracy: 0.7628INFO:tensorflow:Assets written to: ./inception_V3_model\\checkpoint\\assets\n",
      "323/323 [==============================] - 79s 246ms/step - loss: 0.5283 - accuracy: 0.7628 - val_loss: 0.4432 - val_accuracy: 0.8008 - lr: 2.9784e-05\n",
      "Epoch 7/40\n",
      "323/323 [==============================] - ETA: 0s - loss: 0.5269 - accuracy: 0.7525INFO:tensorflow:Assets written to: ./inception_V3_model\\checkpoint\\assets\n",
      "323/323 [==============================] - 80s 247ms/step - loss: 0.5269 - accuracy: 0.7525 - val_loss: 0.4230 - val_accuracy: 0.8202 - lr: 2.9516e-05\n",
      "Epoch 8/40\n",
      "323/323 [==============================] - ETA: 0s - loss: 0.4937 - accuracy: 0.7755INFO:tensorflow:Assets written to: ./inception_V3_model\\checkpoint\\assets\n",
      "323/323 [==============================] - 80s 246ms/step - loss: 0.4937 - accuracy: 0.7755 - val_loss: 0.3987 - val_accuracy: 0.8217 - lr: 2.9143e-05\n",
      "Epoch 9/40\n",
      "323/323 [==============================] - 53s 164ms/step - loss: 0.4690 - accuracy: 0.7914 - val_loss: 0.4388 - val_accuracy: 0.8217 - lr: 2.8668e-05\n",
      "Epoch 10/40\n",
      "323/323 [==============================] - 54s 168ms/step - loss: 0.4752 - accuracy: 0.7879 - val_loss: 0.4937 - val_accuracy: 0.7783 - lr: 2.8095e-05\n",
      "Epoch 11/40\n",
      "323/323 [==============================] - ETA: 0s - loss: 0.4396 - accuracy: 0.8082INFO:tensorflow:Assets written to: ./inception_V3_model\\checkpoint\\assets\n",
      "323/323 [==============================] - 80s 249ms/step - loss: 0.4396 - accuracy: 0.8082 - val_loss: 0.3812 - val_accuracy: 0.8209 - lr: 2.7428e-05\n",
      "Epoch 12/40\n",
      "323/323 [==============================] - 59s 181ms/step - loss: 0.4451 - accuracy: 0.8036 - val_loss: 0.4129 - val_accuracy: 0.8054 - lr: 2.6671e-05\n",
      "Epoch 13/40\n",
      "323/323 [==============================] - 55s 170ms/step - loss: 0.4313 - accuracy: 0.8117 - val_loss: 0.3852 - val_accuracy: 0.8248 - lr: 2.5829e-05\n",
      "Epoch 14/40\n",
      "323/323 [==============================] - ETA: 0s - loss: 0.4325 - accuracy: 0.8111INFO:tensorflow:Assets written to: ./inception_V3_model\\checkpoint\\assets\n",
      "323/323 [==============================] - 81s 252ms/step - loss: 0.4325 - accuracy: 0.8111 - val_loss: 0.3799 - val_accuracy: 0.8295 - lr: 2.4910e-05\n",
      "Epoch 15/40\n",
      "323/323 [==============================] - 54s 166ms/step - loss: 0.4077 - accuracy: 0.8200 - val_loss: 0.4595 - val_accuracy: 0.7884 - lr: 2.3919e-05\n",
      "Epoch 16/40\n",
      "323/323 [==============================] - ETA: 0s - loss: 0.3900 - accuracy: 0.8249INFO:tensorflow:Assets written to: ./inception_V3_model\\checkpoint\\assets\n",
      "323/323 [==============================] - 77s 239ms/step - loss: 0.3900 - accuracy: 0.8249 - val_loss: 0.3604 - val_accuracy: 0.8419 - lr: 2.2865e-05\n",
      "Epoch 17/40\n",
      "323/323 [==============================] - ETA: 0s - loss: 0.3707 - accuracy: 0.8411INFO:tensorflow:Assets written to: ./inception_V3_model\\checkpoint\\assets\n",
      "323/323 [==============================] - 162s 502ms/step - loss: 0.3707 - accuracy: 0.8411 - val_loss: 0.3462 - val_accuracy: 0.8496 - lr: 2.1753e-05\n",
      "Epoch 18/40\n",
      "323/323 [==============================] - 64s 196ms/step - loss: 0.3663 - accuracy: 0.8415 - val_loss: 0.4507 - val_accuracy: 0.8031 - lr: 2.0593e-05\n",
      "Epoch 19/40\n",
      "323/323 [==============================] - ETA: 0s - loss: 0.3598 - accuracy: 0.8444INFO:tensorflow:Assets written to: ./inception_V3_model\\checkpoint\\assets\n",
      "323/323 [==============================] - 83s 257ms/step - loss: 0.3598 - accuracy: 0.8444 - val_loss: 0.3117 - val_accuracy: 0.8744 - lr: 1.9392e-05\n",
      "Epoch 20/40\n",
      "323/323 [==============================] - 53s 163ms/step - loss: 0.3523 - accuracy: 0.8454 - val_loss: 0.3346 - val_accuracy: 0.8558 - lr: 1.8160e-05\n",
      "Epoch 21/40\n",
      "323/323 [==============================] - ETA: 0s - loss: 0.3392 - accuracy: 0.8582INFO:tensorflow:Assets written to: ./inception_V3_model\\checkpoint\\assets\n",
      "323/323 [==============================] - 82s 255ms/step - loss: 0.3392 - accuracy: 0.8582 - val_loss: 0.3055 - val_accuracy: 0.8729 - lr: 1.6905e-05\n",
      "Epoch 22/40\n",
      "323/323 [==============================] - 55s 171ms/step - loss: 0.3286 - accuracy: 0.8618 - val_loss: 0.3111 - val_accuracy: 0.8760 - lr: 1.5637e-05\n",
      "Epoch 23/40\n",
      "323/323 [==============================] - ETA: 0s - loss: 0.3208 - accuracy: 0.8646INFO:tensorflow:Assets written to: ./inception_V3_model\\checkpoint\\assets\n",
      "323/323 [==============================] - 81s 251ms/step - loss: 0.3208 - accuracy: 0.8646 - val_loss: 0.3050 - val_accuracy: 0.8690 - lr: 1.4363e-05\n",
      "Epoch 24/40\n",
      "323/323 [==============================] - 53s 164ms/step - loss: 0.3182 - accuracy: 0.8624 - val_loss: 0.3593 - val_accuracy: 0.8558 - lr: 1.3095e-05\n",
      "Epoch 25/40\n",
      "323/323 [==============================] - 56s 174ms/step - loss: 0.3089 - accuracy: 0.8626 - val_loss: 0.3758 - val_accuracy: 0.8318 - lr: 1.1840e-05\n",
      "Epoch 26/40\n",
      "323/323 [==============================] - 60s 186ms/step - loss: 0.3031 - accuracy: 0.8715 - val_loss: 0.4334 - val_accuracy: 0.8039 - lr: 1.0608e-05\n",
      "Epoch 27/40\n",
      "323/323 [==============================] - 57s 177ms/step - loss: 0.2907 - accuracy: 0.8795 - val_loss: 0.3572 - val_accuracy: 0.8558 - lr: 9.4072e-06\n",
      "Epoch 28/40\n",
      "323/323 [==============================] - 54s 168ms/step - loss: 0.2803 - accuracy: 0.8851 - val_loss: 0.3319 - val_accuracy: 0.8636 - lr: 8.2469e-06\n",
      "Epoch 29/40\n",
      "323/323 [==============================] - 54s 166ms/step - loss: 0.2729 - accuracy: 0.8864 - val_loss: 0.3661 - val_accuracy: 0.8395 - lr: 7.1354e-06\n",
      "Epoch 30/40\n",
      "323/323 [==============================] - 57s 175ms/step - loss: 0.2657 - accuracy: 0.8891 - val_loss: 0.3745 - val_accuracy: 0.8465 - lr: 6.0805e-06\n",
      "Epoch 31/40\n",
      "323/323 [==============================] - 209s 649ms/step - loss: 0.2516 - accuracy: 0.8996 - val_loss: 0.3390 - val_accuracy: 0.8574 - lr: 5.0899e-06\n",
      "Epoch 32/40\n",
      "323/323 [==============================] - 284s 878ms/step - loss: 0.2517 - accuracy: 0.8980 - val_loss: 0.3425 - val_accuracy: 0.8612 - lr: 4.1707e-06\n",
      "Epoch 33/40\n",
      "323/323 [==============================] - 194s 601ms/step - loss: 0.2466 - accuracy: 0.8980 - val_loss: 0.3544 - val_accuracy: 0.8512 - lr: 3.3295e-06\n",
      "Epoch 34/40\n",
      "323/323 [==============================] - 218s 675ms/step - loss: 0.2387 - accuracy: 0.9081 - val_loss: 0.3637 - val_accuracy: 0.8512 - lr: 2.5724e-06\n",
      "Epoch 35/40\n",
      "323/323 [==============================] - 227s 703ms/step - loss: 0.2315 - accuracy: 0.9021 - val_loss: 0.3542 - val_accuracy: 0.8473 - lr: 1.9048e-06\n",
      "Epoch 36/40\n",
      "323/323 [==============================] - 228s 704ms/step - loss: 0.2393 - accuracy: 0.9013 - val_loss: 0.3707 - val_accuracy: 0.8488 - lr: 1.3316e-06\n",
      "Epoch 37/40\n",
      "323/323 [==============================] - 213s 658ms/step - loss: 0.2261 - accuracy: 0.9062 - val_loss: 0.3501 - val_accuracy: 0.8550 - lr: 8.5684e-07\n"
     ]
    },
    {
     "name": "stdout",
     "output_type": "stream",
     "text": [
      "Epoch 38/40\n",
      "323/323 [==============================] - 196s 606ms/step - loss: 0.2400 - accuracy: 0.8996 - val_loss: 0.3466 - val_accuracy: 0.8527 - lr: 4.8401e-07\n",
      "Epoch 39/40\n",
      "323/323 [==============================] - 124s 383ms/step - loss: 0.2343 - accuracy: 0.9036 - val_loss: 0.3485 - val_accuracy: 0.8566 - lr: 2.1576e-07\n",
      "Epoch 40/40\n",
      "323/323 [==============================] - 53s 163ms/step - loss: 0.2210 - accuracy: 0.9106 - val_loss: 0.3510 - val_accuracy: 0.8512 - lr: 5.4038e-08\n"
     ]
    }
   ],
   "source": [
    "history= train_model(model6 ,train_generator ,valid_generator)"
   ]
  },
  {
   "cell_type": "code",
   "execution_count": 22,
   "id": "9df14dd2",
   "metadata": {},
   "outputs": [
    {
     "data": {
      "image/png": "[encoded data removed]",
      "text/plain": [
       "<Figure size 432x288 with 1 Axes>"
      ]
     },
     "metadata": {
      "needs_background": "light"
     },
     "output_type": "display_data"
    },
    {
     "data": {
      "image/png": "[encoded data removed]",
      "text/plain": [
       "<Figure size 432x288 with 1 Axes>"
      ]
     },
     "metadata": {
      "needs_background": "light"
     },
     "output_type": "display_data"
    }
   ],
   "source": [
    "draw_train_graph(history)"
   ]
  },
  {
   "cell_type": "code",
   "execution_count": 27,
   "id": "44c7d4cc",
   "metadata": {},
   "outputs": [
    {
     "name": "stdout",
     "output_type": "stream",
     "text": [
      "79/79 [==============================] - 7s 72ms/step - loss: 0.7156 - accuracy: 0.7081\n"
     ]
    },
    {
     "data": {
      "text/plain": [
       "[0.7156036496162415, 0.7081339955329895]"
      ]
     },
     "execution_count": 27,
     "metadata": {},
     "output_type": "execute_result"
    }
   ],
   "source": [
    "model6.evaluate(x_test,y_test)"
   ]
  },
  {
   "cell_type": "code",
   "execution_count": 23,
   "id": "57939d2c",
   "metadata": {},
   "outputs": [
    {
     "data": {
      "image/png": "[encoded data removed]",
      "text/plain": [
       "<Figure size 720x504 with 2 Axes>"
      ]
     },
     "metadata": {
      "needs_background": "light"
     },
     "output_type": "display_data"
    }
   ],
   "source": [
    "y_test_predict = draw_confusion_matrix(model6,x_test,y_test)"
   ]
  },
  {
   "cell_type": "code",
   "execution_count": 24,
   "id": "32edd95b",
   "metadata": {},
   "outputs": [
    {
     "name": "stdout",
     "output_type": "stream",
     "text": [
      "              precision    recall  f1-score   support\n",
      "\n",
      "    abnormal       0.77      0.82      0.79      1700\n",
      "      normal       0.55      0.48      0.52       808\n",
      "\n",
      "    accuracy                           0.71      2508\n",
      "   macro avg       0.66      0.65      0.65      2508\n",
      "weighted avg       0.70      0.71      0.70      2508\n",
      "\n"
     ]
    }
   ],
   "source": [
    "print_classification_report(y_test,  y_test_predict)"
   ]
  },
  {
   "cell_type": "code",
   "execution_count": 29,
   "id": "98e4c1ea",
   "metadata": {},
   "outputs": [],
   "source": [
    "model6.save('inception_V3_model/my_model6_acc71.h5')"
   ]
  },
  {
   "cell_type": "code",
   "execution_count": null,
   "id": "aa910338",
   "metadata": {},
   "outputs": [],
   "source": []
  },
  {
   "cell_type": "code",
   "execution_count": 19,
   "id": "c28412ac",
   "metadata": {},
   "outputs": [
    {
     "data": {
      "text/plain": [
       "array([[0.]], dtype=float32)"
      ]
     },
     "execution_count": 19,
     "metadata": {},
     "output_type": "execute_result"
    }
   ],
   "source": [
    "image=np.expand_dims(x_test[1],axis=0)\n",
    "\n",
    "np.round(model5.predict(image))"
   ]
  },
  {
   "cell_type": "code",
   "execution_count": 18,
   "id": "a4e1882e",
   "metadata": {},
   "outputs": [
    {
     "data": {
      "text/plain": [
       "0"
      ]
     },
     "execution_count": 18,
     "metadata": {},
     "output_type": "execute_result"
    }
   ],
   "source": [
    "y_test[1]"
   ]
  }
 ],
 "metadata": {
  "kernelspec": {
   "display_name": "Python 3",
   "language": "python",
   "name": "python3"
  },
  "language_info": {
   "codemirror_mode": {
    "name": "ipython",
    "version": 3
   },
   "file_extension": ".py",
   "mimetype": "text/x-python",
   "name": "python",
   "nbconvert_exporter": "python",
   "pygments_lexer": "ipython3",
   "version": "3.8.8"
  }
 },
 "nbformat": 4,
 "nbformat_minor": 5
}
