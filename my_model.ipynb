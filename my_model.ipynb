{
 "cells": [
  {
   "cell_type": "markdown",
   "id": "09c8251f",
   "metadata": {},
   "source": [
    "# Outline\n",
    "- [Part 1:  import packages](#1) \n",
    "    \n",
    "    \n",
    "- [Part 2:  prepare functions](#2)\n",
    "\n",
    "    - [2.1  create train & validation generators function](#2.1)\n",
    "    - [2.2  build model function](#2.2)\n",
    "    - [2.3  learning rate scadular](#2.3)\n",
    "    - [2.4  model training function](#2.4)\n",
    "    - [2.5  load test data](#2.5)\n",
    "    - [2.6  draw training graph function](#2.6)\n",
    "    - [2.7  draw confusion_matrix function](#2.7)\n",
    "    - [2.8  print classification report function](#2.8)\n",
    "    \n",
    "    \n",
    "- [Part 3:  train the model on the original data](#3)\n",
    "\n",
    "    - [3.1  model on imbalanced data](#3.1)\n",
    "        - [3.1.1  model architecture](#3.1.1)\n",
    "        - [3.1.2  train the model](#3.1.2)\n",
    "        - [3.1.3  train results](#3.1.3)\n",
    "        - [3.1.4  test results](#3.1.4)\n",
    "        \n",
    "    - [3.2  model on oversampled data](#3.2)\n",
    "        - [3.2.1  model architecture](#3.2.1)\n",
    "        - [3.2.2  train the model](#3.2.2)\n",
    "        - [3.2.3  train results](#3.2.3)\n",
    "        - [3.2.4  test results](#3.2.4)\n",
    "        \n",
    "    - [3.3  model on undersampled data](#3.3)\n",
    "        - [3.3.1  model architecture](#3.3.1)\n",
    "        - [3.3.2  train the model](#3.3.2)\n",
    "        - [3.3.3  train results](#3.3.3)\n",
    "        - [3.3.4  test results](#3.3.4)\n",
    "\n",
    "- [Part 4:  train the model on the paper preprocessed data](#4)\n",
    "\n",
    "    - [4.1  model on imbalanced data](#4.1)\n",
    "        - [4.1.1  model architecture](#4.1.1)\n",
    "        - [4.1.2  train the model](#4.1.2)\n",
    "        - [4.1.3  train results](#4.1.3)\n",
    "        - [4.1.4  test results](#4.1.4)\n",
    "        \n",
    "    - [4.2  model on oversampled data](#4.2)\n",
    "        - [4.2.1  model architecture](#4.2.1)\n",
    "        - [4.2.2  train the model](#4.2.2)\n",
    "        - [4.2.3  train results](#4.2.3)\n",
    "        - [4.2.4  test results](#4.2.4)\n",
    "        \n",
    "    - [4.3  model on undersampled data](#4.3)\n",
    "        - [4.3.1  model architecture](#4.3.1)\n",
    "        - [4.3.2  train the model](#4.3.2)\n",
    "        - [4.3.3  train results](#4.3.3)\n",
    "        - [4.3.4  test results](#4.3.4)\n",
    "\n"
   ]
  },
  {
   "cell_type": "markdown",
   "id": "7093e963",
   "metadata": {},
   "source": [
    "<a name=\"1\"></a>\n",
    "##  <span style=\"color:blue\"> **import packages** </span>"
   ]
  },
  {
   "cell_type": "code",
   "execution_count": 1,
   "id": "8a449634",
   "metadata": {},
   "outputs": [],
   "source": [
    "import numpy as np\n",
    "from tqdm import tqdm\n",
    "import glob\n",
    "import pickle\n",
    "import math\n",
    "#for images preprocessing\n",
    "# from sklearn.model_selection import train_test_split\n",
    "# import cv2\n",
    "# from skimage.feature import hog,canny\n",
    "# from skimage.color import rgb2gray\n",
    "\n",
    "#for model\n",
    "from tensorflow import keras\n",
    "import tensorflow as tf\n",
    "from tensorflow.keras.models import Sequential\n",
    "from tensorflow.keras.layers import InputLayer, Conv2D, BatchNormalization, MaxPool2D, Dropout, Flatten, Dense\n",
    "from tensorflow.keras.callbacks import EarlyStopping, ModelCheckpoint,LearningRateScheduler\n",
    "from tensorflow.keras.preprocessing.image import ImageDataGenerator\n",
    "\n",
    "#for model evaluation and visualization\n",
    "from sklearn.metrics import confusion_matrix\n",
    "import seaborn as sn\n",
    "from sklearn.metrics import classification_report\n",
    "import matplotlib.pyplot as plt\n",
    "\n",
    "%matplotlib inline"
   ]
  },
  {
   "cell_type": "code",
   "execution_count": 2,
   "id": "92778543",
   "metadata": {},
   "outputs": [
    {
     "data": {
      "text/plain": [
       "True"
      ]
     },
     "execution_count": 2,
     "metadata": {},
     "output_type": "execute_result"
    }
   ],
   "source": [
    "# to avoid gpu errors\n",
    "from tensorflow.compat.v1 import ConfigProto\n",
    "from tensorflow.compat.v1 import InteractiveSession\n",
    "\n",
    "config = ConfigProto()\n",
    "config.gpu_options.allow_growth = True\n",
    "session = InteractiveSession(config=config)\n",
    "#to check if using the gpu\n",
    "tf.test.is_built_with_cuda()"
   ]
  },
  {
   "cell_type": "markdown",
   "id": "4ed0a9a8",
   "metadata": {},
   "source": [
    "<a name=\"2\"></a>\n",
    "##  <span style=\"color:blue\"> **prepare functions** </span>"
   ]
  },
  {
   "cell_type": "markdown",
   "id": "06d94fdf",
   "metadata": {},
   "source": [
    "<a name=\"2.1\"></a>"
   ]
  },
  {
   "cell_type": "code",
   "execution_count": 3,
   "id": "18366334",
   "metadata": {},
   "outputs": [],
   "source": [
    "\n",
    "# build train & validation generator \n",
    "def create_generators(train_path):\n",
    "    train_datagen  = ImageDataGenerator(\n",
    "                                        rescale=1 / 255.0,\n",
    "                                        rotation_range=30,\n",
    "                                        zoom_range = 0.2,\n",
    "                                        validation_split=0.2)\n",
    "\n",
    "    train_generator = train_datagen.flow_from_directory(\n",
    "        directory=train_path,\n",
    "        target_size=(224, 224),\n",
    "        batch_size=16,\n",
    "        class_mode=\"binary\",\n",
    "        subset='training',\n",
    "        shuffle=True,\n",
    "    )\n",
    "\n",
    "    valid_datagen=ImageDataGenerator(\n",
    "                                    rescale=1 / 255.0,\n",
    "                                    validation_split=0.2)\n",
    "\n",
    "    valid_generator = valid_datagen.flow_from_directory(\n",
    "        directory=train_path,\n",
    "        target_size=(224, 224),\n",
    "        batch_size=16,\n",
    "        class_mode=\"binary\",\n",
    "        subset='validation',\n",
    "    )\n",
    "    return train_generator ,valid_generator"
   ]
  },
  {
   "cell_type": "markdown",
   "id": "eac690e0",
   "metadata": {},
   "source": [
    "<a name=\"2.2\"></a>"
   ]
  },
  {
   "cell_type": "code",
   "execution_count": 17,
   "id": "d6b6137a",
   "metadata": {},
   "outputs": [],
   "source": [
    "# build the model\n",
    "def build_model():\n",
    "    model = Sequential()\n",
    "\n",
    "    # Input layer\n",
    "    model.add(InputLayer(input_shape = (224,224,3)))\n",
    "\n",
    "\n",
    "    # Adding layers\n",
    "    model.add(Conv2D(filters = 32,   kernel_size  = (3, 3), padding='valid', activation='relu'))\n",
    "    model.add(BatchNormalization())\n",
    "    model.add(MaxPool2D(pool_size = (2, 2), padding = 'valid'))\n",
    "    model.add(Dropout(0.4))\n",
    "\n",
    "    model.add(Conv2D(filters = 64,   kernel_size  = (3, 3), padding='valid', activation='relu'))\n",
    "    model.add(BatchNormalization())\n",
    "    model.add(MaxPool2D(pool_size = (2, 2), padding = 'valid'))\n",
    "    model.add(Dropout(0.4))\n",
    "\n",
    "    model.add(Conv2D(filters = 128,  kernel_size  = (3, 3), padding='valid', activation='relu'))\n",
    "    model.add(BatchNormalization())\n",
    "    model.add(MaxPool2D(pool_size = (2, 2), padding = 'valid'))\n",
    "    model.add(Dropout(0.4))\n",
    "\n",
    "\n",
    "    model.add(Flatten())\n",
    "\n",
    "\n",
    "    # Adding full connected layer (dense)\n",
    "    model.add(Dense(units = 512, activation = 'relu'))\n",
    "    model.add(BatchNormalization())\n",
    "    model.add(Dropout(0.4))\n",
    "\n",
    "\n",
    "    # Adding output layer\n",
    "    model.add(Dense(units = 1, activation='sigmoid'))\n",
    "\n",
    "\n",
    "    return model"
   ]
  },
  {
   "cell_type": "markdown",
   "id": "deaa643a",
   "metadata": {},
   "source": [
    "<a name=\"2.3\"></a>"
   ]
  },
  {
   "cell_type": "code",
   "execution_count": 5,
   "id": "2c34f23e",
   "metadata": {},
   "outputs": [],
   "source": [
    "EPOCHS = 40\n",
    "\n",
    "LEARNING_RATE = 3e-5\n",
    "LR_START = 1e-8\n",
    "LR_MIN = 1e-8\n",
    "LR_MAX = LEARNING_RATE\n",
    "\n",
    "LR_RAMPUP_EPOCHS = 3\n",
    "LR_SUSTAIN_EPOCHS = 0\n",
    "N_CYCLES = .5\n",
    " "
   ]
  },
  {
   "cell_type": "code",
   "execution_count": 6,
   "id": "33c13c50",
   "metadata": {},
   "outputs": [],
   "source": [
    "# scadular for modifing learning rate during training\n",
    "def lrfn(epoch):\n",
    "    if epoch < LR_RAMPUP_EPOCHS:\n",
    "        lr = (LR_MAX - LR_START) / LR_RAMPUP_EPOCHS * epoch + LR_START\n",
    "    elif epoch < LR_RAMPUP_EPOCHS + LR_SUSTAIN_EPOCHS:\n",
    "        lr = LR_MAX\n",
    "    else:\n",
    "        progress = (epoch - LR_RAMPUP_EPOCHS - LR_SUSTAIN_EPOCHS) / (EPOCHS - LR_RAMPUP_EPOCHS - LR_SUSTAIN_EPOCHS)\n",
    "        lr = LR_MAX * (0.5 * (1.0 + tf.math.cos(math.pi * N_CYCLES * 2.0 * progress)))\n",
    "        if LR_MIN is not None:\n",
    "            lr = tf.math.maximum(LR_MIN, lr)\n",
    "            \n",
    "    return lr\n",
    "\n",
    "# def scheduler(epoch, lr):\n",
    "#     if epoch %2 != 0:\n",
    "#          return lr\n",
    "#     else:\n",
    "#          return lr* tf.math.exp(-0.1)\n",
    "# #         "
   ]
  },
  {
   "cell_type": "markdown",
   "id": "0c14d59d",
   "metadata": {},
   "source": [
    "<a name=\"2.4\"></a>"
   ]
  },
  {
   "cell_type": "code",
   "execution_count": 7,
   "id": "d87e7b62",
   "metadata": {},
   "outputs": [],
   "source": [
    "#train the model\n",
    "def train_model(model, train_generator, valid_generator):\n",
    "    \n",
    "    checkpoint_filepath = './my_model/checkpoint'\n",
    "    model_checkpoint_callback = ModelCheckpoint(\n",
    "    filepath=checkpoint_filepath,\n",
    "    save_weights_only=False,\n",
    "    monitor='val_accuracy',\n",
    "    mode='max',\n",
    "    save_best_only=True,\n",
    "    verbose=0)\n",
    "\n",
    "    callback = [LearningRateScheduler(lrfn),model_checkpoint_callback]\n",
    "    \n",
    "    model.compile(optimizer = tf.keras.optimizers.Adam(), loss = 'binary_crossentropy', metrics = ['accuracy'])\n",
    "    history= model.fit(train_generator ,validation_data=(valid_generator) ,epochs=EPOCHS,callbacks=callback)\n",
    "    return history"
   ]
  },
  {
   "cell_type": "markdown",
   "id": "9cc5e847",
   "metadata": {},
   "source": [
    "<a name=\"2.5\"></a>"
   ]
  },
  {
   "cell_type": "code",
   "execution_count": 24,
   "id": "0c639f2a",
   "metadata": {},
   "outputs": [],
   "source": [
    "# load test data\n",
    "x_test=pickle.load(open(\"D:/projects data/dataset/C-NMC_Leukemia/final/x_test.pkl\", 'rb'))\n",
    "y_test=pickle.load(open('D:/projects data/dataset/C-NMC_Leukemia/final/y_test.pkl', 'rb'))"
   ]
  },
  {
   "cell_type": "code",
   "execution_count": 22,
   "id": "a40a9341",
   "metadata": {},
   "outputs": [],
   "source": [
    "# test data for paper preprocessed\n",
    "x_test=pickle.load(open(\"D:/projects data/dataset/C-NMC_Leukemia/final/x_test_pre1.pkl\", 'rb'))\n",
    "y_test=pickle.load(open('D:/projects data/dataset/C-NMC_Leukemia/final/y_test.pkl', 'rb'))"
   ]
  },
  {
   "cell_type": "markdown",
   "id": "4ae1cde9",
   "metadata": {},
   "source": [
    "<a name=\"2.6\"></a>"
   ]
  },
  {
   "cell_type": "code",
   "execution_count": 8,
   "id": "461186f5",
   "metadata": {},
   "outputs": [],
   "source": [
    "# graph of (train & validation) (accuracy & loss) per training epochs\n",
    "def draw_train_graph(history):\n",
    "    acc = history.history['accuracy']\n",
    "    val_acc = history.history['val_accuracy']\n",
    "    loss = history.history['loss']\n",
    "    val_loss = history.history['val_loss']\n",
    "\n",
    "\n",
    "    import matplotlib.pyplot as plt\n",
    "\n",
    "    epochs = range(1, len(acc) + 1)\n",
    "\n",
    "    plt.plot(epochs, acc, label='Training acc')\n",
    "    plt.plot(epochs, val_acc, label='Validation acc')\n",
    "    plt.title('Training and validation accuracy')\n",
    "    plt.legend()\n",
    "\n",
    "    plt.figure()\n",
    "\n",
    "    plt.plot(epochs, loss, label='Training loss')\n",
    "    plt.plot(epochs, val_loss, label='Validation loss')\n",
    "    plt.title('Training and validation loss')\n",
    "    plt.legend()\n",
    "\n",
    "    plt.show()"
   ]
  },
  {
   "cell_type": "markdown",
   "id": "760ebdf0",
   "metadata": {},
   "source": [
    "<a name=\"2.7\"></a>"
   ]
  },
  {
   "cell_type": "code",
   "execution_count": 9,
   "id": "b5c9cf5e",
   "metadata": {},
   "outputs": [],
   "source": [
    "# draw the confusion_matrix for testing data \n",
    "def draw_confusion_matrix(model,x_test,y_test):\n",
    "\n",
    "    y_test_predict=model.predict(x_test)\n",
    "    y_test_predict = np.around(y_test_predict)\n",
    "    #Generate the confusion matrix\n",
    "    cf_matrix = confusion_matrix(y_test, y_test_predict)\n",
    "\n",
    "\n",
    "    plt.figure(figsize = (10,7))\n",
    "    sn.heatmap(cf_matrix, annot=True,cmap='Blues', fmt='g')\n",
    "    return y_test_predict"
   ]
  },
  {
   "cell_type": "markdown",
   "id": "63638485",
   "metadata": {},
   "source": [
    "<a name=\"2.8\"></a>"
   ]
  },
  {
   "cell_type": "code",
   "execution_count": 10,
   "id": "038e0c0e",
   "metadata": {},
   "outputs": [],
   "source": [
    "# print the classification_report for testing data \n",
    "def print_classification_report(y_test,  y_test_predict):\n",
    "    target_names = ['abnormal', 'normal']\n",
    "    print(classification_report(y_test,  y_test_predict,target_names=target_names))"
   ]
  },
  {
   "cell_type": "markdown",
   "id": "3faaecd8",
   "metadata": {},
   "source": [
    "<a name=\"3\"></a>\n",
    "##  <span style=\"color:blue\"> **train the model on the original data** </span>"
   ]
  },
  {
   "cell_type": "markdown",
   "id": "a77a0cc3",
   "metadata": {},
   "source": [
    "<a name=\"3.1\"></a>\n",
    "\n",
    "### on original imbalanced data"
   ]
  },
  {
   "cell_type": "code",
   "execution_count": 11,
   "id": "d6605926",
   "metadata": {},
   "outputs": [],
   "source": [
    "train_path='D:/projects data/dataset/C-NMC_Leukemia/final/original/imbalanced/training_data'"
   ]
  },
  {
   "cell_type": "code",
   "execution_count": 12,
   "id": "8dcd1700",
   "metadata": {},
   "outputs": [
    {
     "name": "stdout",
     "output_type": "stream",
     "text": [
      "Found 8017 images belonging to 2 classes.\n",
      "Found 2003 images belonging to 2 classes.\n"
     ]
    }
   ],
   "source": [
    "train_generator,valid_generator = create_generators(train_path)"
   ]
  },
  {
   "cell_type": "code",
   "execution_count": 18,
   "id": "ce844926",
   "metadata": {
    "scrolled": true
   },
   "outputs": [
    {
     "name": "stdout",
     "output_type": "stream",
     "text": [
      "Model: \"sequential_1\"\n",
      "_________________________________________________________________\n",
      " Layer (type)                Output Shape              Param #   \n",
      "=================================================================\n",
      " conv2d_3 (Conv2D)           (None, 222, 222, 32)      896       \n",
      "                                                                 \n",
      " batch_normalization_4 (Batc  (None, 222, 222, 32)     128       \n",
      " hNormalization)                                                 \n",
      "                                                                 \n",
      " max_pooling2d_3 (MaxPooling  (None, 111, 111, 32)     0         \n",
      " 2D)                                                             \n",
      "                                                                 \n",
      " dropout_4 (Dropout)         (None, 111, 111, 32)      0         \n",
      "                                                                 \n",
      " conv2d_4 (Conv2D)           (None, 109, 109, 64)      18496     \n",
      "                                                                 \n",
      " batch_normalization_5 (Batc  (None, 109, 109, 64)     256       \n",
      " hNormalization)                                                 \n",
      "                                                                 \n",
      " max_pooling2d_4 (MaxPooling  (None, 54, 54, 64)       0         \n",
      " 2D)                                                             \n",
      "                                                                 \n",
      " dropout_5 (Dropout)         (None, 54, 54, 64)        0         \n",
      "                                                                 \n",
      " conv2d_5 (Conv2D)           (None, 52, 52, 128)       73856     \n",
      "                                                                 \n",
      " batch_normalization_6 (Batc  (None, 52, 52, 128)      512       \n",
      " hNormalization)                                                 \n",
      "                                                                 \n",
      " max_pooling2d_5 (MaxPooling  (None, 26, 26, 128)      0         \n",
      " 2D)                                                             \n",
      "                                                                 \n",
      " dropout_6 (Dropout)         (None, 26, 26, 128)       0         \n",
      "                                                                 \n",
      " flatten_1 (Flatten)         (None, 86528)             0         \n",
      "                                                                 \n",
      " dense_2 (Dense)             (None, 512)               44302848  \n",
      "                                                                 \n",
      " batch_normalization_7 (Batc  (None, 512)              2048      \n",
      " hNormalization)                                                 \n",
      "                                                                 \n",
      " dropout_7 (Dropout)         (None, 512)               0         \n",
      "                                                                 \n",
      " dense_3 (Dense)             (None, 1)                 513       \n",
      "                                                                 \n",
      "=================================================================\n",
      "Total params: 44,399,553\n",
      "Trainable params: 44,398,081\n",
      "Non-trainable params: 1,472\n",
      "_________________________________________________________________\n"
     ]
    }
   ],
   "source": [
    "model1=build_model()\n",
    "\n",
    "model1.summary()"
   ]
  },
  {
   "cell_type": "markdown",
   "id": "a8c4cb80",
   "metadata": {},
   "source": [
    "<a name=\"2.1\"></a>\n",
    "\n",
    "### model complie & train"
   ]
  },
  {
   "cell_type": "code",
   "execution_count": 19,
   "id": "41b27e94",
   "metadata": {
    "scrolled": false
   },
   "outputs": [
    {
     "name": "stdout",
     "output_type": "stream",
     "text": [
      "Epoch 1/40\n",
      "502/502 [==============================] - ETA: 0s - loss: 1.0248 - accuracy: 0.4962INFO:tensorflow:Assets written to: ./my_model\\checkpoint\\assets\n",
      "502/502 [==============================] - 97s 190ms/step - loss: 1.0248 - accuracy: 0.4962 - val_loss: 0.6345 - val_accuracy: 0.6795 - lr: 1.0000e-08\n",
      "Epoch 2/40\n",
      "502/502 [==============================] - 85s 169ms/step - loss: 0.7016 - accuracy: 0.6920 - val_loss: 1.3729 - val_accuracy: 0.3774 - lr: 1.0007e-05\n",
      "Epoch 3/40\n",
      "502/502 [==============================] - 87s 174ms/step - loss: 0.6572 - accuracy: 0.7102 - val_loss: 2.2114 - val_accuracy: 0.4493 - lr: 2.0003e-05\n",
      "Epoch 4/40\n",
      "502/502 [==============================] - 90s 179ms/step - loss: 0.5912 - accuracy: 0.7379 - val_loss: 1.8973 - val_accuracy: 0.5901 - lr: 3.0000e-05\n",
      "Epoch 5/40\n",
      "502/502 [==============================] - 87s 173ms/step - loss: 0.5358 - accuracy: 0.7608 - val_loss: 2.3546 - val_accuracy: 0.5342 - lr: 2.9946e-05\n",
      "Epoch 6/40\n",
      "502/502 [==============================] - 89s 177ms/step - loss: 0.5342 - accuracy: 0.7644 - val_loss: 2.8842 - val_accuracy: 0.4858 - lr: 2.9784e-05\n",
      "Epoch 7/40\n",
      "502/502 [==============================] - 85s 170ms/step - loss: 0.5273 - accuracy: 0.7645 - val_loss: 2.3536 - val_accuracy: 0.5422 - lr: 2.9516e-05\n",
      "Epoch 8/40\n",
      "502/502 [==============================] - 87s 172ms/step - loss: 0.4919 - accuracy: 0.7792 - val_loss: 2.0252 - val_accuracy: 0.6051 - lr: 2.9143e-05\n",
      "Epoch 9/40\n",
      "502/502 [==============================] - 86s 172ms/step - loss: 0.5026 - accuracy: 0.7791 - val_loss: 1.8286 - val_accuracy: 0.5881 - lr: 2.8668e-05\n",
      "Epoch 10/40\n",
      "502/502 [==============================] - 86s 172ms/step - loss: 0.4891 - accuracy: 0.7801 - val_loss: 1.8316 - val_accuracy: 0.5726 - lr: 2.8095e-05\n",
      "Epoch 11/40\n",
      "502/502 [==============================] - 86s 171ms/step - loss: 0.4825 - accuracy: 0.7943 - val_loss: 2.0723 - val_accuracy: 0.5587 - lr: 2.7428e-05\n",
      "Epoch 12/40\n",
      "502/502 [==============================] - 88s 175ms/step - loss: 0.4787 - accuracy: 0.7906 - val_loss: 2.2231 - val_accuracy: 0.5457 - lr: 2.6671e-05\n",
      "Epoch 13/40\n",
      "502/502 [==============================] - 87s 173ms/step - loss: 0.4788 - accuracy: 0.7922 - val_loss: 2.3643 - val_accuracy: 0.5107 - lr: 2.5829e-05\n",
      "Epoch 14/40\n",
      "502/502 [==============================] - 92s 183ms/step - loss: 0.4710 - accuracy: 0.7943 - val_loss: 2.3669 - val_accuracy: 0.5167 - lr: 2.4910e-05\n",
      "Epoch 15/40\n",
      "502/502 [==============================] - 91s 180ms/step - loss: 0.4730 - accuracy: 0.7924 - val_loss: 2.3498 - val_accuracy: 0.5317 - lr: 2.3919e-05\n",
      "Epoch 16/40\n",
      "502/502 [==============================] - 87s 174ms/step - loss: 0.4589 - accuracy: 0.8015 - val_loss: 2.3228 - val_accuracy: 0.5207 - lr: 2.2865e-05\n",
      "Epoch 17/40\n",
      "502/502 [==============================] - 89s 176ms/step - loss: 0.4563 - accuracy: 0.8042 - val_loss: 2.3368 - val_accuracy: 0.5642 - lr: 2.1753e-05\n",
      "Epoch 18/40\n",
      "502/502 [==============================] - 90s 179ms/step - loss: 0.4515 - accuracy: 0.8032 - val_loss: 2.3888 - val_accuracy: 0.6176 - lr: 2.0593e-05\n",
      "Epoch 19/40\n",
      "502/502 [==============================] - 90s 179ms/step - loss: 0.4338 - accuracy: 0.8146 - val_loss: 2.0460 - val_accuracy: 0.5602 - lr: 1.9392e-05\n",
      "Epoch 20/40\n",
      "502/502 [==============================] - 92s 184ms/step - loss: 0.4454 - accuracy: 0.8139 - val_loss: 1.9183 - val_accuracy: 0.5901 - lr: 1.8160e-05\n",
      "Epoch 21/40\n",
      "502/502 [==============================] - 90s 179ms/step - loss: 0.4389 - accuracy: 0.8173 - val_loss: 2.0471 - val_accuracy: 0.6101 - lr: 1.6905e-05\n",
      "Epoch 22/40\n",
      "502/502 [==============================] - 92s 184ms/step - loss: 0.4343 - accuracy: 0.8150 - val_loss: 2.0105 - val_accuracy: 0.6136 - lr: 1.5637e-05\n",
      "Epoch 23/40\n",
      "502/502 [==============================] - 90s 180ms/step - loss: 0.4275 - accuracy: 0.8205 - val_loss: 1.7971 - val_accuracy: 0.6011 - lr: 1.4363e-05\n",
      "Epoch 24/40\n",
      "502/502 [==============================] - 92s 184ms/step - loss: 0.4298 - accuracy: 0.8230 - val_loss: 2.0852 - val_accuracy: 0.5751 - lr: 1.3095e-05\n",
      "Epoch 25/40\n",
      "502/502 [==============================] - 90s 180ms/step - loss: 0.4218 - accuracy: 0.8233 - val_loss: 1.9995 - val_accuracy: 0.6021 - lr: 1.1840e-05\n",
      "Epoch 26/40\n",
      "502/502 [==============================] - 91s 181ms/step - loss: 0.4160 - accuracy: 0.8247 - val_loss: 2.4511 - val_accuracy: 0.6051 - lr: 1.0608e-05\n",
      "Epoch 27/40\n",
      "502/502 [==============================] - 91s 182ms/step - loss: 0.4201 - accuracy: 0.8240 - val_loss: 3.7380 - val_accuracy: 0.5652 - lr: 9.4072e-06\n",
      "Epoch 28/40\n",
      "502/502 [==============================] - 90s 180ms/step - loss: 0.4106 - accuracy: 0.8317 - val_loss: 3.8872 - val_accuracy: 0.5332 - lr: 8.2469e-06\n",
      "Epoch 29/40\n",
      "502/502 [==============================] - 101s 202ms/step - loss: 0.4049 - accuracy: 0.8319 - val_loss: 4.6662 - val_accuracy: 0.5222 - lr: 7.1354e-06\n",
      "Epoch 30/40\n",
      "502/502 [==============================] - 115s 229ms/step - loss: 0.4044 - accuracy: 0.8331 - val_loss: 4.4188 - val_accuracy: 0.5122 - lr: 6.0805e-06\n",
      "Epoch 31/40\n",
      "502/502 [==============================] - 110s 218ms/step - loss: 0.4006 - accuracy: 0.8361 - val_loss: 4.4935 - val_accuracy: 0.4883 - lr: 5.0899e-06\n",
      "Epoch 32/40\n",
      "502/502 [==============================] - 111s 222ms/step - loss: 0.4021 - accuracy: 0.8375 - val_loss: 4.2870 - val_accuracy: 0.4978 - lr: 4.1707e-06\n",
      "Epoch 33/40\n",
      "502/502 [==============================] - 108s 215ms/step - loss: 0.3950 - accuracy: 0.8368 - val_loss: 4.7308 - val_accuracy: 0.5052 - lr: 3.3295e-06\n",
      "Epoch 34/40\n",
      "502/502 [==============================] - 111s 221ms/step - loss: 0.4011 - accuracy: 0.8368 - val_loss: 4.7071 - val_accuracy: 0.5117 - lr: 2.5724e-06\n",
      "Epoch 35/40\n",
      "502/502 [==============================] - 106s 212ms/step - loss: 0.4017 - accuracy: 0.8367 - val_loss: 5.3139 - val_accuracy: 0.4798 - lr: 1.9048e-06\n",
      "Epoch 36/40\n",
      "502/502 [==============================] - 105s 210ms/step - loss: 0.4001 - accuracy: 0.8341 - val_loss: 4.4599 - val_accuracy: 0.5102 - lr: 1.3316e-06\n",
      "Epoch 37/40\n",
      "502/502 [==============================] - 104s 207ms/step - loss: 0.3906 - accuracy: 0.8388 - val_loss: 4.2660 - val_accuracy: 0.4953 - lr: 8.5684e-07\n",
      "Epoch 38/40\n",
      "502/502 [==============================] - 90s 180ms/step - loss: 0.3988 - accuracy: 0.8353 - val_loss: 3.4331 - val_accuracy: 0.5387 - lr: 4.8401e-07\n",
      "Epoch 39/40\n",
      "502/502 [==============================] - 85s 169ms/step - loss: 0.3950 - accuracy: 0.8363 - val_loss: 3.5815 - val_accuracy: 0.5157 - lr: 2.1576e-07\n",
      "Epoch 40/40\n",
      "502/502 [==============================] - 89s 176ms/step - loss: 0.3963 - accuracy: 0.8351 - val_loss: 4.0515 - val_accuracy: 0.5292 - lr: 5.4038e-08\n"
     ]
    }
   ],
   "source": [
    "history=train_model(model1,train_generator,valid_generator)"
   ]
  },
  {
   "cell_type": "markdown",
   "id": "5070a292",
   "metadata": {},
   "source": [
    "<a name=\"2.2\"></a>\n",
    "\n",
    "### train & validation loss and accuracy per epochs"
   ]
  },
  {
   "cell_type": "code",
   "execution_count": 20,
   "id": "0ff3369d",
   "metadata": {},
   "outputs": [
    {
     "data": {
      "image/png": "[encoded data removed]",
      "text/plain": [
       "<Figure size 432x288 with 1 Axes>"
      ]
     },
     "metadata": {
      "needs_background": "light"
     },
     "output_type": "display_data"
    },
    {
     "data": {
      "image/png": "[encoded data removed]",
      "text/plain": [
       "<Figure size 432x288 with 1 Axes>"
      ]
     },
     "metadata": {
      "needs_background": "light"
     },
     "output_type": "display_data"
    }
   ],
   "source": [
    "draw_train_graph(history)"
   ]
  },
  {
   "cell_type": "code",
   "execution_count": 27,
   "id": "e1198f86",
   "metadata": {},
   "outputs": [
    {
     "name": "stdout",
     "output_type": "stream",
     "text": [
      "79/79 [==============================] - 2s 19ms/step - loss: 3.9062 - accuracy: 0.5367\n"
     ]
    },
    {
     "data": {
      "text/plain": [
       "[3.906248092651367, 0.5366826057434082]"
      ]
     },
     "execution_count": 27,
     "metadata": {},
     "output_type": "execute_result"
    }
   ],
   "source": [
    "model1.evaluate(x_test,y_test)"
   ]
  },
  {
   "cell_type": "code",
   "execution_count": 25,
   "id": "7af06393",
   "metadata": {},
   "outputs": [
    {
     "data": {
      "image/png": "[encoded data removed]",
      "text/plain": [
       "<Figure size 720x504 with 2 Axes>"
      ]
     },
     "metadata": {
      "needs_background": "light"
     },
     "output_type": "display_data"
    }
   ],
   "source": [
    "y_test_predict = draw_confusion_matrix(model1,x_test,y_test)"
   ]
  },
  {
   "cell_type": "code",
   "execution_count": 26,
   "id": "5066b0fe",
   "metadata": {
    "scrolled": true
   },
   "outputs": [
    {
     "name": "stdout",
     "output_type": "stream",
     "text": [
      "              precision    recall  f1-score   support\n",
      "\n",
      "    abnormal       0.76      0.46      0.57      1700\n",
      "      normal       0.38      0.70      0.49       808\n",
      "\n",
      "    accuracy                           0.54      2508\n",
      "   macro avg       0.57      0.58      0.53      2508\n",
      "weighted avg       0.64      0.54      0.55      2508\n",
      "\n"
     ]
    }
   ],
   "source": [
    "print_classification_report(y_test,  y_test_predict)"
   ]
  },
  {
   "cell_type": "code",
   "execution_count": 29,
   "id": "726b7443",
   "metadata": {},
   "outputs": [
    {
     "name": "stdout",
     "output_type": "stream",
     "text": [
      "INFO:tensorflow:Assets written to: my_model/my_model1_acc54\\assets\n"
     ]
    }
   ],
   "source": [
    "model1.save('my_model/my_model1_acc54')"
   ]
  },
  {
   "cell_type": "markdown",
   "id": "a379e2e0",
   "metadata": {},
   "source": [
    "<a name=\"3.2\"></a>\n",
    "\n",
    "### model on oversampled data"
   ]
  },
  {
   "cell_type": "code",
   "execution_count": 40,
   "id": "7902e01f",
   "metadata": {},
   "outputs": [],
   "source": [
    "train_path='D:/projects data/dataset/C-NMC_Leukemia/final/original/oversampled/'"
   ]
  },
  {
   "cell_type": "code",
   "execution_count": 41,
   "id": "e2a5e0eb",
   "metadata": {},
   "outputs": [
    {
     "name": "stdout",
     "output_type": "stream",
     "text": [
      "Found 10866 images belonging to 2 classes.\n",
      "Found 2716 images belonging to 2 classes.\n"
     ]
    }
   ],
   "source": [
    "train_generator,valid_generator = create_generators(train_path)"
   ]
  },
  {
   "cell_type": "code",
   "execution_count": 66,
   "id": "f2127054",
   "metadata": {},
   "outputs": [
    {
     "name": "stdout",
     "output_type": "stream",
     "text": [
      "Model: \"sequential_14\"\n",
      "_________________________________________________________________\n",
      " Layer (type)                Output Shape              Param #   \n",
      "=================================================================\n",
      " conv2d_55 (Conv2D)          (None, 222, 222, 32)      896       \n",
      "                                                                 \n",
      " batch_normalization_69 (Bat  (None, 222, 222, 32)     128       \n",
      " chNormalization)                                                \n",
      "                                                                 \n",
      " max_pooling2d_55 (MaxPoolin  (None, 111, 111, 32)     0         \n",
      " g2D)                                                            \n",
      "                                                                 \n",
      " dropout_69 (Dropout)        (None, 111, 111, 32)      0         \n",
      "                                                                 \n",
      " conv2d_56 (Conv2D)          (None, 109, 109, 64)      18496     \n",
      "                                                                 \n",
      " batch_normalization_70 (Bat  (None, 109, 109, 64)     256       \n",
      " chNormalization)                                                \n",
      "                                                                 \n",
      " max_pooling2d_56 (MaxPoolin  (None, 54, 54, 64)       0         \n",
      " g2D)                                                            \n",
      "                                                                 \n",
      " dropout_70 (Dropout)        (None, 54, 54, 64)        0         \n",
      "                                                                 \n",
      " conv2d_57 (Conv2D)          (None, 52, 52, 128)       73856     \n",
      "                                                                 \n",
      " batch_normalization_71 (Bat  (None, 52, 52, 128)      512       \n",
      " chNormalization)                                                \n",
      "                                                                 \n",
      " max_pooling2d_57 (MaxPoolin  (None, 26, 26, 128)      0         \n",
      " g2D)                                                            \n",
      "                                                                 \n",
      " dropout_71 (Dropout)        (None, 26, 26, 128)       0         \n",
      "                                                                 \n",
      " conv2d_58 (Conv2D)          (None, 24, 24, 256)       295168    \n",
      "                                                                 \n",
      " batch_normalization_72 (Bat  (None, 24, 24, 256)      1024      \n",
      " chNormalization)                                                \n",
      "                                                                 \n",
      " max_pooling2d_58 (MaxPoolin  (None, 12, 12, 256)      0         \n",
      " g2D)                                                            \n",
      "                                                                 \n",
      " dropout_72 (Dropout)        (None, 12, 12, 256)       0         \n",
      "                                                                 \n",
      " flatten_14 (Flatten)        (None, 36864)             0         \n",
      "                                                                 \n",
      " dense_28 (Dense)            (None, 512)               18874880  \n",
      "                                                                 \n",
      " batch_normalization_73 (Bat  (None, 512)              2048      \n",
      " chNormalization)                                                \n",
      "                                                                 \n",
      " dropout_73 (Dropout)        (None, 512)               0         \n",
      "                                                                 \n",
      " dense_29 (Dense)            (None, 1)                 513       \n",
      "                                                                 \n",
      "=================================================================\n",
      "Total params: 19,267,777\n",
      "Trainable params: 19,265,793\n",
      "Non-trainable params: 1,984\n",
      "_________________________________________________________________\n"
     ]
    }
   ],
   "source": [
    "model2=build_model()\n",
    "model2.summary()"
   ]
  },
  {
   "cell_type": "code",
   "execution_count": 59,
   "id": "e6eddbb5",
   "metadata": {},
   "outputs": [
    {
     "name": "stdout",
     "output_type": "stream",
     "text": [
      "Epoch 1/30\n",
      "340/340 [==============================] - 392s 1s/step - loss: 0.4730 - accuracy: 0.7787 - val_loss: 1.4332 - val_accuracy: 0.6661\n",
      "Epoch 2/30\n",
      "340/340 [==============================] - 181s 532ms/step - loss: 0.4166 - accuracy: 0.8124 - val_loss: 23.3146 - val_accuracy: 0.3730\n",
      "Epoch 3/30\n",
      "340/340 [==============================] - 210s 618ms/step - loss: 0.3886 - accuracy: 0.8301 - val_loss: 0.3553 - val_accuracy: 0.8560\n",
      "Epoch 4/30\n",
      "340/340 [==============================] - 206s 607ms/step - loss: 0.3853 - accuracy: 0.8293 - val_loss: 63.0924 - val_accuracy: 0.2931\n",
      "Epoch 5/30\n",
      "340/340 [==============================] - 187s 551ms/step - loss: 0.3664 - accuracy: 0.8379 - val_loss: 822.2180 - val_accuracy: 0.4370\n",
      "Epoch 6/30\n",
      "340/340 [==============================] - 187s 551ms/step - loss: 0.3591 - accuracy: 0.8435 - val_loss: 1.6865 - val_accuracy: 0.8174\n",
      "Epoch 7/30\n",
      "340/340 [==============================] - 192s 565ms/step - loss: 0.3725 - accuracy: 0.8364 - val_loss: 0.6063 - val_accuracy: 0.8748\n",
      "Epoch 8/30\n",
      "340/340 [==============================] - 191s 560ms/step - loss: 0.3393 - accuracy: 0.8548 - val_loss: 0.2056 - val_accuracy: 0.9300\n",
      "Epoch 9/30\n",
      "340/340 [==============================] - 192s 564ms/step - loss: 0.3316 - accuracy: 0.8585 - val_loss: 112.6889 - val_accuracy: 0.4411\n",
      "Epoch 10/30\n",
      "340/340 [==============================] - 191s 562ms/step - loss: 0.3220 - accuracy: 0.8643 - val_loss: 44.5439 - val_accuracy: 0.5004\n",
      "Epoch 11/30\n",
      "340/340 [==============================] - 184s 542ms/step - loss: 0.3055 - accuracy: 0.8730 - val_loss: 0.3053 - val_accuracy: 0.8708\n",
      "Epoch 12/30\n",
      "340/340 [==============================] - 183s 537ms/step - loss: 0.2980 - accuracy: 0.8747 - val_loss: 560.5764 - val_accuracy: 0.5000\n",
      "Epoch 13/30\n",
      "340/340 [==============================] - 213s 627ms/step - loss: 0.3018 - accuracy: 0.8751 - val_loss: 65.8968 - val_accuracy: 0.5041\n",
      "Epoch 14/30\n",
      "340/340 [==============================] - 201s 591ms/step - loss: 0.3018 - accuracy: 0.8709 - val_loss: 11.3600 - val_accuracy: 0.3133\n",
      "Epoch 15/30\n",
      "340/340 [==============================] - 201s 589ms/step - loss: 0.2892 - accuracy: 0.8774 - val_loss: 8.8893 - val_accuracy: 0.5431\n",
      "Epoch 16/30\n",
      "340/340 [==============================] - 194s 572ms/step - loss: 0.2850 - accuracy: 0.8785 - val_loss: 18.5245 - val_accuracy: 0.5677\n",
      "Epoch 17/30\n",
      "340/340 [==============================] - 197s 579ms/step - loss: 0.2868 - accuracy: 0.8828 - val_loss: 233.1340 - val_accuracy: 0.2710\n",
      "Epoch 18/30\n",
      "340/340 [==============================] - 203s 598ms/step - loss: 0.2738 - accuracy: 0.8869 - val_loss: 0.1520 - val_accuracy: 0.9422\n",
      "Epoch 19/30\n",
      "340/340 [==============================] - 231s 681ms/step - loss: 0.2714 - accuracy: 0.8863 - val_loss: 2.4192 - val_accuracy: 0.8932\n",
      "Epoch 20/30\n",
      "340/340 [==============================] - 236s 695ms/step - loss: 0.2745 - accuracy: 0.8876 - val_loss: 65.2689 - val_accuracy: 0.5041\n",
      "Epoch 21/30\n",
      "340/340 [==============================] - 198s 581ms/step - loss: 0.2721 - accuracy: 0.8867 - val_loss: 0.1471 - val_accuracy: 0.9496\n",
      "Epoch 22/30\n",
      "340/340 [==============================] - 188s 553ms/step - loss: 0.2676 - accuracy: 0.8892 - val_loss: 0.6804 - val_accuracy: 0.7018\n",
      "Epoch 23/30\n",
      "340/340 [==============================] - 180s 529ms/step - loss: 0.2663 - accuracy: 0.8900 - val_loss: 0.3601 - val_accuracy: 0.8542\n",
      "Epoch 24/30\n",
      "340/340 [==============================] - 178s 522ms/step - loss: 0.2563 - accuracy: 0.8936 - val_loss: 0.2573 - val_accuracy: 0.9080\n",
      "Epoch 25/30\n",
      "340/340 [==============================] - 177s 520ms/step - loss: 0.2558 - accuracy: 0.8937 - val_loss: 3.2905 - val_accuracy: 0.7673\n",
      "Epoch 26/30\n",
      "340/340 [==============================] - 177s 520ms/step - loss: 0.2714 - accuracy: 0.8893 - val_loss: 0.2863 - val_accuracy: 0.8943\n",
      "Epoch 27/30\n",
      "340/340 [==============================] - 179s 526ms/step - loss: 0.2557 - accuracy: 0.8947 - val_loss: 0.4182 - val_accuracy: 0.8825\n",
      "Epoch 28/30\n",
      "340/340 [==============================] - 178s 524ms/step - loss: 0.2468 - accuracy: 0.8996 - val_loss: 1.7804 - val_accuracy: 0.8476\n",
      "Epoch 29/30\n",
      "340/340 [==============================] - 175s 515ms/step - loss: 0.2499 - accuracy: 0.9013 - val_loss: 3.2588 - val_accuracy: 0.6760\n",
      "Epoch 30/30\n",
      "340/340 [==============================] - 174s 512ms/step - loss: 0.2434 - accuracy: 0.9028 - val_loss: 5.0531 - val_accuracy: 0.7434\n"
     ]
    }
   ],
   "source": [
    "history= train_model(model2 ,train_generator ,valid_generator)"
   ]
  },
  {
   "cell_type": "code",
   "execution_count": 60,
   "id": "be009ad1",
   "metadata": {},
   "outputs": [
    {
     "name": "stdout",
     "output_type": "stream",
     "text": [
      "INFO:tensorflow:Assets written to: my_model2\\assets\n"
     ]
    }
   ],
   "source": [
    "model2.save('my_model2')"
   ]
  },
  {
   "cell_type": "code",
   "execution_count": 61,
   "id": "b3ccfd68",
   "metadata": {},
   "outputs": [
    {
     "data": {
      "image/png": "[encoded data removed]",
      "text/plain": [
       "<Figure size 432x288 with 1 Axes>"
      ]
     },
     "metadata": {
      "needs_background": "light"
     },
     "output_type": "display_data"
    },
    {
     "data": {
      "image/png": "[encoded data removed]",
      "text/plain": [
       "<Figure size 432x288 with 1 Axes>"
      ]
     },
     "metadata": {
      "needs_background": "light"
     },
     "output_type": "display_data"
    }
   ],
   "source": [
    "draw_train_graph(history)"
   ]
  },
  {
   "cell_type": "code",
   "execution_count": 7,
   "id": "514b5207",
   "metadata": {},
   "outputs": [],
   "source": [
    "model2=keras.models.load_model('my_model2')"
   ]
  },
  {
   "cell_type": "code",
   "execution_count": 8,
   "id": "1eab97e1",
   "metadata": {},
   "outputs": [
    {
     "name": "stdout",
     "output_type": "stream",
     "text": [
      "79/79 [==============================] - 23s 184ms/step - loss: 7.3414 - accuracy: 0.6770\n"
     ]
    },
    {
     "data": {
      "text/plain": [
       "[7.341413497924805, 0.6770334839820862]"
      ]
     },
     "execution_count": 8,
     "metadata": {},
     "output_type": "execute_result"
    }
   ],
   "source": [
    "model2.evaluate(x_test,y_test)"
   ]
  },
  {
   "cell_type": "code",
   "execution_count": 9,
   "id": "8d555fdc",
   "metadata": {},
   "outputs": [
    {
     "data": {
      "text/plain": [
       "<AxesSubplot:>"
      ]
     },
     "execution_count": 9,
     "metadata": {},
     "output_type": "execute_result"
    },
    {
     "data": {
      "image/png": "[encoded data removed]",
      "text/plain": [
       "<Figure size 720x504 with 2 Axes>"
      ]
     },
     "metadata": {
      "needs_background": "light"
     },
     "output_type": "display_data"
    }
   ],
   "source": [
    "y_test_predict = draw_confusion_matrix(model6,x_test,y_test)"
   ]
  },
  {
   "cell_type": "code",
   "execution_count": 10,
   "id": "dfc0e9d4",
   "metadata": {},
   "outputs": [
    {
     "name": "stdout",
     "output_type": "stream",
     "text": [
      "              precision    recall  f1-score   support\n",
      "\n",
      "       close       0.82      0.68      0.74      1700\n",
      "        open       0.50      0.68      0.57       808\n",
      "\n",
      "    accuracy                           0.68      2508\n",
      "   macro avg       0.66      0.68      0.66      2508\n",
      "weighted avg       0.71      0.68      0.69      2508\n",
      "\n"
     ]
    }
   ],
   "source": [
    "print_classification_report(y_test,  y_test_predict)"
   ]
  },
  {
   "cell_type": "markdown",
   "id": "1019ca7d",
   "metadata": {},
   "source": [
    "<a name=\"3.3\"></a>\n",
    "\n",
    "### model on undersampled data"
   ]
  },
  {
   "cell_type": "code",
   "execution_count": 30,
   "id": "ba962e63",
   "metadata": {},
   "outputs": [],
   "source": [
    "train_path='D:/projects data/dataset/C-NMC_Leukemia/final/original/undersampled/'"
   ]
  },
  {
   "cell_type": "code",
   "execution_count": 31,
   "id": "ea7de171",
   "metadata": {},
   "outputs": [
    {
     "name": "stdout",
     "output_type": "stream",
     "text": [
      "Found 5168 images belonging to 2 classes.\n",
      "Found 1290 images belonging to 2 classes.\n"
     ]
    }
   ],
   "source": [
    "train_generator,valid_generator = create_generators(train_path)"
   ]
  },
  {
   "cell_type": "markdown",
   "id": "a61ffce7",
   "metadata": {},
   "source": [
    "<a name=\"2\"></a>\n",
    "\n",
    "### build the model"
   ]
  },
  {
   "cell_type": "code",
   "execution_count": 32,
   "id": "94dd2317",
   "metadata": {},
   "outputs": [
    {
     "name": "stdout",
     "output_type": "stream",
     "text": [
      "Model: \"sequential_2\"\n",
      "_________________________________________________________________\n",
      " Layer (type)                Output Shape              Param #   \n",
      "=================================================================\n",
      " conv2d_6 (Conv2D)           (None, 222, 222, 32)      896       \n",
      "                                                                 \n",
      " batch_normalization_8 (Batc  (None, 222, 222, 32)     128       \n",
      " hNormalization)                                                 \n",
      "                                                                 \n",
      " max_pooling2d_6 (MaxPooling  (None, 111, 111, 32)     0         \n",
      " 2D)                                                             \n",
      "                                                                 \n",
      " dropout_8 (Dropout)         (None, 111, 111, 32)      0         \n",
      "                                                                 \n",
      " conv2d_7 (Conv2D)           (None, 109, 109, 64)      18496     \n",
      "                                                                 \n",
      " batch_normalization_9 (Batc  (None, 109, 109, 64)     256       \n",
      " hNormalization)                                                 \n",
      "                                                                 \n",
      " max_pooling2d_7 (MaxPooling  (None, 54, 54, 64)       0         \n",
      " 2D)                                                             \n",
      "                                                                 \n",
      " dropout_9 (Dropout)         (None, 54, 54, 64)        0         \n",
      "                                                                 \n",
      " conv2d_8 (Conv2D)           (None, 52, 52, 128)       73856     \n",
      "                                                                 \n",
      " batch_normalization_10 (Bat  (None, 52, 52, 128)      512       \n",
      " chNormalization)                                                \n",
      "                                                                 \n",
      " max_pooling2d_8 (MaxPooling  (None, 26, 26, 128)      0         \n",
      " 2D)                                                             \n",
      "                                                                 \n",
      " dropout_10 (Dropout)        (None, 26, 26, 128)       0         \n",
      "                                                                 \n",
      " flatten_2 (Flatten)         (None, 86528)             0         \n",
      "                                                                 \n",
      " dense_4 (Dense)             (None, 512)               44302848  \n",
      "                                                                 \n",
      " batch_normalization_11 (Bat  (None, 512)              2048      \n",
      " chNormalization)                                                \n",
      "                                                                 \n",
      " dropout_11 (Dropout)        (None, 512)               0         \n",
      "                                                                 \n",
      " dense_5 (Dense)             (None, 1)                 513       \n",
      "                                                                 \n",
      "=================================================================\n",
      "Total params: 44,399,553\n",
      "Trainable params: 44,398,081\n",
      "Non-trainable params: 1,472\n",
      "_________________________________________________________________\n"
     ]
    }
   ],
   "source": [
    "model3=build_model()\n",
    "\n",
    "model3.summary()"
   ]
  },
  {
   "cell_type": "markdown",
   "id": "9d12c959",
   "metadata": {},
   "source": [
    "<a name=\"2.1\"></a>\n",
    "\n",
    "### model complie & train"
   ]
  },
  {
   "cell_type": "code",
   "execution_count": 12,
   "id": "42b39c13",
   "metadata": {},
   "outputs": [
    {
     "name": "stdout",
     "output_type": "stream",
     "text": [
      "Epoch 1/40\n",
      "162/162 [==============================] - 248s 1s/step - loss: 0.6226 - accuracy: 0.7136 - val_loss: 80.6363 - val_accuracy: 0.5000\n",
      "Epoch 2/40\n",
      "162/162 [==============================] - 40s 249ms/step - loss: 0.5455 - accuracy: 0.7380 - val_loss: 59.5009 - val_accuracy: 0.5000\n",
      "Epoch 3/40\n",
      "162/162 [==============================] - 41s 252ms/step - loss: 0.4723 - accuracy: 0.7864 - val_loss: 29.6998 - val_accuracy: 0.5000\n",
      "Epoch 4/40\n",
      "162/162 [==============================] - 41s 255ms/step - loss: 0.4500 - accuracy: 0.7941 - val_loss: 30.5497 - val_accuracy: 0.6357\n",
      "Epoch 5/40\n",
      "162/162 [==============================] - 43s 268ms/step - loss: 0.4211 - accuracy: 0.8154 - val_loss: 6.8309 - val_accuracy: 0.4837\n",
      "Epoch 6/40\n",
      "162/162 [==============================] - 48s 295ms/step - loss: 0.3976 - accuracy: 0.8280 - val_loss: 1.3175 - val_accuracy: 0.6031\n",
      "Epoch 7/40\n",
      "162/162 [==============================] - 47s 290ms/step - loss: 0.3800 - accuracy: 0.8357 - val_loss: 354.9215 - val_accuracy: 0.5000\n",
      "Epoch 8/40\n",
      "162/162 [==============================] - 46s 280ms/step - loss: 0.3806 - accuracy: 0.8361 - val_loss: 1.5644 - val_accuracy: 0.5109\n",
      "Epoch 9/40\n",
      "162/162 [==============================] - 43s 265ms/step - loss: 0.3699 - accuracy: 0.8390 - val_loss: 0.8261 - val_accuracy: 0.6380\n",
      "Epoch 10/40\n",
      "162/162 [==============================] - 43s 263ms/step - loss: 0.3457 - accuracy: 0.8522 - val_loss: 2.9641 - val_accuracy: 0.5047\n",
      "Epoch 11/40\n",
      "162/162 [==============================] - 45s 274ms/step - loss: 0.3643 - accuracy: 0.8435 - val_loss: 1.0645 - val_accuracy: 0.6419\n",
      "Epoch 12/40\n",
      "162/162 [==============================] - 45s 276ms/step - loss: 0.3338 - accuracy: 0.8541 - val_loss: 0.8102 - val_accuracy: 0.5984\n",
      "Epoch 13/40\n",
      "162/162 [==============================] - 44s 270ms/step - loss: 0.3309 - accuracy: 0.8634 - val_loss: 0.9752 - val_accuracy: 0.6031\n",
      "Epoch 14/40\n",
      "162/162 [==============================] - 45s 279ms/step - loss: 0.3068 - accuracy: 0.8694 - val_loss: 7.1311 - val_accuracy: 0.5000\n",
      "Epoch 15/40\n",
      "162/162 [==============================] - 44s 272ms/step - loss: 0.2967 - accuracy: 0.8773 - val_loss: 21.6909 - val_accuracy: 0.5659\n",
      "Epoch 16/40\n",
      "162/162 [==============================] - 44s 270ms/step - loss: 0.2884 - accuracy: 0.8791 - val_loss: 1.1339 - val_accuracy: 0.5605\n",
      "Epoch 17/40\n",
      "162/162 [==============================] - 43s 267ms/step - loss: 0.2829 - accuracy: 0.8804 - val_loss: 0.8610 - val_accuracy: 0.6411\n",
      "Epoch 18/40\n",
      "162/162 [==============================] - 44s 273ms/step - loss: 0.2764 - accuracy: 0.8864 - val_loss: 1.0169 - val_accuracy: 0.5915\n",
      "Epoch 19/40\n",
      "162/162 [==============================] - 43s 266ms/step - loss: 0.2713 - accuracy: 0.8885 - val_loss: 3.6741 - val_accuracy: 0.5465\n",
      "Epoch 20/40\n",
      "162/162 [==============================] - 44s 269ms/step - loss: 0.2777 - accuracy: 0.8818 - val_loss: 1.9951 - val_accuracy: 0.5287\n",
      "Epoch 21/40\n",
      "162/162 [==============================] - 44s 269ms/step - loss: 0.2661 - accuracy: 0.8943 - val_loss: 0.8022 - val_accuracy: 0.6597\n",
      "Epoch 22/40\n",
      "162/162 [==============================] - 43s 264ms/step - loss: 0.2612 - accuracy: 0.8911 - val_loss: 0.6572 - val_accuracy: 0.6884\n",
      "Epoch 23/40\n",
      "162/162 [==============================] - 42s 261ms/step - loss: 0.2510 - accuracy: 0.8974 - val_loss: 12.3432 - val_accuracy: 0.5186\n",
      "Epoch 24/40\n",
      "162/162 [==============================] - 41s 255ms/step - loss: 0.2446 - accuracy: 0.9034 - val_loss: 1.6654 - val_accuracy: 0.5837\n",
      "Epoch 25/40\n",
      "162/162 [==============================] - 42s 258ms/step - loss: 0.2443 - accuracy: 0.9046 - val_loss: 0.9251 - val_accuracy: 0.6589\n",
      "Epoch 26/40\n",
      "162/162 [==============================] - 42s 256ms/step - loss: 0.2499 - accuracy: 0.8994 - val_loss: 1.0131 - val_accuracy: 0.6318\n",
      "Epoch 27/40\n",
      "162/162 [==============================] - 42s 257ms/step - loss: 0.2351 - accuracy: 0.9058 - val_loss: 0.9856 - val_accuracy: 0.6450\n",
      "Epoch 28/40\n",
      "162/162 [==============================] - 41s 254ms/step - loss: 0.2433 - accuracy: 0.8986 - val_loss: 2.9519 - val_accuracy: 0.5279\n",
      "Epoch 29/40\n",
      "162/162 [==============================] - 43s 267ms/step - loss: 0.2329 - accuracy: 0.9073 - val_loss: 0.8337 - val_accuracy: 0.6403\n",
      "Epoch 30/40\n",
      "162/162 [==============================] - 47s 289ms/step - loss: 0.2398 - accuracy: 0.8994 - val_loss: 1.1552 - val_accuracy: 0.5581\n",
      "Epoch 31/40\n",
      "162/162 [==============================] - 44s 270ms/step - loss: 0.2321 - accuracy: 0.9069 - val_loss: 0.9047 - val_accuracy: 0.6264\n",
      "Epoch 32/40\n",
      "162/162 [==============================] - 44s 270ms/step - loss: 0.2198 - accuracy: 0.9147 - val_loss: 0.7557 - val_accuracy: 0.6450\n",
      "Epoch 33/40\n",
      "162/162 [==============================] - 42s 261ms/step - loss: 0.2211 - accuracy: 0.9098 - val_loss: 1.3343 - val_accuracy: 0.6109\n",
      "Epoch 34/40\n",
      "162/162 [==============================] - 41s 254ms/step - loss: 0.2153 - accuracy: 0.9151 - val_loss: 1.3241 - val_accuracy: 0.6612\n",
      "Epoch 35/40\n",
      "162/162 [==============================] - 41s 254ms/step - loss: 0.2753 - accuracy: 0.8827 - val_loss: 0.8810 - val_accuracy: 0.6093\n",
      "Epoch 36/40\n",
      "162/162 [==============================] - 41s 252ms/step - loss: 0.2277 - accuracy: 0.9098 - val_loss: 1.5728 - val_accuracy: 0.5744\n",
      "Epoch 37/40\n",
      "162/162 [==============================] - 41s 252ms/step - loss: 0.2460 - accuracy: 0.8951 - val_loss: 0.7751 - val_accuracy: 0.6527\n",
      "Epoch 38/40\n",
      "162/162 [==============================] - 41s 253ms/step - loss: 0.2453 - accuracy: 0.9017 - val_loss: 1.8932 - val_accuracy: 0.6558\n",
      "Epoch 39/40\n",
      "162/162 [==============================] - 41s 252ms/step - loss: 0.2210 - accuracy: 0.9141 - val_loss: 1.0301 - val_accuracy: 0.6659\n",
      "Epoch 40/40\n",
      "162/162 [==============================] - 41s 252ms/step - loss: 0.2084 - accuracy: 0.9168 - val_loss: 0.9639 - val_accuracy: 0.6550\n"
     ]
    }
   ],
   "source": [
    "history=train_model(model3,train_generator,valid_generator)"
   ]
  },
  {
   "cell_type": "markdown",
   "id": "28b1c66a",
   "metadata": {},
   "source": [
    "<a name=\"2.2\"></a>\n",
    "\n",
    "### train & validation loss and accuracy per epochs"
   ]
  },
  {
   "cell_type": "code",
   "execution_count": 13,
   "id": "5c5b2545",
   "metadata": {},
   "outputs": [
    {
     "data": {
      "image/png": "[encoded data removed]",
      "text/plain": [
       "<Figure size 432x288 with 1 Axes>"
      ]
     },
     "metadata": {
      "needs_background": "light"
     },
     "output_type": "display_data"
    },
    {
     "data": {
      "image/png": "[encoded data removed]",
      "text/plain": [
       "<Figure size 432x288 with 1 Axes>"
      ]
     },
     "metadata": {
      "needs_background": "light"
     },
     "output_type": "display_data"
    }
   ],
   "source": [
    "draw_train_graph(history)"
   ]
  },
  {
   "cell_type": "code",
   "execution_count": 14,
   "id": "36c9389e",
   "metadata": {},
   "outputs": [
    {
     "name": "stdout",
     "output_type": "stream",
     "text": [
      "79/79 [==============================] - 2s 23ms/step - loss: 1.6089 - accuracy: 0.5546\n"
     ]
    },
    {
     "data": {
      "text/plain": [
       "[1.6088743209838867, 0.5546252131462097]"
      ]
     },
     "execution_count": 14,
     "metadata": {},
     "output_type": "execute_result"
    }
   ],
   "source": [
    "model3.evaluate(x_test,y_test)"
   ]
  },
  {
   "cell_type": "code",
   "execution_count": 18,
   "id": "056657b9",
   "metadata": {},
   "outputs": [
    {
     "data": {
      "text/plain": [
       "<AxesSubplot:>"
      ]
     },
     "execution_count": 18,
     "metadata": {},
     "output_type": "execute_result"
    },
    {
     "data": {
      "image/png": "[encoded data removed]",
      "text/plain": [
       "<Figure size 720x504 with 2 Axes>"
      ]
     },
     "metadata": {
      "needs_background": "light"
     },
     "output_type": "display_data"
    }
   ],
   "source": [
    "y_test_predict = draw_confusion_matrix(model6,x_test,y_test)"
   ]
  },
  {
   "cell_type": "code",
   "execution_count": 16,
   "id": "4d626662",
   "metadata": {
    "scrolled": true
   },
   "outputs": [
    {
     "name": "stdout",
     "output_type": "stream",
     "text": [
      "              precision    recall  f1-score   support\n",
      "\n",
      "       close       0.79      0.47      0.59      1700\n",
      "        open       0.40      0.73      0.51       808\n",
      "\n",
      "    accuracy                           0.55      2508\n",
      "   macro avg       0.59      0.60      0.55      2508\n",
      "weighted avg       0.66      0.55      0.56      2508\n",
      "\n"
     ]
    }
   ],
   "source": [
    "print_classification_report(y_test,  y_test_predict)"
   ]
  },
  {
   "cell_type": "code",
   "execution_count": 19,
   "id": "92d4b428",
   "metadata": {},
   "outputs": [
    {
     "name": "stdout",
     "output_type": "stream",
     "text": [
      "INFO:tensorflow:Assets written to: my_model3\\assets\n"
     ]
    }
   ],
   "source": [
    "model3.save('my_model3')"
   ]
  },
  {
   "cell_type": "markdown",
   "id": "ac8f6fd3",
   "metadata": {},
   "source": [
    "<a name=\"4\"></a>\n",
    "##  <span style=\"color:blue\"> **train the model on the paper preprocessed data** </span>"
   ]
  },
  {
   "cell_type": "markdown",
   "id": "488cd9bc",
   "metadata": {},
   "source": [
    "<a name=\"4.1\"></a>\n",
    "\n",
    "### the model on preprocessed imbalanced data"
   ]
  },
  {
   "cell_type": "code",
   "execution_count": 32,
   "id": "f7467009",
   "metadata": {},
   "outputs": [],
   "source": [
    "train_path='D:/projects data/dataset/C-NMC_Leukemia/final/paper preprocessed/imbalanced/'"
   ]
  },
  {
   "cell_type": "code",
   "execution_count": 33,
   "id": "35186e6d",
   "metadata": {},
   "outputs": [
    {
     "name": "stdout",
     "output_type": "stream",
     "text": [
      "Found 8017 images belonging to 2 classes.\n",
      "Found 2003 images belonging to 2 classes.\n"
     ]
    }
   ],
   "source": [
    "train_generator,valid_generator = create_generators(train_path)"
   ]
  },
  {
   "cell_type": "markdown",
   "id": "e0921deb",
   "metadata": {},
   "source": [
    "<a name=\"2\"></a>\n",
    "\n",
    "#### build the model"
   ]
  },
  {
   "cell_type": "code",
   "execution_count": 34,
   "id": "8452ff86",
   "metadata": {},
   "outputs": [
    {
     "name": "stdout",
     "output_type": "stream",
     "text": [
      "Model: \"sequential_2\"\n",
      "_________________________________________________________________\n",
      " Layer (type)                Output Shape              Param #   \n",
      "=================================================================\n",
      " conv2d_6 (Conv2D)           (None, 222, 222, 32)      896       \n",
      "                                                                 \n",
      " batch_normalization_8 (Batc  (None, 222, 222, 32)     128       \n",
      " hNormalization)                                                 \n",
      "                                                                 \n",
      " max_pooling2d_6 (MaxPooling  (None, 111, 111, 32)     0         \n",
      " 2D)                                                             \n",
      "                                                                 \n",
      " dropout_8 (Dropout)         (None, 111, 111, 32)      0         \n",
      "                                                                 \n",
      " conv2d_7 (Conv2D)           (None, 109, 109, 64)      18496     \n",
      "                                                                 \n",
      " batch_normalization_9 (Batc  (None, 109, 109, 64)     256       \n",
      " hNormalization)                                                 \n",
      "                                                                 \n",
      " max_pooling2d_7 (MaxPooling  (None, 54, 54, 64)       0         \n",
      " 2D)                                                             \n",
      "                                                                 \n",
      " dropout_9 (Dropout)         (None, 54, 54, 64)        0         \n",
      "                                                                 \n",
      " conv2d_8 (Conv2D)           (None, 52, 52, 128)       73856     \n",
      "                                                                 \n",
      " batch_normalization_10 (Bat  (None, 52, 52, 128)      512       \n",
      " chNormalization)                                                \n",
      "                                                                 \n",
      " max_pooling2d_8 (MaxPooling  (None, 26, 26, 128)      0         \n",
      " 2D)                                                             \n",
      "                                                                 \n",
      " dropout_10 (Dropout)        (None, 26, 26, 128)       0         \n",
      "                                                                 \n",
      " flatten_2 (Flatten)         (None, 86528)             0         \n",
      "                                                                 \n",
      " dense_4 (Dense)             (None, 512)               44302848  \n",
      "                                                                 \n",
      " batch_normalization_11 (Bat  (None, 512)              2048      \n",
      " chNormalization)                                                \n",
      "                                                                 \n",
      " dropout_11 (Dropout)        (None, 512)               0         \n",
      "                                                                 \n",
      " dense_5 (Dense)             (None, 1)                 513       \n",
      "                                                                 \n",
      "=================================================================\n",
      "Total params: 44,399,553\n",
      "Trainable params: 44,398,081\n",
      "Non-trainable params: 1,472\n",
      "_________________________________________________________________\n"
     ]
    }
   ],
   "source": [
    "model4=build_model()\n",
    "\n",
    "model4.summary()"
   ]
  },
  {
   "cell_type": "markdown",
   "id": "ae4e7aa3",
   "metadata": {},
   "source": [
    "<a name=\"2.1\"></a>\n",
    "\n",
    "### model complie & train"
   ]
  },
  {
   "cell_type": "code",
   "execution_count": 35,
   "id": "d49c78a5",
   "metadata": {},
   "outputs": [
    {
     "name": "stdout",
     "output_type": "stream",
     "text": [
      "Epoch 1/40\n",
      "502/502 [==============================] - ETA: 0s - loss: 0.9643 - accuracy: 0.5307INFO:tensorflow:Assets written to: ./my_model\\checkpoint\\assets\n",
      "502/502 [==============================] - 355s 705ms/step - loss: 0.9643 - accuracy: 0.5307 - val_loss: 0.7258 - val_accuracy: 0.4808 - lr: 1.0000e-08\n",
      "Epoch 2/40\n",
      "502/502 [==============================] - ETA: 0s - loss: 0.7695 - accuracy: 0.6549INFO:tensorflow:Assets written to: ./my_model\\checkpoint\\assets\n",
      "502/502 [==============================] - 65s 129ms/step - loss: 0.7695 - accuracy: 0.6549 - val_loss: 0.7472 - val_accuracy: 0.5052 - lr: 1.0007e-05\n",
      "Epoch 3/40\n",
      "502/502 [==============================] - 62s 124ms/step - loss: 0.7062 - accuracy: 0.6729 - val_loss: 1.1025 - val_accuracy: 0.4618 - lr: 2.0003e-05\n",
      "Epoch 4/40\n",
      "502/502 [==============================] - 67s 133ms/step - loss: 0.6413 - accuracy: 0.6978 - val_loss: 1.3788 - val_accuracy: 0.3545 - lr: 3.0000e-05\n",
      "Epoch 5/40\n",
      "502/502 [==============================] - 64s 128ms/step - loss: 0.5989 - accuracy: 0.7198 - val_loss: 0.7835 - val_accuracy: 0.4633 - lr: 2.9946e-05\n",
      "Epoch 6/40\n",
      "502/502 [==============================] - 63s 126ms/step - loss: 0.5824 - accuracy: 0.7324 - val_loss: 0.8646 - val_accuracy: 0.4533 - lr: 2.9784e-05\n",
      "Epoch 7/40\n",
      "502/502 [==============================] - ETA: 0s - loss: 0.5615 - accuracy: 0.7499INFO:tensorflow:Assets written to: ./my_model\\checkpoint\\assets\n",
      "502/502 [==============================] - 67s 132ms/step - loss: 0.5615 - accuracy: 0.7499 - val_loss: 0.7297 - val_accuracy: 0.6480 - lr: 2.9516e-05\n",
      "Epoch 8/40\n",
      "502/502 [==============================] - 64s 127ms/step - loss: 0.5469 - accuracy: 0.7518 - val_loss: 0.8139 - val_accuracy: 0.5472 - lr: 2.9143e-05\n",
      "Epoch 9/40\n",
      "502/502 [==============================] - 63s 126ms/step - loss: 0.5485 - accuracy: 0.7505 - val_loss: 0.7671 - val_accuracy: 0.5851 - lr: 2.8668e-05\n",
      "Epoch 10/40\n",
      "502/502 [==============================] - 63s 126ms/step - loss: 0.5413 - accuracy: 0.7629 - val_loss: 0.9020 - val_accuracy: 0.5272 - lr: 2.8095e-05\n",
      "Epoch 11/40\n",
      "502/502 [==============================] - ETA: 0s - loss: 0.5347 - accuracy: 0.7619INFO:tensorflow:Assets written to: ./my_model\\checkpoint\\assets\n",
      "502/502 [==============================] - 66s 132ms/step - loss: 0.5347 - accuracy: 0.7619 - val_loss: 0.5727 - val_accuracy: 0.7159 - lr: 2.7428e-05\n",
      "Epoch 12/40\n",
      "502/502 [==============================] - ETA: 0s - loss: 0.5285 - accuracy: 0.7674INFO:tensorflow:Assets written to: ./my_model\\checkpoint\\assets\n",
      "502/502 [==============================] - 65s 130ms/step - loss: 0.5285 - accuracy: 0.7674 - val_loss: 0.5030 - val_accuracy: 0.7948 - lr: 2.6671e-05\n",
      "Epoch 13/40\n",
      "502/502 [==============================] - 63s 126ms/step - loss: 0.5138 - accuracy: 0.7735 - val_loss: 0.6517 - val_accuracy: 0.6955 - lr: 2.5829e-05\n",
      "Epoch 14/40\n",
      "502/502 [==============================] - 63s 125ms/step - loss: 0.5190 - accuracy: 0.7727 - val_loss: 0.5293 - val_accuracy: 0.7723 - lr: 2.4910e-05\n",
      "Epoch 15/40\n",
      "502/502 [==============================] - 62s 123ms/step - loss: 0.5097 - accuracy: 0.7817 - val_loss: 0.6465 - val_accuracy: 0.7314 - lr: 2.3919e-05\n",
      "Epoch 16/40\n",
      "502/502 [==============================] - 63s 125ms/step - loss: 0.5130 - accuracy: 0.7742 - val_loss: 0.6802 - val_accuracy: 0.7529 - lr: 2.2865e-05\n",
      "Epoch 17/40\n",
      "502/502 [==============================] - 63s 125ms/step - loss: 0.5140 - accuracy: 0.7760 - val_loss: 0.7301 - val_accuracy: 0.7394 - lr: 2.1753e-05\n",
      "Epoch 18/40\n",
      "502/502 [==============================] - 62s 123ms/step - loss: 0.5081 - accuracy: 0.7786 - val_loss: 0.6791 - val_accuracy: 0.7469 - lr: 2.0593e-05\n",
      "Epoch 19/40\n",
      "502/502 [==============================] - 63s 126ms/step - loss: 0.5016 - accuracy: 0.7756 - val_loss: 0.7359 - val_accuracy: 0.7359 - lr: 1.9392e-05\n",
      "Epoch 20/40\n",
      "502/502 [==============================] - 64s 127ms/step - loss: 0.4939 - accuracy: 0.7831 - val_loss: 0.6368 - val_accuracy: 0.7773 - lr: 1.8160e-05\n",
      "Epoch 21/40\n",
      "502/502 [==============================] - 61s 122ms/step - loss: 0.4915 - accuracy: 0.7865 - val_loss: 0.7244 - val_accuracy: 0.7414 - lr: 1.6905e-05\n",
      "Epoch 22/40\n",
      "502/502 [==============================] - 63s 125ms/step - loss: 0.4907 - accuracy: 0.7880 - val_loss: 0.7705 - val_accuracy: 0.7219 - lr: 1.5637e-05\n",
      "Epoch 23/40\n",
      "502/502 [==============================] - 64s 127ms/step - loss: 0.4906 - accuracy: 0.7899 - val_loss: 0.7529 - val_accuracy: 0.7324 - lr: 1.4363e-05\n",
      "Epoch 24/40\n",
      "502/502 [==============================] - 62s 123ms/step - loss: 0.4842 - accuracy: 0.7898 - val_loss: 0.7793 - val_accuracy: 0.7224 - lr: 1.3095e-05\n",
      "Epoch 25/40\n",
      "502/502 [==============================] - 63s 125ms/step - loss: 0.4864 - accuracy: 0.7875 - val_loss: 0.8005 - val_accuracy: 0.7234 - lr: 1.1840e-05\n",
      "Epoch 26/40\n",
      "502/502 [==============================] - 63s 125ms/step - loss: 0.4911 - accuracy: 0.7862 - val_loss: 0.8452 - val_accuracy: 0.7314 - lr: 1.0608e-05\n",
      "Epoch 27/40\n",
      "502/502 [==============================] - 62s 124ms/step - loss: 0.4796 - accuracy: 0.7896 - val_loss: 0.8479 - val_accuracy: 0.7304 - lr: 9.4072e-06\n",
      "Epoch 28/40\n",
      "502/502 [==============================] - 64s 127ms/step - loss: 0.4823 - accuracy: 0.7913 - val_loss: 0.8666 - val_accuracy: 0.7119 - lr: 8.2469e-06\n",
      "Epoch 29/40\n",
      "502/502 [==============================] - 63s 126ms/step - loss: 0.4804 - accuracy: 0.7929 - val_loss: 0.8858 - val_accuracy: 0.7179 - lr: 7.1354e-06\n",
      "Epoch 30/40\n",
      "502/502 [==============================] - 62s 123ms/step - loss: 0.4927 - accuracy: 0.7919 - val_loss: 0.8390 - val_accuracy: 0.7264 - lr: 6.0805e-06\n",
      "Epoch 31/40\n",
      "502/502 [==============================] - 63s 125ms/step - loss: 0.4831 - accuracy: 0.7875 - val_loss: 0.8933 - val_accuracy: 0.7154 - lr: 5.0899e-06\n",
      "Epoch 32/40\n",
      "502/502 [==============================] - 62s 124ms/step - loss: 0.4818 - accuracy: 0.7907 - val_loss: 0.8398 - val_accuracy: 0.7119 - lr: 4.1707e-06\n",
      "Epoch 33/40\n",
      "502/502 [==============================] - 62s 124ms/step - loss: 0.4749 - accuracy: 0.7968 - val_loss: 0.8450 - val_accuracy: 0.7074 - lr: 3.3295e-06\n",
      "Epoch 34/40\n",
      "502/502 [==============================] - 63s 125ms/step - loss: 0.4790 - accuracy: 0.7957 - val_loss: 0.8703 - val_accuracy: 0.7069 - lr: 2.5724e-06\n",
      "Epoch 35/40\n",
      "502/502 [==============================] - 62s 124ms/step - loss: 0.4828 - accuracy: 0.7918 - val_loss: 0.8999 - val_accuracy: 0.7049 - lr: 1.9048e-06\n",
      "Epoch 36/40\n",
      "502/502 [==============================] - 61s 122ms/step - loss: 0.4816 - accuracy: 0.7924 - val_loss: 0.9209 - val_accuracy: 0.7049 - lr: 1.3316e-06\n",
      "Epoch 37/40\n",
      "502/502 [==============================] - 62s 124ms/step - loss: 0.4783 - accuracy: 0.7952 - val_loss: 0.9111 - val_accuracy: 0.7054 - lr: 8.5684e-07\n",
      "Epoch 38/40\n",
      "502/502 [==============================] - 63s 126ms/step - loss: 0.4743 - accuracy: 0.7973 - val_loss: 0.9176 - val_accuracy: 0.7054 - lr: 4.8401e-07\n",
      "Epoch 39/40\n",
      "502/502 [==============================] - 64s 128ms/step - loss: 0.4785 - accuracy: 0.7918 - val_loss: 0.9122 - val_accuracy: 0.7049 - lr: 2.1576e-07\n",
      "Epoch 40/40\n",
      "502/502 [==============================] - 68s 136ms/step - loss: 0.4784 - accuracy: 0.7902 - val_loss: 0.8627 - val_accuracy: 0.7069 - lr: 5.4038e-08\n"
     ]
    }
   ],
   "source": [
    "history=train_model(model4,train_generator,valid_generator)"
   ]
  },
  {
   "cell_type": "markdown",
   "id": "1b562ec8",
   "metadata": {},
   "source": [
    "<a name=\"2.2\"></a>\n",
    "\n",
    "### train & validation loss and accuracy per epochs"
   ]
  },
  {
   "cell_type": "code",
   "execution_count": 36,
   "id": "41e4507e",
   "metadata": {},
   "outputs": [
    {
     "data": {
      "image/png": "[encoded data removed]",
      "text/plain": [
       "<Figure size 432x288 with 1 Axes>"
      ]
     },
     "metadata": {
      "needs_background": "light"
     },
     "output_type": "display_data"
    },
    {
     "data": {
      "image/png": "[encoded data removed]",
      "text/plain": [
       "<Figure size 432x288 with 1 Axes>"
      ]
     },
     "metadata": {
      "needs_background": "light"
     },
     "output_type": "display_data"
    }
   ],
   "source": [
    "draw_train_graph(history)"
   ]
  },
  {
   "cell_type": "code",
   "execution_count": 37,
   "id": "7fe02247",
   "metadata": {},
   "outputs": [
    {
     "name": "stdout",
     "output_type": "stream",
     "text": [
      "79/79 [==============================] - 8s 101ms/step - loss: 0.8752 - accuracy: 0.6866\n"
     ]
    },
    {
     "data": {
      "text/plain": [
       "[0.8751763105392456, 0.6866028904914856]"
      ]
     },
     "execution_count": 37,
     "metadata": {},
     "output_type": "execute_result"
    }
   ],
   "source": [
    "model4.evaluate(x_test,y_test)"
   ]
  },
  {
   "cell_type": "code",
   "execution_count": 39,
   "id": "be70ce2b",
   "metadata": {},
   "outputs": [
    {
     "data": {
      "text/plain": [
       "2842"
      ]
     },
     "execution_count": 39,
     "metadata": {},
     "output_type": "execute_result"
    }
   ],
   "source": [
    "del train_generator\n",
    "del valid_generator\n",
    "gc.collect()"
   ]
  },
  {
   "cell_type": "code",
   "execution_count": 40,
   "id": "cdaf4a52",
   "metadata": {},
   "outputs": [
    {
     "data": {
      "image/png": "[encoded data removed]",
      "text/plain": [
       "<Figure size 720x504 with 2 Axes>"
      ]
     },
     "metadata": {
      "needs_background": "light"
     },
     "output_type": "display_data"
    }
   ],
   "source": [
    "y_test_predict = draw_confusion_matrix(model6,x_test,y_test)"
   ]
  },
  {
   "cell_type": "code",
   "execution_count": 41,
   "id": "e4d55d66",
   "metadata": {
    "scrolled": true
   },
   "outputs": [
    {
     "name": "stdout",
     "output_type": "stream",
     "text": [
      "              precision    recall  f1-score   support\n",
      "\n",
      "    abnormal       0.69      0.99      0.81      1700\n",
      "      normal       0.70      0.07      0.12       808\n",
      "\n",
      "    accuracy                           0.69      2508\n",
      "   macro avg       0.69      0.53      0.47      2508\n",
      "weighted avg       0.69      0.69      0.59      2508\n",
      "\n"
     ]
    }
   ],
   "source": [
    "print_classification_report(y_test,  y_test_predict)"
   ]
  },
  {
   "cell_type": "code",
   "execution_count": 42,
   "id": "408a7c95",
   "metadata": {},
   "outputs": [
    {
     "name": "stdout",
     "output_type": "stream",
     "text": [
      "INFO:tensorflow:Assets written to: my_model/my_model4_acc69\\assets\n"
     ]
    }
   ],
   "source": [
    "model4.save('my_model/my_model4_acc69')"
   ]
  },
  {
   "cell_type": "markdown",
   "id": "6b5f9694",
   "metadata": {},
   "source": [
    "<a name=\"4.2\"></a>\n",
    "\n",
    "### the model on preprocessed oversampled data"
   ]
  },
  {
   "cell_type": "code",
   "execution_count": 13,
   "id": "2720396c",
   "metadata": {},
   "outputs": [],
   "source": [
    "train_path='D:/projects data/dataset/C-NMC_Leukemia/final/paper preprocessed/oversampled/'"
   ]
  },
  {
   "cell_type": "code",
   "execution_count": 14,
   "id": "43833c00",
   "metadata": {},
   "outputs": [
    {
     "name": "stdout",
     "output_type": "stream",
     "text": [
      "Found 10866 images belonging to 2 classes.\n",
      "Found 2716 images belonging to 2 classes.\n"
     ]
    }
   ],
   "source": [
    "train_generator,valid_generator = create_generators(train_path)"
   ]
  },
  {
   "cell_type": "markdown",
   "id": "3ce19748",
   "metadata": {},
   "source": [
    "<a name=\"2\"></a>\n",
    "\n",
    "### build the model"
   ]
  },
  {
   "cell_type": "code",
   "execution_count": 28,
   "id": "eef1f9f7",
   "metadata": {},
   "outputs": [
    {
     "name": "stdout",
     "output_type": "stream",
     "text": [
      "Model: \"sequential_2\"\n",
      "_________________________________________________________________\n",
      " Layer (type)                Output Shape              Param #   \n",
      "=================================================================\n",
      " conv2d_6 (Conv2D)           (None, 222, 222, 32)      896       \n",
      "                                                                 \n",
      " batch_normalization_8 (Batc  (None, 222, 222, 32)     128       \n",
      " hNormalization)                                                 \n",
      "                                                                 \n",
      " max_pooling2d_6 (MaxPooling  (None, 111, 111, 32)     0         \n",
      " 2D)                                                             \n",
      "                                                                 \n",
      " dropout_8 (Dropout)         (None, 111, 111, 32)      0         \n",
      "                                                                 \n",
      " conv2d_7 (Conv2D)           (None, 109, 109, 64)      18496     \n",
      "                                                                 \n",
      " batch_normalization_9 (Batc  (None, 109, 109, 64)     256       \n",
      " hNormalization)                                                 \n",
      "                                                                 \n",
      " max_pooling2d_7 (MaxPooling  (None, 54, 54, 64)       0         \n",
      " 2D)                                                             \n",
      "                                                                 \n",
      " dropout_9 (Dropout)         (None, 54, 54, 64)        0         \n",
      "                                                                 \n",
      " conv2d_8 (Conv2D)           (None, 52, 52, 128)       73856     \n",
      "                                                                 \n",
      " batch_normalization_10 (Bat  (None, 52, 52, 128)      512       \n",
      " chNormalization)                                                \n",
      "                                                                 \n",
      " max_pooling2d_8 (MaxPooling  (None, 26, 26, 128)      0         \n",
      " 2D)                                                             \n",
      "                                                                 \n",
      " dropout_10 (Dropout)        (None, 26, 26, 128)       0         \n",
      "                                                                 \n",
      " flatten_2 (Flatten)         (None, 86528)             0         \n",
      "                                                                 \n",
      " dense_4 (Dense)             (None, 512)               44302848  \n",
      "                                                                 \n",
      " batch_normalization_11 (Bat  (None, 512)              2048      \n",
      " chNormalization)                                                \n",
      "                                                                 \n",
      " dropout_11 (Dropout)        (None, 512)               0         \n",
      "                                                                 \n",
      " dense_5 (Dense)             (None, 1)                 513       \n",
      "                                                                 \n",
      "=================================================================\n",
      "Total params: 44,399,553\n",
      "Trainable params: 44,398,081\n",
      "Non-trainable params: 1,472\n",
      "_________________________________________________________________\n"
     ]
    }
   ],
   "source": [
    "model5=build_model()\n",
    "\n",
    "model5.summary()"
   ]
  },
  {
   "cell_type": "markdown",
   "id": "d6628975",
   "metadata": {},
   "source": [
    "<a name=\"2.1\"></a>\n",
    "\n",
    "### model complie & train"
   ]
  },
  {
   "cell_type": "code",
   "execution_count": 29,
   "id": "cd727653",
   "metadata": {},
   "outputs": [
    {
     "name": "stdout",
     "output_type": "stream",
     "text": [
      "Epoch 1/40\n",
      "340/340 [==============================] - 256s 750ms/step - loss: 1.0647 - accuracy: 0.4732 - val_loss: 0.9158 - val_accuracy: 0.5000 - lr: 1.0000e-08\n",
      "Epoch 2/40\n",
      "340/340 [==============================] - 84s 247ms/step - loss: 0.6054 - accuracy: 0.7487 - val_loss: 0.3822 - val_accuracy: 0.8675 - lr: 1.0007e-05\n",
      "Epoch 3/40\n",
      "340/340 [==============================] - 83s 244ms/step - loss: 0.5347 - accuracy: 0.7740 - val_loss: 0.4154 - val_accuracy: 0.7971 - lr: 2.0003e-05\n",
      "Epoch 4/40\n",
      "340/340 [==============================] - 83s 243ms/step - loss: 0.5099 - accuracy: 0.7782 - val_loss: 0.4401 - val_accuracy: 0.7784 - lr: 3.0000e-05\n",
      "Epoch 5/40\n",
      "340/340 [==============================] - 83s 244ms/step - loss: 0.4837 - accuracy: 0.7857 - val_loss: 0.4901 - val_accuracy: 0.6808 - lr: 2.9946e-05\n",
      "Epoch 6/40\n",
      "340/340 [==============================] - 82s 242ms/step - loss: 0.4646 - accuracy: 0.7937 - val_loss: 0.5676 - val_accuracy: 0.5884 - lr: 2.9784e-05\n",
      "Epoch 7/40\n",
      "340/340 [==============================] - 82s 241ms/step - loss: 0.4560 - accuracy: 0.7956 - val_loss: 0.4423 - val_accuracy: 0.8126 - lr: 2.9516e-05\n",
      "Epoch 8/40\n",
      "340/340 [==============================] - 84s 246ms/step - loss: 0.4504 - accuracy: 0.7954 - val_loss: 0.7115 - val_accuracy: 0.5604 - lr: 2.9143e-05\n",
      "Epoch 9/40\n",
      "340/340 [==============================] - 86s 254ms/step - loss: 0.4415 - accuracy: 0.8028 - val_loss: 0.5632 - val_accuracy: 0.6403 - lr: 2.8668e-05\n",
      "Epoch 10/40\n",
      "340/340 [==============================] - 87s 255ms/step - loss: 0.4371 - accuracy: 0.8076 - val_loss: 0.5024 - val_accuracy: 0.7095 - lr: 2.8095e-05\n",
      "Epoch 11/40\n",
      "340/340 [==============================] - 85s 250ms/step - loss: 0.4308 - accuracy: 0.8115 - val_loss: 0.5194 - val_accuracy: 0.6845 - lr: 2.7428e-05\n",
      "Epoch 12/40\n",
      "340/340 [==============================] - 82s 242ms/step - loss: 0.4272 - accuracy: 0.8124 - val_loss: 0.6246 - val_accuracy: 0.5762 - lr: 2.6671e-05\n",
      "Epoch 13/40\n",
      "340/340 [==============================] - 83s 243ms/step - loss: 0.4279 - accuracy: 0.8115 - val_loss: 0.4125 - val_accuracy: 0.8288 - lr: 2.5829e-05\n",
      "Epoch 14/40\n",
      "340/340 [==============================] - 87s 256ms/step - loss: 0.4208 - accuracy: 0.8162 - val_loss: 0.4337 - val_accuracy: 0.7905 - lr: 2.4910e-05\n",
      "Epoch 15/40\n",
      "340/340 [==============================] - 89s 261ms/step - loss: 0.4219 - accuracy: 0.8124 - val_loss: 0.4574 - val_accuracy: 0.7986 - lr: 2.3919e-05\n",
      "Epoch 16/40\n",
      "340/340 [==============================] - 86s 253ms/step - loss: 0.4193 - accuracy: 0.8147 - val_loss: 0.4460 - val_accuracy: 0.7754 - lr: 2.2865e-05\n",
      "Epoch 17/40\n",
      "340/340 [==============================] - 85s 249ms/step - loss: 0.4116 - accuracy: 0.8196 - val_loss: 0.4207 - val_accuracy: 0.8056 - lr: 2.1753e-05\n",
      "Epoch 18/40\n",
      "340/340 [==============================] - 85s 251ms/step - loss: 0.4027 - accuracy: 0.8233 - val_loss: 0.4070 - val_accuracy: 0.8130 - lr: 2.0593e-05\n",
      "Epoch 19/40\n",
      "340/340 [==============================] - 82s 242ms/step - loss: 0.4124 - accuracy: 0.8183 - val_loss: 0.4039 - val_accuracy: 0.8258 - lr: 1.9392e-05\n",
      "Epoch 20/40\n",
      "340/340 [==============================] - 85s 249ms/step - loss: 0.4004 - accuracy: 0.8247 - val_loss: 0.3960 - val_accuracy: 0.8376 - lr: 1.8160e-05\n",
      "Epoch 21/40\n",
      "340/340 [==============================] - 83s 243ms/step - loss: 0.4033 - accuracy: 0.8236 - val_loss: 0.3742 - val_accuracy: 0.8494 - lr: 1.6905e-05\n",
      "Epoch 22/40\n",
      "340/340 [==============================] - 83s 244ms/step - loss: 0.4028 - accuracy: 0.8271 - val_loss: 0.3493 - val_accuracy: 0.8652 - lr: 1.5637e-05\n",
      "Epoch 23/40\n",
      "340/340 [==============================] - 84s 246ms/step - loss: 0.4020 - accuracy: 0.8238 - val_loss: 0.3192 - val_accuracy: 0.8792 - lr: 1.4363e-05\n",
      "Epoch 24/40\n",
      "340/340 [==============================] - 82s 242ms/step - loss: 0.3998 - accuracy: 0.8273 - val_loss: 0.3253 - val_accuracy: 0.8825 - lr: 1.3095e-05\n",
      "Epoch 25/40\n",
      "340/340 [==============================] - 82s 240ms/step - loss: 0.4017 - accuracy: 0.8285 - val_loss: 0.3260 - val_accuracy: 0.8851 - lr: 1.1840e-05\n",
      "Epoch 26/40\n",
      "340/340 [==============================] - 85s 250ms/step - loss: 0.3953 - accuracy: 0.8260 - val_loss: 0.3391 - val_accuracy: 0.8733 - lr: 1.0608e-05\n",
      "Epoch 27/40\n",
      "340/340 [==============================] - 84s 246ms/step - loss: 0.3961 - accuracy: 0.8261 - val_loss: 0.3266 - val_accuracy: 0.8829 - lr: 9.4072e-06\n",
      "Epoch 28/40\n",
      "340/340 [==============================] - 83s 244ms/step - loss: 0.3886 - accuracy: 0.8293 - val_loss: 0.3332 - val_accuracy: 0.8737 - lr: 8.2469e-06\n",
      "Epoch 29/40\n",
      "340/340 [==============================] - 85s 249ms/step - loss: 0.3980 - accuracy: 0.8260 - val_loss: 0.3392 - val_accuracy: 0.8708 - lr: 7.1354e-06\n",
      "Epoch 30/40\n",
      "340/340 [==============================] - 84s 248ms/step - loss: 0.3930 - accuracy: 0.8308 - val_loss: 0.3288 - val_accuracy: 0.8767 - lr: 6.0805e-06\n",
      "Epoch 31/40\n",
      "340/340 [==============================] - 82s 242ms/step - loss: 0.3960 - accuracy: 0.8289 - val_loss: 0.3382 - val_accuracy: 0.8649 - lr: 5.0899e-06\n",
      "Epoch 32/40\n",
      "340/340 [==============================] - 85s 249ms/step - loss: 0.3879 - accuracy: 0.8314 - val_loss: 0.3380 - val_accuracy: 0.8686 - lr: 4.1707e-06\n",
      "Epoch 33/40\n",
      "340/340 [==============================] - 83s 244ms/step - loss: 0.3864 - accuracy: 0.8304 - val_loss: 0.3137 - val_accuracy: 0.8873 - lr: 3.3295e-06\n",
      "Epoch 34/40\n",
      "340/340 [==============================] - 83s 245ms/step - loss: 0.3892 - accuracy: 0.8301 - val_loss: 0.3102 - val_accuracy: 0.8870 - lr: 2.5724e-06\n",
      "Epoch 35/40\n",
      "340/340 [==============================] - 84s 248ms/step - loss: 0.3895 - accuracy: 0.8323 - val_loss: 0.3089 - val_accuracy: 0.8866 - lr: 1.9048e-06\n",
      "Epoch 36/40\n",
      "340/340 [==============================] - 83s 244ms/step - loss: 0.3871 - accuracy: 0.8349 - val_loss: 0.3084 - val_accuracy: 0.8888 - lr: 1.3316e-06\n",
      "Epoch 37/40\n",
      "340/340 [==============================] - 83s 243ms/step - loss: 0.3917 - accuracy: 0.8284 - val_loss: 0.3225 - val_accuracy: 0.8800 - lr: 8.5684e-07\n",
      "Epoch 38/40\n",
      "340/340 [==============================] - 85s 250ms/step - loss: 0.3877 - accuracy: 0.8329 - val_loss: 0.3169 - val_accuracy: 0.8855 - lr: 4.8401e-07\n",
      "Epoch 39/40\n",
      "340/340 [==============================] - 83s 242ms/step - loss: 0.3867 - accuracy: 0.8318 - val_loss: 0.3175 - val_accuracy: 0.8848 - lr: 2.1576e-07\n",
      "Epoch 40/40\n",
      "340/340 [==============================] - 82s 241ms/step - loss: 0.3866 - accuracy: 0.8293 - val_loss: 0.3198 - val_accuracy: 0.8837 - lr: 5.4038e-08\n"
     ]
    }
   ],
   "source": [
    "history=train_model(model5,train_generator,valid_generator)"
   ]
  },
  {
   "cell_type": "markdown",
   "id": "c71773dd",
   "metadata": {},
   "source": [
    "<a name=\"2.2\"></a>\n",
    "\n",
    "### train & validation loss and accuracy per epochs"
   ]
  },
  {
   "cell_type": "code",
   "execution_count": 30,
   "id": "ee6d2ca0",
   "metadata": {},
   "outputs": [
    {
     "data": {
      "image/png": "[encoded data removed]",
      "text/plain": [
       "<Figure size 432x288 with 1 Axes>"
      ]
     },
     "metadata": {
      "needs_background": "light"
     },
     "output_type": "display_data"
    },
    {
     "data": {
      "image/png": "[encoded data removed]",
      "text/plain": [
       "<Figure size 432x288 with 1 Axes>"
      ]
     },
     "metadata": {
      "needs_background": "light"
     },
     "output_type": "display_data"
    }
   ],
   "source": [
    "draw_train_graph(history)"
   ]
  },
  {
   "cell_type": "code",
   "execution_count": 34,
   "id": "5cc2a4d0",
   "metadata": {},
   "outputs": [
    {
     "data": {
      "text/plain": [
       "<AxesSubplot:>"
      ]
     },
     "execution_count": 34,
     "metadata": {},
     "output_type": "execute_result"
    },
    {
     "data": {
      "image/png": "[encoded data removed]",
      "text/plain": [
       "<Figure size 720x504 with 2 Axes>"
      ]
     },
     "metadata": {
      "needs_background": "light"
     },
     "output_type": "display_data"
    }
   ],
   "source": [
    "y_test_predict = draw_confusion_matrix(model6,x_test,y_test)"
   ]
  },
  {
   "cell_type": "code",
   "execution_count": 35,
   "id": "630c771d",
   "metadata": {
    "scrolled": true
   },
   "outputs": [
    {
     "name": "stdout",
     "output_type": "stream",
     "text": [
      "              precision    recall  f1-score   support\n",
      "\n",
      "    abnormal       0.73      0.88      0.80      1700\n",
      "      normal       0.55      0.30      0.39       808\n",
      "\n",
      "    accuracy                           0.70      2508\n",
      "   macro avg       0.64      0.59      0.59      2508\n",
      "weighted avg       0.67      0.70      0.67      2508\n",
      "\n"
     ]
    }
   ],
   "source": [
    "print_classification_report(y_test,  y_test_predict)"
   ]
  },
  {
   "cell_type": "code",
   "execution_count": 32,
   "id": "6acf9025",
   "metadata": {},
   "outputs": [
    {
     "name": "stdout",
     "output_type": "stream",
     "text": [
      "INFO:tensorflow:Assets written to: my_model5_acc88\\assets\n"
     ]
    }
   ],
   "source": [
    "model5.save('my_model5_acc88')"
   ]
  },
  {
   "cell_type": "code",
   "execution_count": 19,
   "id": "c28412ac",
   "metadata": {},
   "outputs": [
    {
     "data": {
      "text/plain": [
       "array([[0.]], dtype=float32)"
      ]
     },
     "execution_count": 19,
     "metadata": {},
     "output_type": "execute_result"
    }
   ],
   "source": [
    "image=np.expand_dims(x_test[1],axis=0)\n",
    "\n",
    "np.round(model5.predict(image))"
   ]
  },
  {
   "cell_type": "code",
   "execution_count": 18,
   "id": "a4e1882e",
   "metadata": {},
   "outputs": [
    {
     "data": {
      "text/plain": [
       "0"
      ]
     },
     "execution_count": 18,
     "metadata": {},
     "output_type": "execute_result"
    }
   ],
   "source": [
    "y_test[1]"
   ]
  },
  {
   "cell_type": "markdown",
   "id": "540c75a4",
   "metadata": {},
   "source": [
    "<a name=\"4.3\"></a>\n",
    "\n",
    "### the model on undersampled preprocessed data"
   ]
  },
  {
   "cell_type": "code",
   "execution_count": 12,
   "id": "151895f0",
   "metadata": {},
   "outputs": [],
   "source": [
    "train_path='D:/projects data/dataset/C-NMC_Leukemia/final/paper preprocessed/undersampled/'"
   ]
  },
  {
   "cell_type": "code",
   "execution_count": 16,
   "id": "10af735b",
   "metadata": {},
   "outputs": [
    {
     "name": "stdout",
     "output_type": "stream",
     "text": [
      "Found 5168 images belonging to 2 classes.\n",
      "Found 1290 images belonging to 2 classes.\n"
     ]
    }
   ],
   "source": [
    "train_generator ,valid_generator = create_generators(train_path)"
   ]
  },
  {
   "cell_type": "code",
   "execution_count": 14,
   "id": "d970a795",
   "metadata": {},
   "outputs": [
    {
     "name": "stdout",
     "output_type": "stream",
     "text": [
      "Model: \"sequential\"\n",
      "_________________________________________________________________\n",
      " Layer (type)                Output Shape              Param #   \n",
      "=================================================================\n",
      " conv2d (Conv2D)             (None, 222, 222, 32)      896       \n",
      "                                                                 \n",
      " batch_normalization (BatchN  (None, 222, 222, 32)     128       \n",
      " ormalization)                                                   \n",
      "                                                                 \n",
      " max_pooling2d (MaxPooling2D  (None, 111, 111, 32)     0         \n",
      " )                                                               \n",
      "                                                                 \n",
      " dropout (Dropout)           (None, 111, 111, 32)      0         \n",
      "                                                                 \n",
      " conv2d_1 (Conv2D)           (None, 109, 109, 64)      18496     \n",
      "                                                                 \n",
      " batch_normalization_1 (Batc  (None, 109, 109, 64)     256       \n",
      " hNormalization)                                                 \n",
      "                                                                 \n",
      " max_pooling2d_1 (MaxPooling  (None, 54, 54, 64)       0         \n",
      " 2D)                                                             \n",
      "                                                                 \n",
      " dropout_1 (Dropout)         (None, 54, 54, 64)        0         \n",
      "                                                                 \n",
      " conv2d_2 (Conv2D)           (None, 52, 52, 128)       73856     \n",
      "                                                                 \n",
      " batch_normalization_2 (Batc  (None, 52, 52, 128)      512       \n",
      " hNormalization)                                                 \n",
      "                                                                 \n",
      " max_pooling2d_2 (MaxPooling  (None, 26, 26, 128)      0         \n",
      " 2D)                                                             \n",
      "                                                                 \n",
      " dropout_2 (Dropout)         (None, 26, 26, 128)       0         \n",
      "                                                                 \n",
      " flatten (Flatten)           (None, 86528)             0         \n",
      "                                                                 \n",
      " dense (Dense)               (None, 512)               44302848  \n",
      "                                                                 \n",
      " batch_normalization_3 (Batc  (None, 512)              2048      \n",
      " hNormalization)                                                 \n",
      "                                                                 \n",
      " dropout_3 (Dropout)         (None, 512)               0         \n",
      "                                                                 \n",
      " dense_1 (Dense)             (None, 1)                 513       \n",
      "                                                                 \n",
      "=================================================================\n",
      "Total params: 44,399,553\n",
      "Trainable params: 44,398,081\n",
      "Non-trainable params: 1,472\n",
      "_________________________________________________________________\n"
     ]
    }
   ],
   "source": [
    "model6=build_model()\n",
    "model6.summary()"
   ]
  },
  {
   "cell_type": "code",
   "execution_count": 19,
   "id": "2ef78fc3",
   "metadata": {
    "scrolled": false
   },
   "outputs": [
    {
     "name": "stdout",
     "output_type": "stream",
     "text": [
      "Epoch 1/40\n",
      "323/323 [==============================] - ETA: 0s - loss: 1.1598 - accuracy: 0.4420INFO:tensorflow:Assets written to: ./my_model\\checkpoint\\assets\n",
      "323/323 [==============================] - 221s 669ms/step - loss: 1.1598 - accuracy: 0.4420 - val_loss: 0.7304 - val_accuracy: 0.4868 - lr: 1.0000e-08\n",
      "Epoch 2/40\n",
      "323/323 [==============================] - ETA: 0s - loss: 0.7876 - accuracy: 0.6548INFO:tensorflow:Assets written to: ./my_model\\checkpoint\\assets\n",
      "323/323 [==============================] - 42s 129ms/step - loss: 0.7876 - accuracy: 0.6548 - val_loss: 0.5635 - val_accuracy: 0.7124 - lr: 1.0007e-05\n",
      "Epoch 3/40\n",
      "323/323 [==============================] - 41s 128ms/step - loss: 0.7577 - accuracy: 0.6527 - val_loss: 0.6015 - val_accuracy: 0.6302 - lr: 2.0003e-05\n",
      "Epoch 4/40\n",
      "323/323 [==============================] - ETA: 0s - loss: 0.7083 - accuracy: 0.6600INFO:tensorflow:Assets written to: ./my_model\\checkpoint\\assets\n",
      "323/323 [==============================] - 46s 141ms/step - loss: 0.7083 - accuracy: 0.6600 - val_loss: 0.5265 - val_accuracy: 0.7171 - lr: 3.0000e-05\n",
      "Epoch 5/40\n",
      "323/323 [==============================] - 41s 125ms/step - loss: 0.6972 - accuracy: 0.6592 - val_loss: 0.5586 - val_accuracy: 0.6566 - lr: 2.9946e-05\n",
      "Epoch 6/40\n",
      "323/323 [==============================] - ETA: 0s - loss: 0.6786 - accuracy: 0.6678INFO:tensorflow:Assets written to: ./my_model\\checkpoint\\assets\n",
      "323/323 [==============================] - 43s 133ms/step - loss: 0.6786 - accuracy: 0.6678 - val_loss: 0.5093 - val_accuracy: 0.7868 - lr: 2.9784e-05\n",
      "Epoch 7/40\n",
      "323/323 [==============================] - 40s 122ms/step - loss: 0.6580 - accuracy: 0.6747 - val_loss: 0.5920 - val_accuracy: 0.6318 - lr: 2.9516e-05\n",
      "Epoch 8/40\n",
      "323/323 [==============================] - 41s 125ms/step - loss: 0.6385 - accuracy: 0.6836 - val_loss: 0.5408 - val_accuracy: 0.6930 - lr: 2.9143e-05\n",
      "Epoch 9/40\n",
      "323/323 [==============================] - 40s 124ms/step - loss: 0.6219 - accuracy: 0.6916 - val_loss: 0.5198 - val_accuracy: 0.7605 - lr: 2.8668e-05\n",
      "Epoch 10/40\n",
      "323/323 [==============================] - 40s 124ms/step - loss: 0.6360 - accuracy: 0.6881 - val_loss: 0.5586 - val_accuracy: 0.6721 - lr: 2.8095e-05\n",
      "Epoch 11/40\n",
      "323/323 [==============================] - 40s 122ms/step - loss: 0.6482 - accuracy: 0.6771 - val_loss: 0.5233 - val_accuracy: 0.7659 - lr: 2.7428e-05\n",
      "Epoch 12/40\n",
      "323/323 [==============================] - 40s 124ms/step - loss: 0.6321 - accuracy: 0.6904 - val_loss: 0.5326 - val_accuracy: 0.7434 - lr: 2.6671e-05\n",
      "Epoch 13/40\n",
      "323/323 [==============================] - 40s 125ms/step - loss: 0.6215 - accuracy: 0.6943 - val_loss: 0.5410 - val_accuracy: 0.7636 - lr: 2.5829e-05\n",
      "Epoch 14/40\n",
      "323/323 [==============================] - 40s 123ms/step - loss: 0.5967 - accuracy: 0.7094 - val_loss: 0.5636 - val_accuracy: 0.7101 - lr: 2.4910e-05\n",
      "Epoch 15/40\n",
      "323/323 [==============================] - 40s 125ms/step - loss: 0.6158 - accuracy: 0.6931 - val_loss: 0.5577 - val_accuracy: 0.7240 - lr: 2.3919e-05\n",
      "Epoch 16/40\n",
      "323/323 [==============================] - 40s 123ms/step - loss: 0.5988 - accuracy: 0.7084 - val_loss: 0.5568 - val_accuracy: 0.7372 - lr: 2.2865e-05\n",
      "Epoch 17/40\n",
      "323/323 [==============================] - 39s 122ms/step - loss: 0.6026 - accuracy: 0.7088 - val_loss: 0.5542 - val_accuracy: 0.7248 - lr: 2.1753e-05\n",
      "Epoch 18/40\n",
      "323/323 [==============================] - 41s 127ms/step - loss: 0.5917 - accuracy: 0.7134 - val_loss: 0.6157 - val_accuracy: 0.6752 - lr: 2.0593e-05\n",
      "Epoch 19/40\n",
      "323/323 [==============================] - 40s 124ms/step - loss: 0.5931 - accuracy: 0.7059 - val_loss: 0.5963 - val_accuracy: 0.6899 - lr: 1.9392e-05\n",
      "Epoch 20/40\n",
      "323/323 [==============================] - 40s 122ms/step - loss: 0.5886 - accuracy: 0.7167 - val_loss: 0.5794 - val_accuracy: 0.7008 - lr: 1.8160e-05\n",
      "Epoch 21/40\n",
      "323/323 [==============================] - 41s 126ms/step - loss: 0.6002 - accuracy: 0.6991 - val_loss: 0.6313 - val_accuracy: 0.6643 - lr: 1.6905e-05\n",
      "Epoch 22/40\n",
      "323/323 [==============================] - 40s 123ms/step - loss: 0.5874 - accuracy: 0.7084 - val_loss: 0.5442 - val_accuracy: 0.7426 - lr: 1.5637e-05\n",
      "Epoch 23/40\n",
      "323/323 [==============================] - 40s 123ms/step - loss: 0.5774 - accuracy: 0.7198 - val_loss: 0.6723 - val_accuracy: 0.6450 - lr: 1.4363e-05\n",
      "Epoch 24/40\n",
      "323/323 [==============================] - 40s 124ms/step - loss: 0.5909 - accuracy: 0.7121 - val_loss: 0.7312 - val_accuracy: 0.6209 - lr: 1.3095e-05\n",
      "Epoch 25/40\n",
      "323/323 [==============================] - 41s 126ms/step - loss: 0.5787 - accuracy: 0.7212 - val_loss: 0.6725 - val_accuracy: 0.6674 - lr: 1.1840e-05\n",
      "Epoch 26/40\n",
      "323/323 [==============================] - 40s 122ms/step - loss: 0.5705 - accuracy: 0.7212 - val_loss: 0.6186 - val_accuracy: 0.7488 - lr: 1.0608e-05\n",
      "Epoch 27/40\n",
      "323/323 [==============================] - 40s 124ms/step - loss: 0.5805 - accuracy: 0.7150 - val_loss: 0.8287 - val_accuracy: 0.5705 - lr: 9.4072e-06\n",
      "Epoch 28/40\n",
      "323/323 [==============================] - 40s 124ms/step - loss: 0.5759 - accuracy: 0.7217 - val_loss: 0.7761 - val_accuracy: 0.6062 - lr: 8.2469e-06\n",
      "Epoch 29/40\n",
      "323/323 [==============================] - 40s 124ms/step - loss: 0.5747 - accuracy: 0.7200 - val_loss: 0.8403 - val_accuracy: 0.5961 - lr: 7.1354e-06\n",
      "Epoch 30/40\n",
      "323/323 [==============================] - 40s 125ms/step - loss: 0.5649 - accuracy: 0.7308 - val_loss: 0.8496 - val_accuracy: 0.6062 - lr: 6.0805e-06\n",
      "Epoch 31/40\n",
      "323/323 [==============================] - 40s 123ms/step - loss: 0.5736 - accuracy: 0.7235 - val_loss: 0.8730 - val_accuracy: 0.5930 - lr: 5.0899e-06\n",
      "Epoch 32/40\n",
      "323/323 [==============================] - 40s 123ms/step - loss: 0.5732 - accuracy: 0.7254 - val_loss: 0.8469 - val_accuracy: 0.6000 - lr: 4.1707e-06\n",
      "Epoch 33/40\n",
      "323/323 [==============================] - 41s 128ms/step - loss: 0.5704 - accuracy: 0.7256 - val_loss: 0.8433 - val_accuracy: 0.6085 - lr: 3.3295e-06\n",
      "Epoch 34/40\n",
      "323/323 [==============================] - 40s 124ms/step - loss: 0.5621 - accuracy: 0.7285 - val_loss: 0.8510 - val_accuracy: 0.6000 - lr: 2.5724e-06\n",
      "Epoch 35/40\n",
      "323/323 [==============================] - 40s 123ms/step - loss: 0.5763 - accuracy: 0.7231 - val_loss: 0.8652 - val_accuracy: 0.5845 - lr: 1.9048e-06\n",
      "Epoch 36/40\n",
      "323/323 [==============================] - 40s 125ms/step - loss: 0.5679 - accuracy: 0.7285 - val_loss: 0.8864 - val_accuracy: 0.5884 - lr: 1.3316e-06\n",
      "Epoch 37/40\n",
      "323/323 [==============================] - 41s 126ms/step - loss: 0.5607 - accuracy: 0.7324 - val_loss: 0.8493 - val_accuracy: 0.6008 - lr: 8.5684e-07\n",
      "Epoch 38/40\n",
      "323/323 [==============================] - 40s 122ms/step - loss: 0.5662 - accuracy: 0.7250 - val_loss: 0.8620 - val_accuracy: 0.5930 - lr: 4.8401e-07\n",
      "Epoch 39/40\n",
      "323/323 [==============================] - 40s 125ms/step - loss: 0.5609 - accuracy: 0.7268 - val_loss: 0.8719 - val_accuracy: 0.5953 - lr: 2.1576e-07\n",
      "Epoch 40/40\n",
      "323/323 [==============================] - 40s 123ms/step - loss: 0.5617 - accuracy: 0.7274 - val_loss: 0.8497 - val_accuracy: 0.6016 - lr: 5.4038e-08\n"
     ]
    }
   ],
   "source": [
    "history= train_model(model6 ,train_generator ,valid_generator)"
   ]
  },
  {
   "cell_type": "code",
   "execution_count": 21,
   "id": "9df14dd2",
   "metadata": {},
   "outputs": [
    {
     "data": {
      "image/png": "[encoded data removed]",
      "text/plain": [
       "<Figure size 432x288 with 1 Axes>"
      ]
     },
     "metadata": {
      "needs_background": "light"
     },
     "output_type": "display_data"
    },
    {
     "data": {
      "image/png": "[encoded data removed]",
      "text/plain": [
       "<Figure size 432x288 with 1 Axes>"
      ]
     },
     "metadata": {
      "needs_background": "light"
     },
     "output_type": "display_data"
    }
   ],
   "source": [
    "draw_train_graph(history)"
   ]
  },
  {
   "cell_type": "code",
   "execution_count": 23,
   "id": "44c7d4cc",
   "metadata": {},
   "outputs": [
    {
     "name": "stdout",
     "output_type": "stream",
     "text": [
      "79/79 [==============================] - 2s 21ms/step - loss: 0.7437 - accuracy: 0.6898\n"
     ]
    },
    {
     "data": {
      "text/plain": [
       "[0.7436928749084473, 0.6897926926612854]"
      ]
     },
     "execution_count": 23,
     "metadata": {},
     "output_type": "execute_result"
    }
   ],
   "source": [
    "model6.evaluate(x_test,y_test)"
   ]
  },
  {
   "cell_type": "code",
   "execution_count": 25,
   "id": "161e4185",
   "metadata": {},
   "outputs": [
    {
     "data": {
      "text/plain": [
       "18765"
      ]
     },
     "execution_count": 25,
     "metadata": {},
     "output_type": "execute_result"
    }
   ],
   "source": [
    "import gc\n",
    "del train_generator\n",
    "del valid_generator\n",
    "gc.collect()\n"
   ]
  },
  {
   "cell_type": "code",
   "execution_count": 26,
   "id": "57939d2c",
   "metadata": {},
   "outputs": [
    {
     "data": {
      "image/png": "[encoded data removed]",
      "text/plain": [
       "<Figure size 720x504 with 2 Axes>"
      ]
     },
     "metadata": {
      "needs_background": "light"
     },
     "output_type": "display_data"
    }
   ],
   "source": [
    "y_test_predict = draw_confusion_matrix(model6,x_test,y_test)"
   ]
  },
  {
   "cell_type": "code",
   "execution_count": 27,
   "id": "32edd95b",
   "metadata": {},
   "outputs": [
    {
     "name": "stdout",
     "output_type": "stream",
     "text": [
      "              precision    recall  f1-score   support\n",
      "\n",
      "    abnormal       0.69      0.99      0.81      1700\n",
      "      normal       0.70      0.07      0.12       808\n",
      "\n",
      "    accuracy                           0.69      2508\n",
      "   macro avg       0.69      0.53      0.47      2508\n",
      "weighted avg       0.69      0.69      0.59      2508\n",
      "\n"
     ]
    }
   ],
   "source": [
    "print_classification_report(y_test,  y_test_predict)"
   ]
  },
  {
   "cell_type": "code",
   "execution_count": 31,
   "id": "98e4c1ea",
   "metadata": {},
   "outputs": [
    {
     "name": "stdout",
     "output_type": "stream",
     "text": [
      "INFO:tensorflow:Assets written to: my_model/my_model6_acc69\\assets\n"
     ]
    }
   ],
   "source": [
    "model6.save('my_model/my_model6_acc69')"
   ]
  },
  {
   "cell_type": "code",
   "execution_count": null,
   "id": "aa910338",
   "metadata": {},
   "outputs": [],
   "source": []
  }
 ],
 "metadata": {
  "kernelspec": {
   "display_name": "Python 3",
   "language": "python",
   "name": "python3"
  },
  "language_info": {
   "codemirror_mode": {
    "name": "ipython",
    "version": 3
   },
   "file_extension": ".py",
   "mimetype": "text/x-python",
   "name": "python",
   "nbconvert_exporter": "python",
   "pygments_lexer": "ipython3",
   "version": "3.8.8"
  }
 },
 "nbformat": 4,
 "nbformat_minor": 5
}
